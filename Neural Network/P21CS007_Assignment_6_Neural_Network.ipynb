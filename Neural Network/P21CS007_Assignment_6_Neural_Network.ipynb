{
  "nbformat": 4,
  "nbformat_minor": 0,
  "metadata": {
    "colab": {
      "name": "P21CS007_Assignment_6_Neural_Network.ipynb",
      "provenance": [],
      "collapsed_sections": []
    },
    "kernelspec": {
      "name": "python3",
      "display_name": "Python 3"
    },
    "language_info": {
      "name": "python"
    }
  },
  "cells": [
    {
      "cell_type": "code",
      "metadata": {
        "id": "JkTBFVBPhOnz"
      },
      "source": [
        "import pandas as pd\n",
        "import torch\n",
        "import torchvision\n",
        "from sklearn.datasets import load_boston\n",
        "import matplotlib.pyplot as plt\n",
        "import numpy as np\n",
        "import pandas as pd\n",
        "import seaborn as sns\n",
        "import torch.nn as nn\n",
        "import torch.optim as optim\n",
        "import torch.nn.functional as F\n",
        "from sklearn.model_selection import train_test_split\n",
        "from sklearn.preprocessing import StandardScaler\n",
        "from sklearn.metrics import r2_score"
      ],
      "execution_count": null,
      "outputs": []
    },
    {
      "cell_type": "markdown",
      "metadata": {
        "id": "-ngBDZCq0nHX"
      },
      "source": [
        "#**Regression Task**"
      ]
    },
    {
      "cell_type": "code",
      "metadata": {
        "colab": {
          "base_uri": "https://localhost:8080/"
        },
        "id": "TpQd1_TIhPgC",
        "outputId": "b8cdd849-e5fa-49ee-da49-8c632df88a11"
      },
      "source": [
        "boston = load_boston()\n",
        "df = pd.DataFrame(boston.data)\n",
        "df.columns = boston.feature_names\n"
      ],
      "execution_count": null,
      "outputs": [
        {
          "output_type": "stream",
          "name": "stderr",
          "text": [
            "/usr/local/lib/python3.7/dist-packages/sklearn/utils/deprecation.py:87: FutureWarning: Function load_boston is deprecated; `load_boston` is deprecated in 1.0 and will be removed in 1.2.\n",
            "\n",
            "    The Boston housing prices dataset has an ethical problem. You can refer to\n",
            "    the documentation of this function for further details.\n",
            "\n",
            "    The scikit-learn maintainers therefore strongly discourage the use of this\n",
            "    dataset unless the purpose of the code is to study and educate about\n",
            "    ethical issues in data science and machine learning.\n",
            "\n",
            "    In this special case, you can fetch the dataset from the original\n",
            "    source::\n",
            "\n",
            "        import pandas as pd\n",
            "        import numpy as np\n",
            "\n",
            "\n",
            "        data_url = \"http://lib.stat.cmu.edu/datasets/boston\"\n",
            "        raw_df = pd.read_csv(data_url, sep=\"\\s+\", skiprows=22, header=None)\n",
            "        data = np.hstack([raw_df.values[::2, :], raw_df.values[1::2, :2]])\n",
            "        target = raw_df.values[1::2, 2]\n",
            "\n",
            "    Alternative datasets include the California housing dataset (i.e.\n",
            "    :func:`~sklearn.datasets.fetch_california_housing`) and the Ames housing\n",
            "    dataset. You can load the datasets as follows::\n",
            "\n",
            "        from sklearn.datasets import fetch_california_housing\n",
            "        housing = fetch_california_housing()\n",
            "\n",
            "    for the California housing dataset and::\n",
            "\n",
            "        from sklearn.datasets import fetch_openml\n",
            "        housing = fetch_openml(name=\"house_prices\", as_frame=True)\n",
            "\n",
            "    for the Ames housing dataset.\n",
            "    \n",
            "  warnings.warn(msg, category=FutureWarning)\n"
          ]
        }
      ]
    },
    {
      "cell_type": "code",
      "metadata": {
        "colab": {
          "base_uri": "https://localhost:8080/",
          "height": 206
        },
        "id": "2zrjk7MUhTR5",
        "outputId": "a4cc2e34-195f-4695-eef7-5074fd1e6a25"
      },
      "source": [
        "X = boston.data\n",
        "Y = boston.target\n",
        "df.head()"
      ],
      "execution_count": null,
      "outputs": [
        {
          "output_type": "execute_result",
          "data": {
            "text/html": [
              "<div>\n",
              "<style scoped>\n",
              "    .dataframe tbody tr th:only-of-type {\n",
              "        vertical-align: middle;\n",
              "    }\n",
              "\n",
              "    .dataframe tbody tr th {\n",
              "        vertical-align: top;\n",
              "    }\n",
              "\n",
              "    .dataframe thead th {\n",
              "        text-align: right;\n",
              "    }\n",
              "</style>\n",
              "<table border=\"1\" class=\"dataframe\">\n",
              "  <thead>\n",
              "    <tr style=\"text-align: right;\">\n",
              "      <th></th>\n",
              "      <th>CRIM</th>\n",
              "      <th>ZN</th>\n",
              "      <th>INDUS</th>\n",
              "      <th>CHAS</th>\n",
              "      <th>NOX</th>\n",
              "      <th>RM</th>\n",
              "      <th>AGE</th>\n",
              "      <th>DIS</th>\n",
              "      <th>RAD</th>\n",
              "      <th>TAX</th>\n",
              "      <th>PTRATIO</th>\n",
              "      <th>B</th>\n",
              "      <th>LSTAT</th>\n",
              "    </tr>\n",
              "  </thead>\n",
              "  <tbody>\n",
              "    <tr>\n",
              "      <th>0</th>\n",
              "      <td>0.00632</td>\n",
              "      <td>18.0</td>\n",
              "      <td>2.31</td>\n",
              "      <td>0.0</td>\n",
              "      <td>0.538</td>\n",
              "      <td>6.575</td>\n",
              "      <td>65.2</td>\n",
              "      <td>4.0900</td>\n",
              "      <td>1.0</td>\n",
              "      <td>296.0</td>\n",
              "      <td>15.3</td>\n",
              "      <td>396.90</td>\n",
              "      <td>4.98</td>\n",
              "    </tr>\n",
              "    <tr>\n",
              "      <th>1</th>\n",
              "      <td>0.02731</td>\n",
              "      <td>0.0</td>\n",
              "      <td>7.07</td>\n",
              "      <td>0.0</td>\n",
              "      <td>0.469</td>\n",
              "      <td>6.421</td>\n",
              "      <td>78.9</td>\n",
              "      <td>4.9671</td>\n",
              "      <td>2.0</td>\n",
              "      <td>242.0</td>\n",
              "      <td>17.8</td>\n",
              "      <td>396.90</td>\n",
              "      <td>9.14</td>\n",
              "    </tr>\n",
              "    <tr>\n",
              "      <th>2</th>\n",
              "      <td>0.02729</td>\n",
              "      <td>0.0</td>\n",
              "      <td>7.07</td>\n",
              "      <td>0.0</td>\n",
              "      <td>0.469</td>\n",
              "      <td>7.185</td>\n",
              "      <td>61.1</td>\n",
              "      <td>4.9671</td>\n",
              "      <td>2.0</td>\n",
              "      <td>242.0</td>\n",
              "      <td>17.8</td>\n",
              "      <td>392.83</td>\n",
              "      <td>4.03</td>\n",
              "    </tr>\n",
              "    <tr>\n",
              "      <th>3</th>\n",
              "      <td>0.03237</td>\n",
              "      <td>0.0</td>\n",
              "      <td>2.18</td>\n",
              "      <td>0.0</td>\n",
              "      <td>0.458</td>\n",
              "      <td>6.998</td>\n",
              "      <td>45.8</td>\n",
              "      <td>6.0622</td>\n",
              "      <td>3.0</td>\n",
              "      <td>222.0</td>\n",
              "      <td>18.7</td>\n",
              "      <td>394.63</td>\n",
              "      <td>2.94</td>\n",
              "    </tr>\n",
              "    <tr>\n",
              "      <th>4</th>\n",
              "      <td>0.06905</td>\n",
              "      <td>0.0</td>\n",
              "      <td>2.18</td>\n",
              "      <td>0.0</td>\n",
              "      <td>0.458</td>\n",
              "      <td>7.147</td>\n",
              "      <td>54.2</td>\n",
              "      <td>6.0622</td>\n",
              "      <td>3.0</td>\n",
              "      <td>222.0</td>\n",
              "      <td>18.7</td>\n",
              "      <td>396.90</td>\n",
              "      <td>5.33</td>\n",
              "    </tr>\n",
              "  </tbody>\n",
              "</table>\n",
              "</div>"
            ],
            "text/plain": [
              "      CRIM    ZN  INDUS  CHAS    NOX  ...  RAD    TAX  PTRATIO       B  LSTAT\n",
              "0  0.00632  18.0   2.31   0.0  0.538  ...  1.0  296.0     15.3  396.90   4.98\n",
              "1  0.02731   0.0   7.07   0.0  0.469  ...  2.0  242.0     17.8  396.90   9.14\n",
              "2  0.02729   0.0   7.07   0.0  0.469  ...  2.0  242.0     17.8  392.83   4.03\n",
              "3  0.03237   0.0   2.18   0.0  0.458  ...  3.0  222.0     18.7  394.63   2.94\n",
              "4  0.06905   0.0   2.18   0.0  0.458  ...  3.0  222.0     18.7  396.90   5.33\n",
              "\n",
              "[5 rows x 13 columns]"
            ]
          },
          "metadata": {},
          "execution_count": 85
        }
      ]
    },
    {
      "cell_type": "code",
      "metadata": {
        "colab": {
          "base_uri": "https://localhost:8080/"
        },
        "id": "3JnSUH8KhWUG",
        "outputId": "b9690363-27fc-4947-e3ba-4bce36b66a78"
      },
      "source": [
        "scaler = StandardScaler()\n",
        "scaler.fit(X)\n",
        "X_std = scaler.transform(X)\n",
        "\n",
        "X_train, X_valid, Y_train, Y_valid = train_test_split(X_std, Y, test_size=0.1, random_state=42,shuffle=True)\n",
        "X_train, X_test, Y_train, Y_test = train_test_split(X_train, Y_train, test_size=0.15, random_state=42,shuffle=True)\n",
        "\n",
        "print(X_train.shape)\n",
        "print(X_valid.shape)\n",
        "print(X_test.shape)"
      ],
      "execution_count": null,
      "outputs": [
        {
          "output_type": "stream",
          "name": "stdout",
          "text": [
            "(386, 13)\n",
            "(51, 13)\n",
            "(69, 13)\n"
          ]
        }
      ]
    },
    {
      "cell_type": "code",
      "metadata": {
        "id": "TlXf0a1I2SBs"
      },
      "source": [
        "x_train = torch.tensor(np.array(X_train), dtype=torch.float)\n",
        "y_train = torch.tensor(np.array(Y_train).reshape(-1, 1), dtype=torch.float)\n",
        "x_valid= torch.tensor(np.array(X_valid), dtype=torch.float)\n",
        "y_valid = torch.tensor(np.array(Y_valid).reshape(-1, 1), dtype=torch.float)\n",
        "x_test = torch.tensor(np.array(X_test), dtype=torch.float)\n",
        "y_test = torch.tensor(np.array(Y_test).reshape(-1, 1), dtype=torch.float)"
      ],
      "execution_count": null,
      "outputs": []
    },
    {
      "cell_type": "code",
      "metadata": {
        "id": "LXNeHWsUi3xJ"
      },
      "source": [
        "def regression_training(train_dataloader,valid_dataloader,model,number_epochs,optimizer):\n",
        "\n",
        "  num_epochs = number_epochs\n",
        "  train_loss_values = []\n",
        "  valid_loss_values = []\n",
        "\n",
        "  criterion = nn.MSELoss()\n",
        "\n",
        "\n",
        "  for epoch in range(num_epochs):\n",
        "\n",
        "      running_loss = 0.0\n",
        "      for x, y in train_dataloader:\n",
        "\n",
        "          output = model(x)\n",
        "          loss = criterion(output, y)\n",
        "          \n",
        "          optimizer.zero_grad()\n",
        "          loss.backward()\n",
        "          optimizer.step()\n",
        "\n",
        "          running_loss+= loss.item()\n",
        "      \n",
        "\n",
        "      train_loss_values.append(running_loss/len(train_dataloader))\n",
        "      validation_loss = regression_test(valid_dataloader,model,purpose=\"valid\")\n",
        "      valid_loss_values.append(validation_loss)\n",
        "      \n",
        "      print(\"epoch {} train loss: {:.4f} validation loss: {:.4f}\".format(epoch + 1, running_loss/len(train_dataloader),validation_loss))\n",
        "\n",
        "\n",
        "  plt.plot(np.arange(0,num_epochs),train_loss_values,label=\"training loss\")\n",
        "  plt.plot(np.arange(0,num_epochs),valid_loss_values,label=\"validation loss\")\n",
        "  plt.xlabel(\"epochs\")\n",
        "  plt.ylabel(\"loss\")\n",
        "  plt.legend()\n",
        "  plt.show()\n",
        "\n",
        "  return model"
      ],
      "execution_count": null,
      "outputs": []
    },
    {
      "cell_type": "code",
      "metadata": {
        "id": "yAu43K05nG5p"
      },
      "source": [
        "def regression_test(dataloader,model,purpose=\"test\"):\n",
        "\n",
        "  criterion = nn.MSELoss()\n",
        "  with torch.no_grad():\n",
        "    test_loss = 0  \n",
        "    for x_t,y_t in dataloader:\n",
        "        \n",
        "        pred = model(x_t)\n",
        "        loss = criterion(pred,y_t)\n",
        "        test_loss += loss \n",
        "\n",
        "\n",
        "    test_loss = test_loss/len(dataloader)\n",
        "\n",
        "    if purpose == \"test\": \n",
        "\n",
        "        print(f'test loss:{test_loss:.4f}')\n",
        "\n",
        "    return test_loss\n",
        "\n"
      ],
      "execution_count": null,
      "outputs": []
    },
    {
      "cell_type": "markdown",
      "metadata": {
        "id": "R2OmBs-A0uWe"
      },
      "source": [
        "# Network 1:\n",
        "\n",
        "No. of Layer = 4\n",
        "\n",
        "Activation Function = Relu\n",
        "\n",
        "No. of Neurons in each layer:\n",
        "\n",
        "    \n",
        "\n",
        "*   layer1(input layer) = 13\n",
        "*   layer2(hidden layer) = 32\n",
        "*   layer3(hidden layer) = 16    \n",
        "*   layer4(Output layer) = 1\n",
        "\n"
      ]
    },
    {
      "cell_type": "code",
      "metadata": {
        "colab": {
          "base_uri": "https://localhost:8080/",
          "height": 1000
        },
        "id": "Dn5fV_mNhgNf",
        "outputId": "24c828dc-c4a3-43f9-9c5a-b76a5c5063bc"
      },
      "source": [
        "class NeuralNetwork(nn.Module):\n",
        "        def __init__(self):\n",
        "            super(NeuralNetwork, self).__init__()\n",
        "            self.layer1 = nn.Linear(X.shape[1], 32)\n",
        "            self.layer2 = nn.Linear(32, 16)\n",
        "            self.layer3 = nn.Linear(16, 1)\n",
        "\n",
        "        def forward(self, d):\n",
        "            d = F.relu(self.layer1(d))\n",
        "            d = F.relu(self.layer2(d))\n",
        "            d = self.layer3(d)\n",
        "\n",
        "            return d\n",
        "\n",
        "regression_model = NeuralNetwork()\n",
        "print(regression_model)\n",
        "\n",
        "\n",
        "train_datasets = torch.utils.data.TensorDataset(x_train, y_train)\n",
        "train_dataloader = torch.utils.data.DataLoader(train_datasets, batch_size=64)\n",
        "\n",
        "valid_datasets = torch.utils.data.TensorDataset(x_valid, y_valid)\n",
        "valid_dataloader = torch.utils.data.DataLoader(valid_datasets)\n",
        "\n",
        "test_datasets = torch.utils.data.TensorDataset(x_test, y_test)\n",
        "test_dataloader = torch.utils.data.DataLoader(test_datasets)\n",
        "\n",
        "\n",
        "optimizer = optim.Adam(regression_model.parameters(), lr=0.005)\n",
        "got_regression_model = regression_training(train_dataloader,valid_dataloader,regression_model,100,optimizer)\n",
        "print(\"Training Done !!\")\n",
        "\n",
        "testing_loss = regression_test(test_dataloader,got_regression_model,\"test\")\n",
        "\n",
        "\n",
        "\n",
        "print(\"Calculating R2 Score\")\n",
        "\n",
        "Y_train_pred = got_regression_model(torch.tensor(x_train, dtype=torch.float))\n",
        "Y_test_pred = got_regression_model(torch.tensor(x_test, dtype=torch.float))\n",
        "\n",
        "Y_train_pred = Y_train_pred.detach().numpy()\n",
        "Y_test_pred = Y_test_pred.detach().numpy()\n",
        "\n",
        "train_r2 = r2_score(y_train,Y_train_pred)\n",
        "print(\"train r2:\",train_r2)\n",
        "\n",
        "test_r2 = r2_score(y_test, Y_test_pred)\n",
        "print(\"test r2:\",test_r2)\n",
        "\n"
      ],
      "execution_count": null,
      "outputs": [
        {
          "output_type": "stream",
          "name": "stdout",
          "text": [
            "NeuralNetwork(\n",
            "  (layer1): Linear(in_features=13, out_features=32, bias=True)\n",
            "  (layer2): Linear(in_features=32, out_features=16, bias=True)\n",
            "  (layer3): Linear(in_features=16, out_features=1, bias=True)\n",
            ")\n",
            "epoch 1 train loss: 565.1265 validation loss: 484.9241\n",
            "epoch 2 train loss: 528.2478 validation loss: 435.8291\n",
            "epoch 3 train loss: 460.0350 validation loss: 348.6949\n",
            "epoch 4 train loss: 349.5589 validation loss: 225.4629\n",
            "epoch 5 train loss: 211.3034 validation loss: 100.8424\n",
            "epoch 6 train loss: 98.1514 validation loss: 33.7438\n",
            "epoch 7 train loss: 59.4505 validation loss: 26.8948\n",
            "epoch 8 train loss: 49.6122 validation loss: 18.6264\n",
            "epoch 9 train loss: 32.3806 validation loss: 18.5406\n",
            "epoch 10 train loss: 28.3300 validation loss: 19.5944\n",
            "epoch 11 train loss: 26.3107 validation loss: 17.8242\n",
            "epoch 12 train loss: 23.9064 validation loss: 16.8811\n",
            "epoch 13 train loss: 22.1689 validation loss: 16.1554\n",
            "epoch 14 train loss: 20.8459 validation loss: 15.6745\n",
            "epoch 15 train loss: 20.0606 validation loss: 15.2943\n",
            "epoch 16 train loss: 19.3301 validation loss: 14.8762\n",
            "epoch 17 train loss: 18.5823 validation loss: 14.5147\n",
            "epoch 18 train loss: 17.8745 validation loss: 14.1279\n",
            "epoch 19 train loss: 17.2370 validation loss: 13.7266\n",
            "epoch 20 train loss: 16.6685 validation loss: 13.3478\n",
            "epoch 21 train loss: 16.1175 validation loss: 12.9830\n",
            "epoch 22 train loss: 15.5880 validation loss: 12.6214\n",
            "epoch 23 train loss: 15.0880 validation loss: 12.2659\n",
            "epoch 24 train loss: 14.6334 validation loss: 11.9331\n",
            "epoch 25 train loss: 14.2088 validation loss: 11.6217\n",
            "epoch 26 train loss: 13.8098 validation loss: 11.3040\n",
            "epoch 27 train loss: 13.4419 validation loss: 11.0116\n",
            "epoch 28 train loss: 13.1101 validation loss: 10.7647\n",
            "epoch 29 train loss: 12.8051 validation loss: 10.5332\n",
            "epoch 30 train loss: 12.5162 validation loss: 10.2957\n",
            "epoch 31 train loss: 12.2525 validation loss: 10.0764\n",
            "epoch 32 train loss: 12.0117 validation loss: 9.8817\n",
            "epoch 33 train loss: 11.7948 validation loss: 9.7057\n",
            "epoch 34 train loss: 11.5936 validation loss: 9.5463\n",
            "epoch 35 train loss: 11.4081 validation loss: 9.3950\n",
            "epoch 36 train loss: 11.2409 validation loss: 9.2589\n",
            "epoch 37 train loss: 11.0910 validation loss: 9.1344\n",
            "epoch 38 train loss: 10.9484 validation loss: 9.0117\n",
            "epoch 39 train loss: 10.8220 validation loss: 8.9106\n",
            "epoch 40 train loss: 10.7035 validation loss: 8.8143\n",
            "epoch 41 train loss: 10.5914 validation loss: 8.7381\n",
            "epoch 42 train loss: 10.4880 validation loss: 8.6674\n",
            "epoch 43 train loss: 10.3914 validation loss: 8.6145\n",
            "epoch 44 train loss: 10.2984 validation loss: 8.5863\n",
            "epoch 45 train loss: 10.2087 validation loss: 8.5500\n",
            "epoch 46 train loss: 10.1232 validation loss: 8.5089\n",
            "epoch 47 train loss: 10.0424 validation loss: 8.4685\n",
            "epoch 48 train loss: 9.9610 validation loss: 8.4409\n",
            "epoch 49 train loss: 9.8836 validation loss: 8.4156\n",
            "epoch 50 train loss: 9.8085 validation loss: 8.3779\n",
            "epoch 51 train loss: 9.7323 validation loss: 8.3526\n",
            "epoch 52 train loss: 9.6615 validation loss: 8.3193\n",
            "epoch 53 train loss: 9.5902 validation loss: 8.2888\n",
            "epoch 54 train loss: 9.5246 validation loss: 8.2658\n",
            "epoch 55 train loss: 9.4592 validation loss: 8.2273\n",
            "epoch 56 train loss: 9.3962 validation loss: 8.2117\n",
            "epoch 57 train loss: 9.3369 validation loss: 8.1959\n",
            "epoch 58 train loss: 9.2781 validation loss: 8.1673\n",
            "epoch 59 train loss: 9.2214 validation loss: 8.1504\n",
            "epoch 60 train loss: 9.1663 validation loss: 8.1489\n",
            "epoch 61 train loss: 9.1144 validation loss: 8.1393\n",
            "epoch 62 train loss: 9.0619 validation loss: 8.1292\n",
            "epoch 63 train loss: 9.0105 validation loss: 8.1113\n",
            "epoch 64 train loss: 8.9674 validation loss: 8.0880\n",
            "epoch 65 train loss: 8.9155 validation loss: 8.0728\n",
            "epoch 66 train loss: 8.8685 validation loss: 8.0763\n",
            "epoch 67 train loss: 8.8224 validation loss: 8.0676\n",
            "epoch 68 train loss: 8.7736 validation loss: 8.0455\n",
            "epoch 69 train loss: 8.7274 validation loss: 8.0273\n",
            "epoch 70 train loss: 8.6880 validation loss: 7.9949\n",
            "epoch 71 train loss: 8.6461 validation loss: 7.9581\n",
            "epoch 72 train loss: 8.6089 validation loss: 7.9390\n",
            "epoch 73 train loss: 8.5776 validation loss: 7.8838\n",
            "epoch 74 train loss: 8.5360 validation loss: 7.8651\n",
            "epoch 75 train loss: 8.5026 validation loss: 7.8608\n",
            "epoch 76 train loss: 8.4661 validation loss: 7.8177\n",
            "epoch 77 train loss: 8.4277 validation loss: 7.7893\n",
            "epoch 78 train loss: 8.3959 validation loss: 7.7762\n",
            "epoch 79 train loss: 8.3612 validation loss: 7.7534\n",
            "epoch 80 train loss: 8.3296 validation loss: 7.7536\n",
            "epoch 81 train loss: 8.3013 validation loss: 7.7308\n",
            "epoch 82 train loss: 8.2673 validation loss: 7.6761\n",
            "epoch 83 train loss: 8.2388 validation loss: 7.6696\n",
            "epoch 84 train loss: 8.2054 validation loss: 7.6587\n",
            "epoch 85 train loss: 8.1796 validation loss: 7.6457\n",
            "epoch 86 train loss: 8.1508 validation loss: 7.6322\n",
            "epoch 87 train loss: 8.1261 validation loss: 7.6503\n",
            "epoch 88 train loss: 8.0977 validation loss: 7.6674\n",
            "epoch 89 train loss: 8.0673 validation loss: 7.6441\n",
            "epoch 90 train loss: 8.0408 validation loss: 7.6322\n",
            "epoch 91 train loss: 8.0157 validation loss: 7.6348\n",
            "epoch 92 train loss: 7.9837 validation loss: 7.6299\n",
            "epoch 93 train loss: 7.9593 validation loss: 7.6167\n",
            "epoch 94 train loss: 7.9327 validation loss: 7.6077\n",
            "epoch 95 train loss: 7.9010 validation loss: 7.6045\n",
            "epoch 96 train loss: 7.8710 validation loss: 7.5748\n",
            "epoch 97 train loss: 7.8411 validation loss: 7.5714\n",
            "epoch 98 train loss: 7.8109 validation loss: 7.5770\n",
            "epoch 99 train loss: 7.7803 validation loss: 7.5281\n",
            "epoch 100 train loss: 7.7426 validation loss: 7.5061\n"
          ]
        },
        {
          "output_type": "display_data",
          "data": {
            "image/png": "[encoded data removed]",
            "text/plain": [
              "<Figure size 432x288 with 1 Axes>"
            ]
          },
          "metadata": {
            "needs_background": "light"
          }
        },
        {
          "output_type": "stream",
          "name": "stdout",
          "text": [
            "Training Done !!\n",
            "test loss:7.6492\n",
            "Calculating R2 Score\n",
            "train r2: 0.8996432102039741\n",
            "test r2: 0.899709428383422\n"
          ]
        },
        {
          "output_type": "stream",
          "name": "stderr",
          "text": [
            "/usr/local/lib/python3.7/dist-packages/ipykernel_launcher.py:39: UserWarning: To copy construct from a tensor, it is recommended to use sourceTensor.clone().detach() or sourceTensor.clone().detach().requires_grad_(True), rather than torch.tensor(sourceTensor).\n",
            "/usr/local/lib/python3.7/dist-packages/ipykernel_launcher.py:40: UserWarning: To copy construct from a tensor, it is recommended to use sourceTensor.clone().detach() or sourceTensor.clone().detach().requires_grad_(True), rather than torch.tensor(sourceTensor).\n"
          ]
        }
      ]
    },
    {
      "cell_type": "markdown",
      "metadata": {
        "id": "5dn_NTIyHafb"
      },
      "source": [
        "# Network 2:\n",
        "\n",
        "No. of Layer = 4\n",
        "\n",
        "Activation Function = tanh\n",
        "\n",
        "No. of Neurons in each layer:\n",
        "\n",
        "\n",
        "*   layer1(input layer) = 13\n",
        "*   layer2(hidden layer) = 32\n",
        "*   layer3(hidden layer) = 16    \n",
        "*   layer4(Output layer) = 1\n",
        "\n"
      ]
    },
    {
      "cell_type": "code",
      "metadata": {
        "colab": {
          "base_uri": "https://localhost:8080/",
          "height": 1000
        },
        "id": "VyRn24AFHTo1",
        "outputId": "47dde4f9-db01-4196-c51c-dce9ac0fc0ee"
      },
      "source": [
        "class NeuralNetwork(nn.Module):\n",
        "        def __init__(self):\n",
        "            super(NeuralNetwork, self).__init__()\n",
        "            self.layer1 = nn.Linear(X.shape[1], 32)\n",
        "            self.layer2 = nn.Linear(32, 16)\n",
        "            self.layer3 = nn.Linear(16, 1)\n",
        "\n",
        "        def forward(self, d):\n",
        "            d = F.tanh(self.layer1(d))\n",
        "            d = F.tanh(self.layer2(d))\n",
        "            d = self.layer3(d)\n",
        "\n",
        "            return d\n",
        "\n",
        "regression_model = NeuralNetwork()\n",
        "print(regression_model)\n",
        "\n",
        "\n",
        "train_datasets = torch.utils.data.TensorDataset(x_train, y_train)\n",
        "train_dataloader = torch.utils.data.DataLoader(train_datasets, batch_size=64)\n",
        "\n",
        "valid_datasets = torch.utils.data.TensorDataset(x_valid, y_valid)\n",
        "valid_dataloader = torch.utils.data.DataLoader(valid_datasets)\n",
        "\n",
        "test_datasets = torch.utils.data.TensorDataset(x_test, y_test)\n",
        "test_dataloader = torch.utils.data.DataLoader(test_datasets)\n",
        "\n",
        "\n",
        "optimizer = optim.Adam(regression_model.parameters(), lr=0.005)\n",
        "got_regression_model = regression_training(train_dataloader,valid_dataloader,regression_model,100,optimizer)\n",
        "print(\"Training Done !!\")\n",
        "\n",
        "testing_loss = regression_test(test_dataloader,got_regression_model,\"test\")\n",
        "\n",
        "\n",
        "\n",
        "print(\"Calculating R2 Score\")\n",
        "\n",
        "Y_train_pred = got_regression_model(torch.tensor(x_train, dtype=torch.float))\n",
        "Y_test_pred = got_regression_model(torch.tensor(x_test, dtype=torch.float))\n",
        "\n",
        "Y_train_pred = Y_train_pred.detach().numpy()\n",
        "Y_test_pred = Y_test_pred.detach().numpy()\n",
        "\n",
        "train_r2 = r2_score(y_train,Y_train_pred)\n",
        "print(\"train r2:\",train_r2)\n",
        "\n",
        "test_r2 = r2_score(y_test, Y_test_pred)\n",
        "print(\"test r2:\",test_r2)\n",
        "\n",
        "\n",
        "\n",
        "\n",
        "\n"
      ],
      "execution_count": null,
      "outputs": [
        {
          "output_type": "stream",
          "name": "stdout",
          "text": [
            "NeuralNetwork(\n",
            "  (layer1): Linear(in_features=13, out_features=32, bias=True)\n",
            "  (layer2): Linear(in_features=32, out_features=16, bias=True)\n",
            "  (layer3): Linear(in_features=16, out_features=1, bias=True)\n",
            ")\n",
            "epoch 1 train loss: 550.8969 validation loss: 476.0755\n",
            "epoch 2 train loss: 525.1418 validation loss: 449.3511\n",
            "epoch 3 train loss: 492.7399 validation loss: 415.1403\n",
            "epoch 4 train loss: 455.6374 validation loss: 374.8910\n",
            "epoch 5 train loss: 417.4824 validation loss: 338.0098\n",
            "epoch 6 train loss: 380.5428 validation loss: 306.1099\n",
            "epoch 7 train loss: 345.8517 validation loss: 278.1664\n",
            "epoch 8 train loss: 316.6555 validation loss: 254.3247\n"
          ]
        },
        {
          "output_type": "stream",
          "name": "stderr",
          "text": [
            "/usr/local/lib/python3.7/dist-packages/torch/nn/functional.py:1795: UserWarning: nn.functional.tanh is deprecated. Use torch.tanh instead.\n",
            "  warnings.warn(\"nn.functional.tanh is deprecated. Use torch.tanh instead.\")\n"
          ]
        },
        {
          "output_type": "stream",
          "name": "stdout",
          "text": [
            "epoch 9 train loss: 292.3720 validation loss: 234.0449\n",
            "epoch 10 train loss: 271.4985 validation loss: 216.3100\n",
            "epoch 11 train loss: 253.0151 validation loss: 200.4851\n",
            "epoch 12 train loss: 236.3894 validation loss: 186.2299\n",
            "epoch 13 train loss: 221.3219 validation loss: 173.3248\n",
            "epoch 14 train loss: 207.6050 validation loss: 161.6034\n",
            "epoch 15 train loss: 195.0790 validation loss: 150.9256\n",
            "epoch 16 train loss: 183.6121 validation loss: 141.1622\n",
            "epoch 17 train loss: 173.0913 validation loss: 132.2045\n",
            "epoch 18 train loss: 163.4263 validation loss: 124.0279\n",
            "epoch 19 train loss: 154.5370 validation loss: 116.6186\n",
            "epoch 20 train loss: 146.3502 validation loss: 109.9012\n",
            "epoch 21 train loss: 138.7987 validation loss: 103.8546\n",
            "epoch 22 train loss: 131.7878 validation loss: 98.4611\n",
            "epoch 23 train loss: 125.2666 validation loss: 93.5568\n",
            "epoch 24 train loss: 119.3117 validation loss: 88.8314\n",
            "epoch 25 train loss: 113.7930 validation loss: 84.6024\n",
            "epoch 26 train loss: 108.7601 validation loss: 80.6369\n",
            "epoch 27 train loss: 104.0282 validation loss: 77.1685\n",
            "epoch 28 train loss: 99.7702 validation loss: 73.9519\n",
            "epoch 29 train loss: 95.6921 validation loss: 71.1547\n",
            "epoch 30 train loss: 92.0858 validation loss: 68.4930\n",
            "epoch 31 train loss: 88.5911 validation loss: 66.1626\n",
            "epoch 32 train loss: 85.4982 validation loss: 64.0022\n",
            "epoch 33 train loss: 82.5286 validation loss: 62.0574\n",
            "epoch 34 train loss: 79.8603 validation loss: 60.2792\n",
            "epoch 35 train loss: 77.3563 validation loss: 58.6483\n",
            "epoch 36 train loss: 75.0507 validation loss: 57.1489\n",
            "epoch 37 train loss: 72.9091 validation loss: 55.7436\n",
            "epoch 38 train loss: 70.9050 validation loss: 54.4005\n",
            "epoch 39 train loss: 69.0337 validation loss: 53.1076\n",
            "epoch 40 train loss: 67.2653 validation loss: 51.8645\n",
            "epoch 41 train loss: 65.5977 validation loss: 50.6871\n",
            "epoch 42 train loss: 64.0224 validation loss: 49.6255\n",
            "epoch 43 train loss: 62.5412 validation loss: 48.7030\n",
            "epoch 44 train loss: 61.1610 validation loss: 47.8605\n",
            "epoch 45 train loss: 59.8723 validation loss: 46.9997\n",
            "epoch 46 train loss: 58.6533 validation loss: 46.0864\n",
            "epoch 47 train loss: 57.4865 validation loss: 45.1536\n",
            "epoch 48 train loss: 56.3714 validation loss: 44.2527\n",
            "epoch 49 train loss: 55.3169 validation loss: 43.4291\n",
            "epoch 50 train loss: 54.3311 validation loss: 42.7026\n",
            "epoch 51 train loss: 53.4166 validation loss: 42.0704\n",
            "epoch 52 train loss: 52.5690 validation loss: 41.5204\n",
            "epoch 53 train loss: 51.7819 validation loss: 41.0376\n",
            "epoch 54 train loss: 51.0489 validation loss: 40.6082\n",
            "epoch 55 train loss: 50.3628 validation loss: 40.2174\n",
            "epoch 56 train loss: 49.7163 validation loss: 39.8493\n",
            "epoch 57 train loss: 49.1017 validation loss: 39.4873\n",
            "epoch 58 train loss: 48.5108 validation loss: 39.1140\n",
            "epoch 59 train loss: 47.9350 validation loss: 38.7123\n",
            "epoch 60 train loss: 47.3644 validation loss: 38.2692\n",
            "epoch 61 train loss: 46.7878 validation loss: 37.7786\n",
            "epoch 62 train loss: 46.1886 validation loss: 37.2302\n",
            "epoch 63 train loss: 45.5366 validation loss: 36.5845\n",
            "epoch 64 train loss: 44.7973 validation loss: 35.8037\n",
            "epoch 65 train loss: 43.9706 validation loss: 34.9514\n",
            "epoch 66 train loss: 43.1691 validation loss: 34.1842\n",
            "epoch 67 train loss: 42.5020 validation loss: 33.6210\n",
            "epoch 68 train loss: 41.8896 validation loss: 33.2152\n",
            "epoch 69 train loss: 41.2677 validation loss: 32.8849\n",
            "epoch 70 train loss: 40.6487 validation loss: 32.5841\n",
            "epoch 71 train loss: 40.0540 validation loss: 32.2826\n",
            "epoch 72 train loss: 39.4861 validation loss: 31.9614\n",
            "epoch 73 train loss: 38.9351 validation loss: 31.6112\n",
            "epoch 74 train loss: 38.3907 validation loss: 31.2300\n",
            "epoch 75 train loss: 37.8480 validation loss: 30.8175\n",
            "epoch 76 train loss: 37.3032 validation loss: 30.3792\n",
            "epoch 77 train loss: 36.7320 validation loss: 29.9731\n",
            "epoch 78 train loss: 36.1278 validation loss: 29.6208\n",
            "epoch 79 train loss: 35.5790 validation loss: 29.2586\n",
            "epoch 80 train loss: 35.0647 validation loss: 28.8655\n",
            "epoch 81 train loss: 34.5557 validation loss: 28.4317\n",
            "epoch 82 train loss: 34.0414 validation loss: 27.9484\n",
            "epoch 83 train loss: 33.5144 validation loss: 27.4273\n",
            "epoch 84 train loss: 32.9639 validation loss: 26.9080\n",
            "epoch 85 train loss: 32.3965 validation loss: 26.4322\n",
            "epoch 86 train loss: 31.8406 validation loss: 26.0144\n",
            "epoch 87 train loss: 31.3053 validation loss: 25.6477\n",
            "epoch 88 train loss: 30.7739 validation loss: 25.3249\n",
            "epoch 89 train loss: 30.2477 validation loss: 25.0417\n",
            "epoch 90 train loss: 29.7415 validation loss: 24.7863\n",
            "epoch 91 train loss: 29.2574 validation loss: 24.5427\n",
            "epoch 92 train loss: 28.7925 validation loss: 24.3026\n",
            "epoch 93 train loss: 28.3452 validation loss: 24.0702\n",
            "epoch 94 train loss: 27.9129 validation loss: 23.8437\n",
            "epoch 95 train loss: 27.4952 validation loss: 23.6154\n",
            "epoch 96 train loss: 27.0936 validation loss: 23.3857\n",
            "epoch 97 train loss: 26.7043 validation loss: 23.1505\n",
            "epoch 98 train loss: 26.3248 validation loss: 22.9041\n",
            "epoch 99 train loss: 25.9568 validation loss: 22.6522\n",
            "epoch 100 train loss: 25.5968 validation loss: 22.3942\n"
          ]
        },
        {
          "output_type": "display_data",
          "data": {
            "image/png": "[encoded data removed]",
            "text/plain": [
              "<Figure size 432x288 with 1 Axes>"
            ]
          },
          "metadata": {
            "needs_background": "light"
          }
        },
        {
          "output_type": "stream",
          "name": "stdout",
          "text": [
            "Training Done !!\n",
            "test loss:28.5481\n",
            "Calculating R2 Score\n",
            "train r2: 0.66797347426135\n",
            "test r2: 0.6256990081866851\n"
          ]
        },
        {
          "output_type": "stream",
          "name": "stderr",
          "text": [
            "/usr/local/lib/python3.7/dist-packages/torch/nn/functional.py:1795: UserWarning: nn.functional.tanh is deprecated. Use torch.tanh instead.\n",
            "  warnings.warn(\"nn.functional.tanh is deprecated. Use torch.tanh instead.\")\n",
            "/usr/local/lib/python3.7/dist-packages/ipykernel_launcher.py:39: UserWarning: To copy construct from a tensor, it is recommended to use sourceTensor.clone().detach() or sourceTensor.clone().detach().requires_grad_(True), rather than torch.tensor(sourceTensor).\n",
            "/usr/local/lib/python3.7/dist-packages/ipykernel_launcher.py:40: UserWarning: To copy construct from a tensor, it is recommended to use sourceTensor.clone().detach() or sourceTensor.clone().detach().requires_grad_(True), rather than torch.tensor(sourceTensor).\n"
          ]
        }
      ]
    },
    {
      "cell_type": "markdown",
      "metadata": {
        "id": "6471XmOkLAW0"
      },
      "source": [
        "# Network 3:\n",
        "\n",
        "No. of Layer = 3\n",
        "\n",
        "Activation Function = relu\n",
        "\n",
        "No. of Neurons in each layer:\n",
        "\n",
        "\n",
        "*   layer1(input layer) = 13\n",
        "<!-- *   layer2(hidden layer) = 32 -->\n",
        "*   layer2(hidden layer) = 16    \n",
        "*   layer3(Output layer) = 1\n",
        "\n"
      ]
    },
    {
      "cell_type": "code",
      "metadata": {
        "colab": {
          "base_uri": "https://localhost:8080/",
          "height": 1000
        },
        "id": "4DTmGNZwK_wh",
        "outputId": "d673975b-ec9e-4e6a-c0d1-57ce0625620e"
      },
      "source": [
        "class NeuralNetwork(nn.Module):\n",
        "        def __init__(self):\n",
        "            super(NeuralNetwork, self).__init__()\n",
        "            self.layer1 = nn.Linear(X.shape[1], 16)\n",
        "            # self.layer2 = nn.Linear(32, 16)\n",
        "            self.layer3 = nn.Linear(16, 1)\n",
        "\n",
        "        def forward(self, d):\n",
        "            d = F.relu(self.layer1(d))\n",
        "            # d = F.relu(self.layer2(d))\n",
        "            d = self.layer3(d)\n",
        "\n",
        "            return d\n",
        "\n",
        "regression_model = NeuralNetwork()\n",
        "print(regression_model)\n",
        "\n",
        "\n",
        "train_datasets = torch.utils.data.TensorDataset(x_train, y_train)\n",
        "train_dataloader = torch.utils.data.DataLoader(train_datasets, batch_size=64)\n",
        "\n",
        "valid_datasets = torch.utils.data.TensorDataset(x_valid, y_valid)\n",
        "valid_dataloader = torch.utils.data.DataLoader(valid_datasets)\n",
        "\n",
        "test_datasets = torch.utils.data.TensorDataset(x_test, y_test)\n",
        "test_dataloader = torch.utils.data.DataLoader(test_datasets)\n",
        "\n",
        "\n",
        "optimizer = optim.Adam(regression_model.parameters(), lr=0.005)\n",
        "got_regression_model = regression_training(train_dataloader,valid_dataloader,regression_model,100,optimizer)\n",
        "print(\"Training Done !!\")\n",
        "\n",
        "testing_loss = regression_test(test_dataloader,got_regression_model,\"test\")\n",
        "\n",
        "\n",
        "\n",
        "print(\"Calculating R2 Score\")\n",
        "\n",
        "Y_train_pred = got_regression_model(torch.tensor(x_train, dtype=torch.float))\n",
        "Y_test_pred = got_regression_model(torch.tensor(x_test, dtype=torch.float))\n",
        "\n",
        "Y_train_pred = Y_train_pred.detach().numpy()\n",
        "Y_test_pred = Y_test_pred.detach().numpy()\n",
        "\n",
        "train_r2 = r2_score(y_train,Y_train_pred)\n",
        "print(\"train r2:\",train_r2)\n",
        "\n",
        "test_r2 = r2_score(y_test, Y_test_pred)\n",
        "print(\"test r2:\",test_r2)\n",
        "\n",
        "\n",
        "\n",
        "\n",
        "\n"
      ],
      "execution_count": null,
      "outputs": [
        {
          "output_type": "stream",
          "name": "stdout",
          "text": [
            "NeuralNetwork(\n",
            "  (layer1): Linear(in_features=13, out_features=16, bias=True)\n",
            "  (layer3): Linear(in_features=16, out_features=1, bias=True)\n",
            ")\n",
            "epoch 1 train loss: 561.0700 validation loss: 488.9381\n",
            "epoch 2 train loss: 543.6548 validation loss: 471.7314\n",
            "epoch 3 train loss: 524.0072 validation loss: 451.0733\n",
            "epoch 4 train loss: 500.0535 validation loss: 425.7112\n",
            "epoch 5 train loss: 470.9541 validation loss: 395.2876\n",
            "epoch 6 train loss: 436.5996 validation loss: 360.3930\n",
            "epoch 7 train loss: 397.9512 validation loss: 322.3756\n",
            "epoch 8 train loss: 356.6846 validation loss: 282.8336\n",
            "epoch 9 train loss: 314.6664 validation loss: 243.6292\n",
            "epoch 10 train loss: 273.9327 validation loss: 206.4927\n",
            "epoch 11 train loss: 236.1812 validation loss: 173.0038\n",
            "epoch 12 train loss: 202.6549 validation loss: 144.0882\n",
            "epoch 13 train loss: 173.7548 validation loss: 119.9430\n",
            "epoch 14 train loss: 149.0823 validation loss: 100.0338\n",
            "epoch 15 train loss: 127.7752 validation loss: 83.4637\n",
            "epoch 16 train loss: 109.0180 validation loss: 69.4550\n",
            "epoch 17 train loss: 92.3757 validation loss: 57.5792\n",
            "epoch 18 train loss: 77.8052 validation loss: 47.6828\n",
            "epoch 19 train loss: 65.4941 validation loss: 39.7993\n",
            "epoch 20 train loss: 55.5854 validation loss: 33.8842\n",
            "epoch 21 train loss: 48.0352 validation loss: 29.7241\n",
            "epoch 22 train loss: 42.6162 validation loss: 26.9675\n",
            "epoch 23 train loss: 38.9065 validation loss: 25.1859\n",
            "epoch 24 train loss: 36.3848 validation loss: 24.0130\n",
            "epoch 25 train loss: 34.6215 validation loss: 23.2009\n",
            "epoch 26 train loss: 33.3321 validation loss: 22.5928\n",
            "epoch 27 train loss: 32.3368 validation loss: 22.1006\n",
            "epoch 28 train loss: 31.5307 validation loss: 21.6851\n",
            "epoch 29 train loss: 30.8457 validation loss: 21.3145\n",
            "epoch 30 train loss: 30.2413 validation loss: 20.9712\n",
            "epoch 31 train loss: 29.6881 validation loss: 20.6379\n",
            "epoch 32 train loss: 29.1631 validation loss: 20.3147\n",
            "epoch 33 train loss: 28.6559 validation loss: 20.0032\n",
            "epoch 34 train loss: 28.1649 validation loss: 19.7040\n",
            "epoch 35 train loss: 27.6939 validation loss: 19.4165\n",
            "epoch 36 train loss: 27.2351 validation loss: 19.1344\n",
            "epoch 37 train loss: 26.7908 validation loss: 18.8633\n",
            "epoch 38 train loss: 26.3570 validation loss: 18.5974\n",
            "epoch 39 train loss: 25.9328 validation loss: 18.3402\n",
            "epoch 40 train loss: 25.5173 validation loss: 18.0967\n",
            "epoch 41 train loss: 25.1137 validation loss: 17.8593\n",
            "epoch 42 train loss: 24.7176 validation loss: 17.6219\n",
            "epoch 43 train loss: 24.3300 validation loss: 17.3813\n",
            "epoch 44 train loss: 23.9533 validation loss: 17.1509\n",
            "epoch 45 train loss: 23.5877 validation loss: 16.9202\n",
            "epoch 46 train loss: 23.2327 validation loss: 16.6946\n",
            "epoch 47 train loss: 22.8885 validation loss: 16.4727\n",
            "epoch 48 train loss: 22.5502 validation loss: 16.2525\n",
            "epoch 49 train loss: 22.2177 validation loss: 16.0341\n",
            "epoch 50 train loss: 21.8863 validation loss: 15.8166\n",
            "epoch 51 train loss: 21.5586 validation loss: 15.6021\n",
            "epoch 52 train loss: 21.2320 validation loss: 15.3874\n",
            "epoch 53 train loss: 20.9092 validation loss: 15.1736\n",
            "epoch 54 train loss: 20.5959 validation loss: 14.9635\n",
            "epoch 55 train loss: 20.2833 validation loss: 14.7533\n",
            "epoch 56 train loss: 19.9803 validation loss: 14.5452\n",
            "epoch 57 train loss: 19.6834 validation loss: 14.3480\n",
            "epoch 58 train loss: 19.3860 validation loss: 14.1542\n",
            "epoch 59 train loss: 19.0847 validation loss: 13.9551\n",
            "epoch 60 train loss: 18.7865 validation loss: 13.7558\n",
            "epoch 61 train loss: 18.4905 validation loss: 13.5546\n",
            "epoch 62 train loss: 18.1972 validation loss: 13.3535\n",
            "epoch 63 train loss: 17.9036 validation loss: 13.1531\n",
            "epoch 64 train loss: 17.6081 validation loss: 12.9689\n",
            "epoch 65 train loss: 17.3136 validation loss: 12.7892\n",
            "epoch 66 train loss: 17.0197 validation loss: 12.6124\n",
            "epoch 67 train loss: 16.7188 validation loss: 12.4342\n",
            "epoch 68 train loss: 16.4245 validation loss: 12.2520\n",
            "epoch 69 train loss: 16.1363 validation loss: 12.0791\n",
            "epoch 70 train loss: 15.8572 validation loss: 11.9039\n",
            "epoch 71 train loss: 15.5829 validation loss: 11.7143\n",
            "epoch 72 train loss: 15.3038 validation loss: 11.5286\n",
            "epoch 73 train loss: 15.0275 validation loss: 11.3465\n",
            "epoch 74 train loss: 14.7585 validation loss: 11.1647\n",
            "epoch 75 train loss: 14.4994 validation loss: 10.9927\n",
            "epoch 76 train loss: 14.2450 validation loss: 10.8369\n",
            "epoch 77 train loss: 13.9983 validation loss: 10.6630\n",
            "epoch 78 train loss: 13.7577 validation loss: 10.4671\n",
            "epoch 79 train loss: 13.5224 validation loss: 10.2422\n",
            "epoch 80 train loss: 13.2814 validation loss: 10.0159\n",
            "epoch 81 train loss: 13.0449 validation loss: 9.8086\n",
            "epoch 82 train loss: 12.8205 validation loss: 9.6157\n",
            "epoch 83 train loss: 12.6110 validation loss: 9.4585\n",
            "epoch 84 train loss: 12.4102 validation loss: 9.3312\n",
            "epoch 85 train loss: 12.2223 validation loss: 9.2221\n",
            "epoch 86 train loss: 12.0434 validation loss: 9.1268\n",
            "epoch 87 train loss: 11.8735 validation loss: 9.0375\n",
            "epoch 88 train loss: 11.7154 validation loss: 8.9639\n",
            "epoch 89 train loss: 11.5672 validation loss: 8.9008\n",
            "epoch 90 train loss: 11.4280 validation loss: 8.8385\n",
            "epoch 91 train loss: 11.2990 validation loss: 8.7835\n",
            "epoch 92 train loss: 11.1764 validation loss: 8.7360\n",
            "epoch 93 train loss: 11.0606 validation loss: 8.6954\n",
            "epoch 94 train loss: 10.9506 validation loss: 8.6639\n",
            "epoch 95 train loss: 10.8503 validation loss: 8.6437\n",
            "epoch 96 train loss: 10.7555 validation loss: 8.6330\n",
            "epoch 97 train loss: 10.6648 validation loss: 8.6195\n",
            "epoch 98 train loss: 10.5785 validation loss: 8.6046\n",
            "epoch 99 train loss: 10.4952 validation loss: 8.5887\n",
            "epoch 100 train loss: 10.4129 validation loss: 8.5735\n"
          ]
        },
        {
          "output_type": "display_data",
          "data": {
            "image/png": "[encoded data removed]",
            "text/plain": [
              "<Figure size 432x288 with 1 Axes>"
            ]
          },
          "metadata": {
            "needs_background": "light"
          }
        },
        {
          "output_type": "stream",
          "name": "stdout",
          "text": [
            "Training Done !!\n",
            "test loss:9.4624\n",
            "Calculating R2 Score\n",
            "train r2: 0.8643929051805632\n",
            "test r2: 0.8759357390344337\n"
          ]
        },
        {
          "output_type": "stream",
          "name": "stderr",
          "text": [
            "/usr/local/lib/python3.7/dist-packages/ipykernel_launcher.py:39: UserWarning: To copy construct from a tensor, it is recommended to use sourceTensor.clone().detach() or sourceTensor.clone().detach().requires_grad_(True), rather than torch.tensor(sourceTensor).\n",
            "/usr/local/lib/python3.7/dist-packages/ipykernel_launcher.py:40: UserWarning: To copy construct from a tensor, it is recommended to use sourceTensor.clone().detach() or sourceTensor.clone().detach().requires_grad_(True), rather than torch.tensor(sourceTensor).\n"
          ]
        }
      ]
    },
    {
      "cell_type": "markdown",
      "metadata": {
        "id": "GYd3vPltLkrt"
      },
      "source": [
        "# Network 4:\n",
        "\n",
        "No. of Layer = 3\n",
        "\n",
        "Activation Function = tanh\n",
        "\n",
        "No. of Neurons in each layer:\n",
        "\n",
        "\n",
        "*   layer1(input layer) = 13\n",
        "<!-- *   layer2(hidden layer) = 32 -->\n",
        "*   layer2(hidden layer) = 16    \n",
        "*   layer3(Output layer) = 1\n",
        "\n"
      ]
    },
    {
      "cell_type": "code",
      "metadata": {
        "colab": {
          "base_uri": "https://localhost:8080/",
          "height": 1000
        },
        "id": "Z4-BeaPMjdsR",
        "outputId": "2fad4991-0f0c-4670-9092-eec43b7c8cdd"
      },
      "source": [
        "class NeuralNetwork(nn.Module):\n",
        "        def __init__(self):\n",
        "            super(NeuralNetwork, self).__init__()\n",
        "            self.layer1 = nn.Linear(X.shape[1], 16)\n",
        "            # self.layer2 = nn.Linear(32, 16)\n",
        "            self.layer3 = nn.Linear(16, 1)\n",
        "\n",
        "        def forward(self, d):\n",
        "            d = F.tanh(self.layer1(d))\n",
        "            # d = F.relu(self.layer2(d))\n",
        "            d = self.layer3(d)\n",
        "\n",
        "            return d\n",
        "\n",
        "regression_model = NeuralNetwork()\n",
        "print(regression_model)\n",
        "\n",
        "\n",
        "train_datasets = torch.utils.data.TensorDataset(x_train, y_train)\n",
        "train_dataloader = torch.utils.data.DataLoader(train_datasets, batch_size=64)\n",
        "\n",
        "valid_datasets = torch.utils.data.TensorDataset(x_valid, y_valid)\n",
        "valid_dataloader = torch.utils.data.DataLoader(valid_datasets)\n",
        "\n",
        "test_datasets = torch.utils.data.TensorDataset(x_test, y_test)\n",
        "test_dataloader = torch.utils.data.DataLoader(test_datasets)\n",
        "\n",
        "\n",
        "optimizer = optim.Adam(regression_model.parameters(), lr=0.005)\n",
        "got_regression_model = regression_training(train_dataloader,valid_dataloader,regression_model,100,optimizer)\n",
        "print(\"Training Done !!\")\n",
        "\n",
        "testing_loss = regression_test(test_dataloader,got_regression_model,\"test\")\n",
        "\n",
        "\n",
        "\n",
        "print(\"Calculating R2 Score\")\n",
        "\n",
        "Y_train_pred = got_regression_model(torch.tensor(x_train, dtype=torch.float))\n",
        "Y_test_pred = got_regression_model(torch.tensor(x_test, dtype=torch.float))\n",
        "\n",
        "Y_train_pred = Y_train_pred.detach().numpy()\n",
        "Y_test_pred = Y_test_pred.detach().numpy()\n",
        "\n",
        "train_r2 = r2_score(y_train,Y_train_pred)\n",
        "print(\"train r2:\",train_r2)\n",
        "\n",
        "test_r2 = r2_score(y_test, Y_test_pred)\n",
        "print(\"test r2:\",test_r2)\n",
        "\n",
        "\n",
        "\n",
        "\n",
        "\n"
      ],
      "execution_count": null,
      "outputs": [
        {
          "output_type": "stream",
          "name": "stdout",
          "text": [
            "NeuralNetwork(\n",
            "  (layer1): Linear(in_features=13, out_features=16, bias=True)\n",
            "  (layer3): Linear(in_features=16, out_features=1, bias=True)\n",
            ")\n",
            "epoch 1 train loss: 567.7782 validation loss: 499.9875\n",
            "epoch 2 train loss: 558.6419 validation loss: 492.4523\n",
            "epoch 3 train loss: 549.7200 validation loss: 484.3929\n",
            "epoch 4 train loss: 539.7419 validation loss: 475.3229\n",
            "epoch 5 train loss: 528.2273 validation loss: 464.9753\n",
            "epoch 6 train loss: 515.0203 validation loss: 453.0656\n",
            "epoch 7 train loss: 500.0909 validation loss: 439.3060\n",
            "epoch 8 train loss: 483.5281 validation loss: 423.6207\n",
            "epoch 9 train loss: 465.5836 validation loss: 406.2224\n",
            "epoch 10 train loss: 446.5785 validation loss: 387.4719\n",
            "epoch 11 train loss: 426.7820 validation loss: 367.7228\n",
            "epoch 12 train loss: 406.4134 validation loss: 347.2979\n"
          ]
        },
        {
          "output_type": "stream",
          "name": "stderr",
          "text": [
            "/usr/local/lib/python3.7/dist-packages/torch/nn/functional.py:1795: UserWarning: nn.functional.tanh is deprecated. Use torch.tanh instead.\n",
            "  warnings.warn(\"nn.functional.tanh is deprecated. Use torch.tanh instead.\")\n"
          ]
        },
        {
          "output_type": "stream",
          "name": "stdout",
          "text": [
            "epoch 13 train loss: 385.6714 validation loss: 326.5075\n",
            "epoch 14 train loss: 364.7143 validation loss: 305.6178\n",
            "epoch 15 train loss: 343.6707 validation loss: 284.8656\n",
            "epoch 16 train loss: 322.7098 validation loss: 264.5428\n",
            "epoch 17 train loss: 302.0781 validation loss: 244.9531\n",
            "epoch 18 train loss: 282.0179 validation loss: 226.2603\n",
            "epoch 19 train loss: 262.7055 validation loss: 208.4917\n",
            "epoch 20 train loss: 244.2717 validation loss: 191.6545\n",
            "epoch 21 train loss: 226.8154 validation loss: 175.8042\n",
            "epoch 22 train loss: 210.4016 validation loss: 161.0298\n",
            "epoch 23 train loss: 195.0306 validation loss: 147.3877\n",
            "epoch 24 train loss: 180.6151 validation loss: 134.8446\n",
            "epoch 25 train loss: 167.0225 validation loss: 123.3149\n",
            "epoch 26 train loss: 154.2379 validation loss: 112.8446\n",
            "epoch 27 train loss: 142.4272 validation loss: 103.4805\n",
            "epoch 28 train loss: 131.6709 validation loss: 95.1254\n",
            "epoch 29 train loss: 121.9385 validation loss: 87.6639\n",
            "epoch 30 train loss: 113.1462 validation loss: 80.9647\n",
            "epoch 31 train loss: 105.1842 validation loss: 74.9237\n",
            "epoch 32 train loss: 98.0150 validation loss: 69.5333\n",
            "epoch 33 train loss: 91.6449 validation loss: 64.7995\n",
            "epoch 34 train loss: 86.0189 validation loss: 60.6488\n",
            "epoch 35 train loss: 81.0481 validation loss: 57.0027\n",
            "epoch 36 train loss: 76.6537 validation loss: 53.7994\n",
            "epoch 37 train loss: 72.7617 validation loss: 50.9819\n",
            "epoch 38 train loss: 69.2999 validation loss: 48.4990\n",
            "epoch 39 train loss: 66.2039 validation loss: 46.3066\n",
            "epoch 40 train loss: 63.4184 validation loss: 44.3677\n",
            "epoch 41 train loss: 60.8976 validation loss: 42.6519\n",
            "epoch 42 train loss: 58.6042 validation loss: 41.1329\n",
            "epoch 43 train loss: 56.5079 validation loss: 39.7850\n",
            "epoch 44 train loss: 54.5819 validation loss: 38.5805\n",
            "epoch 45 train loss: 52.7988 validation loss: 37.4892\n",
            "epoch 46 train loss: 51.1337 validation loss: 36.4806\n",
            "epoch 47 train loss: 49.5767 validation loss: 35.5383\n",
            "epoch 48 train loss: 48.1441 validation loss: 34.6707\n",
            "epoch 49 train loss: 46.8571 validation loss: 33.8894\n",
            "epoch 50 train loss: 45.7115 validation loss: 33.1924\n",
            "epoch 51 train loss: 44.6907 validation loss: 32.5742\n",
            "epoch 52 train loss: 43.7843 validation loss: 32.0290\n",
            "epoch 53 train loss: 42.9844 validation loss: 31.5502\n",
            "epoch 54 train loss: 42.2786 validation loss: 31.1317\n",
            "epoch 55 train loss: 41.6497 validation loss: 30.7666\n",
            "epoch 56 train loss: 41.0809 validation loss: 30.4461\n",
            "epoch 57 train loss: 40.5581 validation loss: 30.1594\n",
            "epoch 58 train loss: 40.0706 validation loss: 29.8954\n",
            "epoch 59 train loss: 39.6096 validation loss: 29.6445\n",
            "epoch 60 train loss: 39.1683 validation loss: 29.3999\n",
            "epoch 61 train loss: 38.7417 validation loss: 29.1573\n",
            "epoch 62 train loss: 38.3264 validation loss: 28.9137\n",
            "epoch 63 train loss: 37.9204 validation loss: 28.6670\n",
            "epoch 64 train loss: 37.5232 validation loss: 28.4159\n",
            "epoch 65 train loss: 37.1346 validation loss: 28.1599\n",
            "epoch 66 train loss: 36.7549 validation loss: 27.8994\n",
            "epoch 67 train loss: 36.3843 validation loss: 27.6355\n",
            "epoch 68 train loss: 36.0224 validation loss: 27.3695\n",
            "epoch 69 train loss: 35.6685 validation loss: 27.1026\n",
            "epoch 70 train loss: 35.3215 validation loss: 26.8360\n",
            "epoch 71 train loss: 34.9805 validation loss: 26.5703\n",
            "epoch 72 train loss: 34.6445 validation loss: 26.3059\n",
            "epoch 73 train loss: 34.3127 validation loss: 26.0430\n",
            "epoch 74 train loss: 33.9845 validation loss: 25.7814\n",
            "epoch 75 train loss: 33.6593 validation loss: 25.5210\n",
            "epoch 76 train loss: 33.3366 validation loss: 25.2617\n",
            "epoch 77 train loss: 33.0160 validation loss: 25.0035\n",
            "epoch 78 train loss: 32.6972 validation loss: 24.7463\n",
            "epoch 79 train loss: 32.3799 validation loss: 24.4904\n",
            "epoch 80 train loss: 32.0639 validation loss: 24.2360\n",
            "epoch 81 train loss: 31.7490 validation loss: 23.9834\n",
            "epoch 82 train loss: 31.4351 validation loss: 23.7330\n",
            "epoch 83 train loss: 31.1222 validation loss: 23.4850\n",
            "epoch 84 train loss: 30.8100 validation loss: 23.2399\n",
            "epoch 85 train loss: 30.4988 validation loss: 22.9979\n",
            "epoch 86 train loss: 30.1885 validation loss: 22.7594\n",
            "epoch 87 train loss: 29.8791 validation loss: 22.5245\n",
            "epoch 88 train loss: 29.5709 validation loss: 22.2935\n",
            "epoch 89 train loss: 29.2640 validation loss: 22.0664\n",
            "epoch 90 train loss: 28.9586 validation loss: 21.8431\n",
            "epoch 91 train loss: 28.6548 validation loss: 21.6237\n",
            "epoch 92 train loss: 28.3529 validation loss: 21.4080\n",
            "epoch 93 train loss: 28.0531 validation loss: 21.1960\n",
            "epoch 94 train loss: 27.7556 validation loss: 20.9875\n",
            "epoch 95 train loss: 27.4607 validation loss: 20.7823\n",
            "epoch 96 train loss: 27.1686 validation loss: 20.5802\n",
            "epoch 97 train loss: 26.8793 validation loss: 20.3812\n",
            "epoch 98 train loss: 26.5931 validation loss: 20.1850\n",
            "epoch 99 train loss: 26.3101 validation loss: 19.9914\n",
            "epoch 100 train loss: 26.0302 validation loss: 19.8004\n"
          ]
        },
        {
          "output_type": "display_data",
          "data": {
            "image/png": "[encoded data removed]",
            "text/plain": [
              "<Figure size 432x288 with 1 Axes>"
            ]
          },
          "metadata": {
            "needs_background": "light"
          }
        },
        {
          "output_type": "stream",
          "name": "stdout",
          "text": [
            "Training Done !!\n",
            "test loss:27.4410\n",
            "Calculating R2 Score\n",
            "train r2: 0.6702110628843317\n",
            "test r2: 0.6402148280856728\n"
          ]
        },
        {
          "output_type": "stream",
          "name": "stderr",
          "text": [
            "/usr/local/lib/python3.7/dist-packages/torch/nn/functional.py:1795: UserWarning: nn.functional.tanh is deprecated. Use torch.tanh instead.\n",
            "  warnings.warn(\"nn.functional.tanh is deprecated. Use torch.tanh instead.\")\n",
            "/usr/local/lib/python3.7/dist-packages/ipykernel_launcher.py:39: UserWarning: To copy construct from a tensor, it is recommended to use sourceTensor.clone().detach() or sourceTensor.clone().detach().requires_grad_(True), rather than torch.tensor(sourceTensor).\n",
            "/usr/local/lib/python3.7/dist-packages/ipykernel_launcher.py:40: UserWarning: To copy construct from a tensor, it is recommended to use sourceTensor.clone().detach() or sourceTensor.clone().detach().requires_grad_(True), rather than torch.tensor(sourceTensor).\n"
          ]
        }
      ]
    },
    {
      "cell_type": "markdown",
      "metadata": {
        "id": "OD2sucCiLzqB"
      },
      "source": [
        "# Network 5:\n",
        "\n",
        "No. of Layer = 4\n",
        "\n",
        "Activation Function = relu\n",
        "\n",
        "No. of Neurons in each layer:\n",
        "\n",
        "\n",
        "*   layer1(input layer) = 13\n",
        "*   layer2(hidden layer) = 16\n",
        "*   layer3(hidden layer) = 8    \n",
        "*   layer4(Output layer) = 1\n",
        "\n"
      ]
    },
    {
      "cell_type": "code",
      "metadata": {
        "colab": {
          "base_uri": "https://localhost:8080/",
          "height": 1000
        },
        "id": "_eEfnP_YOWfX",
        "outputId": "dc99b6bb-e2ea-44c3-d1d2-713ce81f0a79"
      },
      "source": [
        "class NeuralNetwork(nn.Module):\n",
        "        def __init__(self):\n",
        "            super(NeuralNetwork, self).__init__()\n",
        "            self.layer1 = nn.Linear(X.shape[1], 16)\n",
        "            self.layer2 = nn.Linear(16, 8)\n",
        "            self.layer3 = nn.Linear(8, 1)\n",
        "\n",
        "        def forward(self, d):\n",
        "            d = F.relu(self.layer1(d))\n",
        "            d = F.relu(self.layer2(d))\n",
        "            d = self.layer3(d)\n",
        "\n",
        "            return d\n",
        "\n",
        "regression_model = NeuralNetwork()\n",
        "print(regression_model)\n",
        "\n",
        "\n",
        "train_datasets = torch.utils.data.TensorDataset(x_train, y_train)\n",
        "train_dataloader = torch.utils.data.DataLoader(train_datasets, batch_size=64)\n",
        "\n",
        "valid_datasets = torch.utils.data.TensorDataset(x_valid, y_valid)\n",
        "valid_dataloader = torch.utils.data.DataLoader(valid_datasets)\n",
        "\n",
        "test_datasets = torch.utils.data.TensorDataset(x_test, y_test)\n",
        "test_dataloader = torch.utils.data.DataLoader(test_datasets)\n",
        "\n",
        "\n",
        "optimizer = optim.Adam(regression_model.parameters(), lr=0.005)\n",
        "got_regression_model = regression_training(train_dataloader,valid_dataloader,regression_model,100,optimizer)\n",
        "print(\"Training Done !!\")\n",
        "\n",
        "testing_loss = regression_test(test_dataloader,got_regression_model,\"test\")\n",
        "\n",
        "\n",
        "\n",
        "print(\"Calculating R2 Score\")\n",
        "\n",
        "Y_train_pred = got_regression_model(torch.tensor(x_train, dtype=torch.float))\n",
        "Y_test_pred = got_regression_model(torch.tensor(x_test, dtype=torch.float))\n",
        "\n",
        "Y_train_pred = Y_train_pred.detach().numpy()\n",
        "Y_test_pred = Y_test_pred.detach().numpy()\n",
        "\n",
        "train_r2 = r2_score(y_train,Y_train_pred)\n",
        "print(\"train r2:\",train_r2)\n",
        "\n",
        "test_r2 = r2_score(y_test, Y_test_pred)\n",
        "print(\"test r2:\",test_r2)\n",
        "\n"
      ],
      "execution_count": null,
      "outputs": [
        {
          "output_type": "stream",
          "name": "stdout",
          "text": [
            "NeuralNetwork(\n",
            "  (layer1): Linear(in_features=13, out_features=16, bias=True)\n",
            "  (layer2): Linear(in_features=16, out_features=8, bias=True)\n",
            "  (layer3): Linear(in_features=8, out_features=1, bias=True)\n",
            ")\n",
            "epoch 1 train loss: 566.9669 validation loss: 500.5476\n",
            "epoch 2 train loss: 562.3053 validation loss: 496.8327\n",
            "epoch 3 train loss: 557.8711 validation loss: 491.8491\n",
            "epoch 4 train loss: 551.4247 validation loss: 484.4733\n",
            "epoch 5 train loss: 541.1529 validation loss: 472.3717\n",
            "epoch 6 train loss: 524.2954 validation loss: 453.0767\n",
            "epoch 7 train loss: 497.8162 validation loss: 423.8588\n",
            "epoch 8 train loss: 458.1996 validation loss: 381.4629\n",
            "epoch 9 train loss: 402.2630 validation loss: 323.6063\n",
            "epoch 10 train loss: 329.2190 validation loss: 251.4346\n",
            "epoch 11 train loss: 243.4225 validation loss: 172.0135\n",
            "epoch 12 train loss: 157.0342 validation loss: 97.9855\n",
            "epoch 13 train loss: 88.4677 validation loss: 44.1641\n",
            "epoch 14 train loss: 54.0267 validation loss: 22.4685\n",
            "epoch 15 train loss: 46.9672 validation loss: 18.4363\n",
            "epoch 16 train loss: 39.7820 validation loss: 17.8657\n",
            "epoch 17 train loss: 32.6377 validation loss: 19.2281\n",
            "epoch 18 train loss: 29.0893 validation loss: 19.6094\n",
            "epoch 19 train loss: 26.7137 validation loss: 18.5985\n",
            "epoch 20 train loss: 24.7413 validation loss: 17.4348\n",
            "epoch 21 train loss: 23.2663 validation loss: 16.6405\n",
            "epoch 22 train loss: 22.1040 validation loss: 16.1768\n",
            "epoch 23 train loss: 21.1563 validation loss: 15.8958\n",
            "epoch 24 train loss: 20.3952 validation loss: 15.6386\n",
            "epoch 25 train loss: 19.7396 validation loss: 15.3650\n",
            "epoch 26 train loss: 19.1453 validation loss: 15.1230\n",
            "epoch 27 train loss: 18.6115 validation loss: 14.9289\n",
            "epoch 28 train loss: 18.1360 validation loss: 14.7780\n",
            "epoch 29 train loss: 17.7259 validation loss: 14.6545\n",
            "epoch 30 train loss: 17.3635 validation loss: 14.5213\n",
            "epoch 31 train loss: 17.0230 validation loss: 14.3783\n",
            "epoch 32 train loss: 16.6916 validation loss: 14.2225\n",
            "epoch 33 train loss: 16.3709 validation loss: 14.0654\n",
            "epoch 34 train loss: 16.0680 validation loss: 13.9045\n",
            "epoch 35 train loss: 15.7821 validation loss: 13.7521\n",
            "epoch 36 train loss: 15.5134 validation loss: 13.6020\n",
            "epoch 37 train loss: 15.2504 validation loss: 13.4384\n",
            "epoch 38 train loss: 14.9920 validation loss: 13.2790\n",
            "epoch 39 train loss: 14.7425 validation loss: 13.1257\n",
            "epoch 40 train loss: 14.5017 validation loss: 12.9679\n",
            "epoch 41 train loss: 14.2703 validation loss: 12.8010\n",
            "epoch 42 train loss: 14.0480 validation loss: 12.6247\n",
            "epoch 43 train loss: 13.8357 validation loss: 12.4505\n",
            "epoch 44 train loss: 13.6291 validation loss: 12.2679\n",
            "epoch 45 train loss: 13.4283 validation loss: 12.0713\n",
            "epoch 46 train loss: 13.2403 validation loss: 11.8859\n",
            "epoch 47 train loss: 13.0651 validation loss: 11.7074\n",
            "epoch 48 train loss: 12.8933 validation loss: 11.5196\n",
            "epoch 49 train loss: 12.7285 validation loss: 11.3437\n",
            "epoch 50 train loss: 12.5768 validation loss: 11.1907\n",
            "epoch 51 train loss: 12.4323 validation loss: 11.0538\n",
            "epoch 52 train loss: 12.2929 validation loss: 10.9245\n",
            "epoch 53 train loss: 12.1599 validation loss: 10.8016\n",
            "epoch 54 train loss: 12.0358 validation loss: 10.6923\n",
            "epoch 55 train loss: 11.9212 validation loss: 10.5844\n",
            "epoch 56 train loss: 11.8074 validation loss: 10.4739\n",
            "epoch 57 train loss: 11.7001 validation loss: 10.3774\n",
            "epoch 58 train loss: 11.5980 validation loss: 10.2887\n",
            "epoch 59 train loss: 11.4996 validation loss: 10.2047\n",
            "epoch 60 train loss: 11.4068 validation loss: 10.1053\n",
            "epoch 61 train loss: 11.3112 validation loss: 9.9998\n",
            "epoch 62 train loss: 11.2221 validation loss: 9.9083\n",
            "epoch 63 train loss: 11.1344 validation loss: 9.8415\n",
            "epoch 64 train loss: 11.0541 validation loss: 9.7733\n",
            "epoch 65 train loss: 10.9731 validation loss: 9.6999\n",
            "epoch 66 train loss: 10.8968 validation loss: 9.6344\n",
            "epoch 67 train loss: 10.8281 validation loss: 9.5993\n",
            "epoch 68 train loss: 10.7577 validation loss: 9.5445\n",
            "epoch 69 train loss: 10.6850 validation loss: 9.4697\n",
            "epoch 70 train loss: 10.6207 validation loss: 9.4295\n",
            "epoch 71 train loss: 10.5624 validation loss: 9.3859\n",
            "epoch 72 train loss: 10.4964 validation loss: 9.3307\n",
            "epoch 73 train loss: 10.4311 validation loss: 9.2942\n",
            "epoch 74 train loss: 10.3770 validation loss: 9.2402\n",
            "epoch 75 train loss: 10.3153 validation loss: 9.1796\n",
            "epoch 76 train loss: 10.2579 validation loss: 9.1408\n",
            "epoch 77 train loss: 10.2031 validation loss: 9.1194\n",
            "epoch 78 train loss: 10.1473 validation loss: 9.0782\n",
            "epoch 79 train loss: 10.0901 validation loss: 9.0309\n",
            "epoch 80 train loss: 10.0420 validation loss: 8.9822\n",
            "epoch 81 train loss: 9.9821 validation loss: 8.9289\n",
            "epoch 82 train loss: 9.9271 validation loss: 8.8705\n",
            "epoch 83 train loss: 9.8746 validation loss: 8.8347\n",
            "epoch 84 train loss: 9.8153 validation loss: 8.8118\n",
            "epoch 85 train loss: 9.7634 validation loss: 8.7680\n",
            "epoch 86 train loss: 9.7111 validation loss: 8.7328\n",
            "epoch 87 train loss: 9.6631 validation loss: 8.7109\n",
            "epoch 88 train loss: 9.6190 validation loss: 8.7037\n",
            "epoch 89 train loss: 9.5683 validation loss: 8.7074\n",
            "epoch 90 train loss: 9.5327 validation loss: 8.6830\n",
            "epoch 91 train loss: 9.4894 validation loss: 8.6439\n",
            "epoch 92 train loss: 9.4462 validation loss: 8.6287\n",
            "epoch 93 train loss: 9.4067 validation loss: 8.6012\n",
            "epoch 94 train loss: 9.3680 validation loss: 8.5929\n",
            "epoch 95 train loss: 9.3311 validation loss: 8.5950\n",
            "epoch 96 train loss: 9.3010 validation loss: 8.5737\n",
            "epoch 97 train loss: 9.2604 validation loss: 8.5538\n",
            "epoch 98 train loss: 9.2279 validation loss: 8.5413\n",
            "epoch 99 train loss: 9.1914 validation loss: 8.5316\n",
            "epoch 100 train loss: 9.1660 validation loss: 8.5057\n"
          ]
        },
        {
          "output_type": "display_data",
          "data": {
            "image/png": "[encoded data removed]",
            "text/plain": [
              "<Figure size 432x288 with 1 Axes>"
            ]
          },
          "metadata": {
            "needs_background": "light"
          }
        },
        {
          "output_type": "stream",
          "name": "stdout",
          "text": [
            "Training Done !!\n",
            "test loss:7.8227\n",
            "Calculating R2 Score\n",
            "train r2: 0.8806396976683626\n",
            "test r2: 0.8974344685050131\n"
          ]
        },
        {
          "output_type": "stream",
          "name": "stderr",
          "text": [
            "/usr/local/lib/python3.7/dist-packages/ipykernel_launcher.py:39: UserWarning: To copy construct from a tensor, it is recommended to use sourceTensor.clone().detach() or sourceTensor.clone().detach().requires_grad_(True), rather than torch.tensor(sourceTensor).\n",
            "/usr/local/lib/python3.7/dist-packages/ipykernel_launcher.py:40: UserWarning: To copy construct from a tensor, it is recommended to use sourceTensor.clone().detach() or sourceTensor.clone().detach().requires_grad_(True), rather than torch.tensor(sourceTensor).\n"
          ]
        }
      ]
    },
    {
      "cell_type": "markdown",
      "metadata": {
        "id": "TAy5yd2hMccJ"
      },
      "source": [
        "# Network 6:\n",
        "\n",
        "No. of Layer = 4\n",
        "\n",
        "Activation Function = tanh\n",
        "\n",
        "No. of Neurons in each layer:\n",
        "\n",
        "\n",
        "*   layer1(input layer) = 13\n",
        "*   layer2(hidden layer) = 16\n",
        "*   layer3(hidden layer) = 8    \n",
        "*   layer4(Output layer) = 1\n",
        "\n"
      ]
    },
    {
      "cell_type": "code",
      "metadata": {
        "colab": {
          "base_uri": "https://localhost:8080/",
          "height": 1000
        },
        "id": "Nk47Z_hPLrdE",
        "outputId": "c8e58914-ae14-44df-c5d4-52498387de27"
      },
      "source": [
        "class NeuralNetwork(nn.Module):\n",
        "        def __init__(self):\n",
        "            super(NeuralNetwork, self).__init__()\n",
        "            self.layer1 = nn.Linear(X.shape[1], 16)\n",
        "            self.layer2 = nn.Linear(16, 8)\n",
        "            self.layer3 = nn.Linear(8, 1)\n",
        "\n",
        "        def forward(self, d):\n",
        "            d = F.tanh(self.layer1(d))\n",
        "            d = F.tanh(self.layer2(d))\n",
        "            d = self.layer3(d)\n",
        "\n",
        "            return d\n",
        "\n",
        "regression_model = NeuralNetwork()\n",
        "print(regression_model)\n",
        "\n",
        "\n",
        "train_datasets = torch.utils.data.TensorDataset(x_train, y_train)\n",
        "train_dataloader = torch.utils.data.DataLoader(train_datasets, batch_size=64)\n",
        "\n",
        "valid_datasets = torch.utils.data.TensorDataset(x_valid, y_valid)\n",
        "valid_dataloader = torch.utils.data.DataLoader(valid_datasets)\n",
        "\n",
        "test_datasets = torch.utils.data.TensorDataset(x_test, y_test)\n",
        "test_dataloader = torch.utils.data.DataLoader(test_datasets)\n",
        "\n",
        "\n",
        "optimizer = optim.Adam(regression_model.parameters(), lr=0.005)\n",
        "got_regression_model = regression_training(train_dataloader,valid_dataloader,regression_model,100,optimizer)\n",
        "print(\"Training Done !!\")\n",
        "\n",
        "testing_loss = regression_test(test_dataloader,got_regression_model,\"test\")\n",
        "\n",
        "\n",
        "\n",
        "print(\"Calculating R2 Score\")\n",
        "\n",
        "Y_train_pred = got_regression_model(torch.tensor(x_train, dtype=torch.float))\n",
        "Y_test_pred = got_regression_model(torch.tensor(x_test, dtype=torch.float))\n",
        "\n",
        "Y_train_pred = Y_train_pred.detach().numpy()\n",
        "Y_test_pred = Y_test_pred.detach().numpy()\n",
        "\n",
        "train_r2 = r2_score(y_train,Y_train_pred)\n",
        "print(\"train r2:\",train_r2)\n",
        "\n",
        "test_r2 = r2_score(y_test, Y_test_pred)\n",
        "print(\"test r2:\",test_r2)\n",
        "\n"
      ],
      "execution_count": null,
      "outputs": [
        {
          "output_type": "stream",
          "name": "stdout",
          "text": [
            "NeuralNetwork(\n",
            "  (layer1): Linear(in_features=13, out_features=16, bias=True)\n",
            "  (layer2): Linear(in_features=16, out_features=8, bias=True)\n",
            "  (layer3): Linear(in_features=8, out_features=1, bias=True)\n",
            ")\n",
            "epoch 1 train loss: 562.9002 validation loss: 492.2769\n",
            "epoch 2 train loss: 549.9978 validation loss: 480.6781\n",
            "epoch 3 train loss: 535.5906 validation loss: 466.7538\n",
            "epoch 4 train loss: 518.7410 validation loss: 449.2256\n",
            "epoch 5 train loss: 499.5698 validation loss: 428.4100\n",
            "epoch 6 train loss: 479.0164 validation loss: 406.9037\n",
            "epoch 7 train loss: 457.8864 validation loss: 386.6649\n",
            "epoch 8 train loss: 436.7326 validation loss: 367.9899\n",
            "epoch 9 train loss: 416.7274 validation loss: 350.9182\n",
            "epoch 10 train loss: 398.6789 validation loss: 335.4421\n"
          ]
        },
        {
          "output_type": "stream",
          "name": "stderr",
          "text": [
            "/usr/local/lib/python3.7/dist-packages/torch/nn/functional.py:1795: UserWarning: nn.functional.tanh is deprecated. Use torch.tanh instead.\n",
            "  warnings.warn(\"nn.functional.tanh is deprecated. Use torch.tanh instead.\")\n"
          ]
        },
        {
          "output_type": "stream",
          "name": "stdout",
          "text": [
            "epoch 11 train loss: 382.5488 validation loss: 321.4228\n",
            "epoch 12 train loss: 368.0063 validation loss: 308.6003\n",
            "epoch 13 train loss: 354.6632 validation loss: 296.7112\n",
            "epoch 14 train loss: 342.2385 validation loss: 285.5804\n",
            "epoch 15 train loss: 330.5612 validation loss: 275.0900\n",
            "epoch 16 train loss: 319.5168 validation loss: 265.1565\n",
            "epoch 17 train loss: 309.0246 validation loss: 255.7182\n",
            "epoch 18 train loss: 299.0259 validation loss: 246.7277\n",
            "epoch 19 train loss: 289.4755 validation loss: 238.1471\n",
            "epoch 20 train loss: 280.3375 validation loss: 229.9461\n",
            "epoch 21 train loss: 271.5826 validation loss: 222.0992\n",
            "epoch 22 train loss: 263.1863 validation loss: 214.5850\n",
            "epoch 23 train loss: 255.1275 validation loss: 207.3845\n",
            "epoch 24 train loss: 247.3878 validation loss: 200.4815\n",
            "epoch 25 train loss: 239.9509 validation loss: 193.8611\n",
            "epoch 26 train loss: 232.8021 validation loss: 187.5091\n",
            "epoch 27 train loss: 225.9275 validation loss: 181.4122\n",
            "epoch 28 train loss: 219.3143 validation loss: 175.5569\n",
            "epoch 29 train loss: 212.9504 validation loss: 169.9295\n",
            "epoch 30 train loss: 206.8259 validation loss: 164.5195\n",
            "epoch 31 train loss: 200.9323 validation loss: 159.3230\n",
            "epoch 32 train loss: 195.2581 validation loss: 154.3272\n",
            "epoch 33 train loss: 189.7947 validation loss: 149.5094\n",
            "epoch 34 train loss: 184.5339 validation loss: 144.8693\n",
            "epoch 35 train loss: 179.4670 validation loss: 140.4266\n",
            "epoch 36 train loss: 174.5869 validation loss: 136.1701\n",
            "epoch 37 train loss: 169.8882 validation loss: 132.0905\n",
            "epoch 38 train loss: 165.3627 validation loss: 128.1953\n",
            "epoch 39 train loss: 161.0018 validation loss: 124.4986\n",
            "epoch 40 train loss: 156.7923 validation loss: 121.0433\n",
            "epoch 41 train loss: 152.7176 validation loss: 117.8737\n",
            "epoch 42 train loss: 148.7656 validation loss: 114.9060\n",
            "epoch 43 train loss: 144.9739 validation loss: 111.7024\n",
            "epoch 44 train loss: 141.3273 validation loss: 108.6545\n",
            "epoch 45 train loss: 137.8300 validation loss: 105.5334\n",
            "epoch 46 train loss: 134.4166 validation loss: 102.8166\n",
            "epoch 47 train loss: 131.2028 validation loss: 99.9112\n",
            "epoch 48 train loss: 127.9918 validation loss: 97.6227\n",
            "epoch 49 train loss: 125.0881 validation loss: 94.7999\n",
            "epoch 50 train loss: 122.0198 validation loss: 92.9705\n",
            "epoch 51 train loss: 119.4531 validation loss: 90.1561\n",
            "epoch 52 train loss: 116.4858 validation loss: 88.7511\n",
            "epoch 53 train loss: 114.2371 validation loss: 85.9686\n",
            "epoch 54 train loss: 111.3770 validation loss: 84.8392\n",
            "epoch 55 train loss: 109.3382 validation loss: 82.1282\n",
            "epoch 56 train loss: 106.6344 validation loss: 81.0690\n",
            "epoch 57 train loss: 104.6639 validation loss: 78.5498\n",
            "epoch 58 train loss: 102.2009 validation loss: 77.3872\n",
            "epoch 59 train loss: 100.2277 validation loss: 75.2835\n",
            "epoch 60 train loss: 98.0493 validation loss: 74.0211\n",
            "epoch 61 train loss: 96.1223 validation loss: 72.3424\n",
            "epoch 62 train loss: 94.1781 validation loss: 71.0561\n",
            "epoch 63 train loss: 92.3500 validation loss: 69.6510\n",
            "epoch 64 train loss: 90.5699 validation loss: 68.3952\n",
            "epoch 65 train loss: 88.8519 validation loss: 67.1342\n",
            "epoch 66 train loss: 87.1926 validation loss: 65.9283\n",
            "epoch 67 train loss: 85.5792 validation loss: 64.7372\n",
            "epoch 68 train loss: 84.0205 validation loss: 63.5670\n",
            "epoch 69 train loss: 82.5058 validation loss: 62.4112\n",
            "epoch 70 train loss: 81.0414 validation loss: 61.2734\n",
            "epoch 71 train loss: 79.6216 validation loss: 60.1627\n",
            "epoch 72 train loss: 78.2504 validation loss: 59.0988\n",
            "epoch 73 train loss: 76.9279 validation loss: 58.0977\n",
            "epoch 74 train loss: 75.6552 validation loss: 57.1553\n",
            "epoch 75 train loss: 74.4298 validation loss: 56.2578\n",
            "epoch 76 train loss: 73.2473 validation loss: 55.3942\n",
            "epoch 77 train loss: 72.1054 validation loss: 54.5626\n",
            "epoch 78 train loss: 71.0017 validation loss: 53.7644\n",
            "epoch 79 train loss: 69.9361 validation loss: 53.0020\n",
            "epoch 80 train loss: 68.9070 validation loss: 52.2764\n",
            "epoch 81 train loss: 67.9133 validation loss: 51.5872\n",
            "epoch 82 train loss: 66.9534 validation loss: 50.9324\n",
            "epoch 83 train loss: 66.0253 validation loss: 50.3087\n",
            "epoch 84 train loss: 65.1276 validation loss: 49.7128\n",
            "epoch 85 train loss: 64.2587 validation loss: 49.1423\n",
            "epoch 86 train loss: 63.4180 validation loss: 48.5955\n",
            "epoch 87 train loss: 62.6044 validation loss: 48.0710\n",
            "epoch 88 train loss: 61.8169 validation loss: 47.5674\n",
            "epoch 89 train loss: 61.0545 validation loss: 47.0845\n",
            "epoch 90 train loss: 60.3167 validation loss: 46.6232\n",
            "epoch 91 train loss: 59.6031 validation loss: 46.1835\n",
            "epoch 92 train loss: 58.9130 validation loss: 45.7642\n",
            "epoch 93 train loss: 58.2458 validation loss: 45.3632\n",
            "epoch 94 train loss: 57.6009 validation loss: 44.9786\n",
            "epoch 95 train loss: 56.9776 validation loss: 44.6097\n",
            "epoch 96 train loss: 56.3752 validation loss: 44.2560\n",
            "epoch 97 train loss: 55.7931 validation loss: 43.9174\n",
            "epoch 98 train loss: 55.2308 validation loss: 43.5938\n",
            "epoch 99 train loss: 54.6875 validation loss: 43.2848\n",
            "epoch 100 train loss: 54.1624 validation loss: 42.9897\n"
          ]
        },
        {
          "output_type": "display_data",
          "data": {
            "image/png": "[encoded data removed]",
            "text/plain": [
              "<Figure size 432x288 with 1 Axes>"
            ]
          },
          "metadata": {
            "needs_background": "light"
          }
        },
        {
          "output_type": "stream",
          "name": "stdout",
          "text": [
            "Training Done !!\n",
            "test loss:64.0218\n",
            "Calculating R2 Score\n",
            "train r2: 0.29445590867239757\n",
            "test r2: 0.16059511218858602\n"
          ]
        },
        {
          "output_type": "stream",
          "name": "stderr",
          "text": [
            "/usr/local/lib/python3.7/dist-packages/torch/nn/functional.py:1795: UserWarning: nn.functional.tanh is deprecated. Use torch.tanh instead.\n",
            "  warnings.warn(\"nn.functional.tanh is deprecated. Use torch.tanh instead.\")\n",
            "/usr/local/lib/python3.7/dist-packages/ipykernel_launcher.py:39: UserWarning: To copy construct from a tensor, it is recommended to use sourceTensor.clone().detach() or sourceTensor.clone().detach().requires_grad_(True), rather than torch.tensor(sourceTensor).\n",
            "/usr/local/lib/python3.7/dist-packages/ipykernel_launcher.py:40: UserWarning: To copy construct from a tensor, it is recommended to use sourceTensor.clone().detach() or sourceTensor.clone().detach().requires_grad_(True), rather than torch.tensor(sourceTensor).\n"
          ]
        }
      ]
    },
    {
      "cell_type": "markdown",
      "metadata": {
        "id": "7aWcsLN6Rgki"
      },
      "source": [
        "#**Classification Task**"
      ]
    },
    {
      "cell_type": "code",
      "metadata": {
        "id": "xcEKHOx4PMy9",
        "colab": {
          "base_uri": "https://localhost:8080/"
        },
        "outputId": "a53b6a94-8725-47cf-c682-a4357cc7f0ed"
      },
      "source": [
        "import pandas as pd\n",
        "import numpy as np\n",
        "from sklearn.metrics import accuracy_score\n",
        "from sklearn.preprocessing import StandardScaler,MinMaxScaler\n",
        "\n",
        "BreastCancer = pd.read_csv(\"/content/BreastCancer.csv\")\n",
        "BreastCancer = BreastCancer.drop(['Unnamed: 32'], axis=1)\n",
        "X1 = BreastCancer.iloc[:,2:].values\n",
        "Y = BreastCancer.iloc[:,1].values\n",
        "scaler = StandardScaler()\n",
        "scaler.fit(X1)\n",
        "X1 = scaler.transform(X1)\n",
        "\n",
        "\n",
        "\n",
        "X1 = np.hstack((X1,np.ones(len(X1)).reshape(len(X1),1)))\n",
        "Y1 = []\n",
        "for i in range(len(Y)):\n",
        "  if Y[i] == 'M':\n",
        "    Y1.append(0)\n",
        "  elif Y[i] == 'B':\n",
        "    Y1.append(1)\n",
        "    \n",
        "Y1 = np.array(Y1)\n",
        "\n",
        "Y1 = torch.tensor(Y1)\n",
        "Y1 = F.one_hot(Y1, num_classes=2) \n",
        "Y1 = torch.tensor(Y1, dtype=torch.float)\n",
        "X1 = torch.tensor(X1, dtype=torch.float)\n",
        "from sklearn.model_selection import train_test_split\n",
        "X_train,X_valid,Y_train,Y_valid = train_test_split(X1,Y1,test_size = 0.2,shuffle = True,random_state = 42)\n",
        "X_train,X_test,Y_train,Y_test = train_test_split(X_train,Y_train,test_size = 0.2,shuffle = True,random_state = 42)\n",
        "print(X_train.shape)\n",
        "print(Y_train.shape)\n",
        "print(X_valid.shape)\n",
        "print(Y_valid.shape)\n",
        "print(X_test.shape)\n",
        "print(Y_test.shape)"
      ],
      "execution_count": 439,
      "outputs": [
        {
          "output_type": "stream",
          "name": "stdout",
          "text": [
            "torch.Size([364, 31])\n",
            "torch.Size([364, 2])\n",
            "torch.Size([114, 31])\n",
            "torch.Size([114, 2])\n",
            "torch.Size([91, 31])\n",
            "torch.Size([91, 2])\n"
          ]
        },
        {
          "output_type": "stream",
          "name": "stderr",
          "text": [
            "/usr/local/lib/python3.7/dist-packages/ipykernel_launcher.py:28: UserWarning: To copy construct from a tensor, it is recommended to use sourceTensor.clone().detach() or sourceTensor.clone().detach().requires_grad_(True), rather than torch.tensor(sourceTensor).\n"
          ]
        }
      ]
    },
    {
      "cell_type": "code",
      "metadata": {
        "colab": {
          "base_uri": "https://localhost:8080/",
          "height": 243
        },
        "id": "5VjeJBpmUL2v",
        "outputId": "da3872d6-9846-483e-a4b7-6e02ebe3bd3f"
      },
      "source": [
        "BreastCancer.head()"
      ],
      "execution_count": 440,
      "outputs": [
        {
          "output_type": "execute_result",
          "data": {
            "text/html": [
              "<div>\n",
              "<style scoped>\n",
              "    .dataframe tbody tr th:only-of-type {\n",
              "        vertical-align: middle;\n",
              "    }\n",
              "\n",
              "    .dataframe tbody tr th {\n",
              "        vertical-align: top;\n",
              "    }\n",
              "\n",
              "    .dataframe thead th {\n",
              "        text-align: right;\n",
              "    }\n",
              "</style>\n",
              "<table border=\"1\" class=\"dataframe\">\n",
              "  <thead>\n",
              "    <tr style=\"text-align: right;\">\n",
              "      <th></th>\n",
              "      <th>id</th>\n",
              "      <th>diagnosis</th>\n",
              "      <th>radius_mean</th>\n",
              "      <th>texture_mean</th>\n",
              "      <th>perimeter_mean</th>\n",
              "      <th>area_mean</th>\n",
              "      <th>smoothness_mean</th>\n",
              "      <th>compactness_mean</th>\n",
              "      <th>concavity_mean</th>\n",
              "      <th>concave points_mean</th>\n",
              "      <th>symmetry_mean</th>\n",
              "      <th>fractal_dimension_mean</th>\n",
              "      <th>radius_se</th>\n",
              "      <th>texture_se</th>\n",
              "      <th>perimeter_se</th>\n",
              "      <th>area_se</th>\n",
              "      <th>smoothness_se</th>\n",
              "      <th>compactness_se</th>\n",
              "      <th>concavity_se</th>\n",
              "      <th>concave points_se</th>\n",
              "      <th>symmetry_se</th>\n",
              "      <th>fractal_dimension_se</th>\n",
              "      <th>radius_worst</th>\n",
              "      <th>texture_worst</th>\n",
              "      <th>perimeter_worst</th>\n",
              "      <th>area_worst</th>\n",
              "      <th>smoothness_worst</th>\n",
              "      <th>compactness_worst</th>\n",
              "      <th>concavity_worst</th>\n",
              "      <th>concave points_worst</th>\n",
              "      <th>symmetry_worst</th>\n",
              "      <th>fractal_dimension_worst</th>\n",
              "    </tr>\n",
              "  </thead>\n",
              "  <tbody>\n",
              "    <tr>\n",
              "      <th>0</th>\n",
              "      <td>842302</td>\n",
              "      <td>M</td>\n",
              "      <td>17.99</td>\n",
              "      <td>10.38</td>\n",
              "      <td>122.80</td>\n",
              "      <td>1001.0</td>\n",
              "      <td>0.11840</td>\n",
              "      <td>0.27760</td>\n",
              "      <td>0.3001</td>\n",
              "      <td>0.14710</td>\n",
              "      <td>0.2419</td>\n",
              "      <td>0.07871</td>\n",
              "      <td>1.0950</td>\n",
              "      <td>0.9053</td>\n",
              "      <td>8.589</td>\n",
              "      <td>153.40</td>\n",
              "      <td>0.006399</td>\n",
              "      <td>0.04904</td>\n",
              "      <td>0.05373</td>\n",
              "      <td>0.01587</td>\n",
              "      <td>0.03003</td>\n",
              "      <td>0.006193</td>\n",
              "      <td>25.38</td>\n",
              "      <td>17.33</td>\n",
              "      <td>184.60</td>\n",
              "      <td>2019.0</td>\n",
              "      <td>0.1622</td>\n",
              "      <td>0.6656</td>\n",
              "      <td>0.7119</td>\n",
              "      <td>0.2654</td>\n",
              "      <td>0.4601</td>\n",
              "      <td>0.11890</td>\n",
              "    </tr>\n",
              "    <tr>\n",
              "      <th>1</th>\n",
              "      <td>842517</td>\n",
              "      <td>M</td>\n",
              "      <td>20.57</td>\n",
              "      <td>17.77</td>\n",
              "      <td>132.90</td>\n",
              "      <td>1326.0</td>\n",
              "      <td>0.08474</td>\n",
              "      <td>0.07864</td>\n",
              "      <td>0.0869</td>\n",
              "      <td>0.07017</td>\n",
              "      <td>0.1812</td>\n",
              "      <td>0.05667</td>\n",
              "      <td>0.5435</td>\n",
              "      <td>0.7339</td>\n",
              "      <td>3.398</td>\n",
              "      <td>74.08</td>\n",
              "      <td>0.005225</td>\n",
              "      <td>0.01308</td>\n",
              "      <td>0.01860</td>\n",
              "      <td>0.01340</td>\n",
              "      <td>0.01389</td>\n",
              "      <td>0.003532</td>\n",
              "      <td>24.99</td>\n",
              "      <td>23.41</td>\n",
              "      <td>158.80</td>\n",
              "      <td>1956.0</td>\n",
              "      <td>0.1238</td>\n",
              "      <td>0.1866</td>\n",
              "      <td>0.2416</td>\n",
              "      <td>0.1860</td>\n",
              "      <td>0.2750</td>\n",
              "      <td>0.08902</td>\n",
              "    </tr>\n",
              "    <tr>\n",
              "      <th>2</th>\n",
              "      <td>84300903</td>\n",
              "      <td>M</td>\n",
              "      <td>19.69</td>\n",
              "      <td>21.25</td>\n",
              "      <td>130.00</td>\n",
              "      <td>1203.0</td>\n",
              "      <td>0.10960</td>\n",
              "      <td>0.15990</td>\n",
              "      <td>0.1974</td>\n",
              "      <td>0.12790</td>\n",
              "      <td>0.2069</td>\n",
              "      <td>0.05999</td>\n",
              "      <td>0.7456</td>\n",
              "      <td>0.7869</td>\n",
              "      <td>4.585</td>\n",
              "      <td>94.03</td>\n",
              "      <td>0.006150</td>\n",
              "      <td>0.04006</td>\n",
              "      <td>0.03832</td>\n",
              "      <td>0.02058</td>\n",
              "      <td>0.02250</td>\n",
              "      <td>0.004571</td>\n",
              "      <td>23.57</td>\n",
              "      <td>25.53</td>\n",
              "      <td>152.50</td>\n",
              "      <td>1709.0</td>\n",
              "      <td>0.1444</td>\n",
              "      <td>0.4245</td>\n",
              "      <td>0.4504</td>\n",
              "      <td>0.2430</td>\n",
              "      <td>0.3613</td>\n",
              "      <td>0.08758</td>\n",
              "    </tr>\n",
              "    <tr>\n",
              "      <th>3</th>\n",
              "      <td>84348301</td>\n",
              "      <td>M</td>\n",
              "      <td>11.42</td>\n",
              "      <td>20.38</td>\n",
              "      <td>77.58</td>\n",
              "      <td>386.1</td>\n",
              "      <td>0.14250</td>\n",
              "      <td>0.28390</td>\n",
              "      <td>0.2414</td>\n",
              "      <td>0.10520</td>\n",
              "      <td>0.2597</td>\n",
              "      <td>0.09744</td>\n",
              "      <td>0.4956</td>\n",
              "      <td>1.1560</td>\n",
              "      <td>3.445</td>\n",
              "      <td>27.23</td>\n",
              "      <td>0.009110</td>\n",
              "      <td>0.07458</td>\n",
              "      <td>0.05661</td>\n",
              "      <td>0.01867</td>\n",
              "      <td>0.05963</td>\n",
              "      <td>0.009208</td>\n",
              "      <td>14.91</td>\n",
              "      <td>26.50</td>\n",
              "      <td>98.87</td>\n",
              "      <td>567.7</td>\n",
              "      <td>0.2098</td>\n",
              "      <td>0.8663</td>\n",
              "      <td>0.6869</td>\n",
              "      <td>0.2575</td>\n",
              "      <td>0.6638</td>\n",
              "      <td>0.17300</td>\n",
              "    </tr>\n",
              "    <tr>\n",
              "      <th>4</th>\n",
              "      <td>84358402</td>\n",
              "      <td>M</td>\n",
              "      <td>20.29</td>\n",
              "      <td>14.34</td>\n",
              "      <td>135.10</td>\n",
              "      <td>1297.0</td>\n",
              "      <td>0.10030</td>\n",
              "      <td>0.13280</td>\n",
              "      <td>0.1980</td>\n",
              "      <td>0.10430</td>\n",
              "      <td>0.1809</td>\n",
              "      <td>0.05883</td>\n",
              "      <td>0.7572</td>\n",
              "      <td>0.7813</td>\n",
              "      <td>5.438</td>\n",
              "      <td>94.44</td>\n",
              "      <td>0.011490</td>\n",
              "      <td>0.02461</td>\n",
              "      <td>0.05688</td>\n",
              "      <td>0.01885</td>\n",
              "      <td>0.01756</td>\n",
              "      <td>0.005115</td>\n",
              "      <td>22.54</td>\n",
              "      <td>16.67</td>\n",
              "      <td>152.20</td>\n",
              "      <td>1575.0</td>\n",
              "      <td>0.1374</td>\n",
              "      <td>0.2050</td>\n",
              "      <td>0.4000</td>\n",
              "      <td>0.1625</td>\n",
              "      <td>0.2364</td>\n",
              "      <td>0.07678</td>\n",
              "    </tr>\n",
              "  </tbody>\n",
              "</table>\n",
              "</div>"
            ],
            "text/plain": [
              "         id diagnosis  ...  symmetry_worst  fractal_dimension_worst\n",
              "0    842302         M  ...          0.4601                  0.11890\n",
              "1    842517         M  ...          0.2750                  0.08902\n",
              "2  84300903         M  ...          0.3613                  0.08758\n",
              "3  84348301         M  ...          0.6638                  0.17300\n",
              "4  84358402         M  ...          0.2364                  0.07678\n",
              "\n",
              "[5 rows x 32 columns]"
            ]
          },
          "metadata": {},
          "execution_count": 440
        }
      ]
    },
    {
      "cell_type": "code",
      "metadata": {
        "colab": {
          "base_uri": "https://localhost:8080/"
        },
        "id": "3QHQufUuT_BI",
        "outputId": "8dd5890e-daae-40b8-a937-6c5076116bee"
      },
      "source": [
        "BreastCancer.isna().sum()"
      ],
      "execution_count": 441,
      "outputs": [
        {
          "output_type": "execute_result",
          "data": {
            "text/plain": [
              "id                         0\n",
              "diagnosis                  0\n",
              "radius_mean                0\n",
              "texture_mean               0\n",
              "perimeter_mean             0\n",
              "area_mean                  0\n",
              "smoothness_mean            0\n",
              "compactness_mean           0\n",
              "concavity_mean             0\n",
              "concave points_mean        0\n",
              "symmetry_mean              0\n",
              "fractal_dimension_mean     0\n",
              "radius_se                  0\n",
              "texture_se                 0\n",
              "perimeter_se               0\n",
              "area_se                    0\n",
              "smoothness_se              0\n",
              "compactness_se             0\n",
              "concavity_se               0\n",
              "concave points_se          0\n",
              "symmetry_se                0\n",
              "fractal_dimension_se       0\n",
              "radius_worst               0\n",
              "texture_worst              0\n",
              "perimeter_worst            0\n",
              "area_worst                 0\n",
              "smoothness_worst           0\n",
              "compactness_worst          0\n",
              "concavity_worst            0\n",
              "concave points_worst       0\n",
              "symmetry_worst             0\n",
              "fractal_dimension_worst    0\n",
              "dtype: int64"
            ]
          },
          "metadata": {},
          "execution_count": 441
        }
      ]
    },
    {
      "cell_type": "code",
      "metadata": {
        "id": "QKJN2DL2WZYL"
      },
      "source": [
        "x_train = X_train\n",
        "y_train = Y_train\n",
        "\n",
        "x_valid = X_valid\n",
        "y_valid = Y_valid\n",
        "\n",
        "x_test = X_test\n",
        "y_test = Y_test\n"
      ],
      "execution_count": 442,
      "outputs": []
    },
    {
      "cell_type": "code",
      "metadata": {
        "id": "lXO01H9EXsg2"
      },
      "source": [
        "def loss_acc_plot(num_epochs_array,store_train_losses,store_validation_losses,store_train_accuracies,store_validation_accuracies,num_epochs):\n",
        "    \n",
        "    ctr = 0\n",
        "    ctr+=1\n",
        "    plot3 = plt.figure(ctr)\n",
        "    plt.plot(num_epochs_array,store_train_losses,label=\"training loss\")\n",
        "    plt.plot(num_epochs_array,store_validation_losses,label=\"validation loss\")\n",
        "    plt.xlabel(\"epochs\")\n",
        "    plt.ylabel(\"loss\")\n",
        "    plt.legend()\n",
        "    plt.show()\n",
        "    plt.close()\n",
        "\n",
        "    ctr+=1\n",
        "    plot4 = plt.figure(ctr)\n",
        "    plt.plot(np.arange(0,num_epochs),store_train_accuracies,label=\"training accuracy\")\n",
        "    plt.plot(np.arange(0,num_epochs),store_validation_accuracies,label=\"validation accuracy\") \n",
        "    plt.xlabel(\"epochs\")\n",
        "    plt.ylabel(\"accuracy\")\n",
        "    plt.legend()\n",
        "    plt.show()\n",
        "    plt.close()"
      ],
      "execution_count": 443,
      "outputs": []
    },
    {
      "cell_type": "code",
      "metadata": {
        "id": "ILpAR4kPWrjV"
      },
      "source": [
        "def classification_train(num_epochs,train_dataloader,valid_dataloader,model,optimizer):\n",
        "    \n",
        "    criterion = nn.CrossEntropyLoss()\n",
        "\n",
        "    store_train_losses =[]\n",
        "    store_train_accuracies = []\n",
        "    store_validation_losses = []\n",
        "    store_validation_accuracies = []\n",
        "\n",
        "    num_total_steps = len(train_dataloader)\n",
        "    \n",
        "\n",
        "    for epoch in range(0,num_epochs):\n",
        "        running_loss = 0.0\n",
        "        running_correct = 0\n",
        "        train_num_samples = 0\n",
        "\n",
        "        for i,(x,lbls) in enumerate(train_dataloader):\n",
        "                        \n",
        "            outputs = model(x)\n",
        "            loss = criterion(outputs,lbls)\n",
        "            \n",
        "            optimizer.zero_grad()\n",
        "            loss.backward()\n",
        "            optimizer.step()\n",
        "\n",
        "\n",
        "            train_predictions = torch.max(outputs,1)[1]\n",
        "            train_num_samples += lbls.shape[0]\n",
        "            running_correct += (train_predictions == torch.max(lbls,1)[1]).sum().item()\n",
        "            running_loss += loss.item()\n",
        "\n",
        "\n",
        "        validation_loss,validation_accuracy = classification_test(valid_dataloader,model,purpose=\"valid\")\n",
        "        print(f'epoch: {epoch+1} / {num_epochs} train loss: {running_loss/num_total_steps:.4f} train accuracy: {(running_correct/train_num_samples)*100:.4f}% validation loss: {validation_loss.item():.4f} validation accuracy: {validation_accuracy:.4f}%')\n",
        "        store_train_losses.append(running_loss/num_total_steps)\n",
        "        store_train_accuracies.append((running_correct/train_num_samples)*100)\n",
        "\n",
        "        store_validation_losses.append(validation_loss)\n",
        "        store_validation_accuracies.append(validation_accuracy)\n",
        "\n",
        "    ### plot ###\n",
        "\n",
        "    loss_acc_plot(np.arange(0,num_epochs),store_train_losses,store_validation_losses,store_train_accuracies,store_validation_accuracies,num_epochs)\n",
        "\n",
        "\n",
        "    return model,np.array(store_train_losses),np.array(store_train_accuracies)\n",
        "        \n",
        "\n",
        "def classification_test(dataloader,model,purpose=\"test\"):\n",
        "    criterion = nn.CrossEntropyLoss()\n",
        "    \n",
        "    with torch.no_grad():\n",
        "        num_correct = 0\n",
        "        num_samples = 0\n",
        "        test_loss = 0\n",
        "        scores = []\n",
        "        test_labels = []\n",
        "        store_predictions = []\n",
        "        \n",
        "        num_total_steps_test = len(dataloader)\n",
        "        for x_t,lbls in dataloader:\n",
        "\n",
        "            outputs = model(x_t)\n",
        "            loss = criterion(outputs,lbls)\n",
        "\n",
        "\n",
        "            predictions = torch.max(outputs,1)[1]\n",
        "            num_samples += lbls.shape[0]\n",
        "            num_correct += (predictions == torch.max(lbls,1)[1]).sum().item()\n",
        "            \n",
        "            if purpose == \"test\":\n",
        "                pred_scores = outputs.cpu().numpy()\n",
        "                for s in pred_scores:\n",
        "                    scores.append(s)\n",
        "\n",
        "                test_lbls = lbls.cpu().numpy()\n",
        "                for tl in test_lbls:\n",
        "                    test_labels.append(np.argmax(tl))\n",
        "                \n",
        "                for p in predictions.cpu().numpy():\n",
        "                    store_predictions.append(p)\n",
        "\n",
        "            test_loss += loss\n",
        "\n",
        "                \n",
        "                \n",
        "        accuracy = (num_correct/num_samples)*100\n",
        "        test_loss = test_loss/num_total_steps_test \n",
        "\n",
        "        if purpose == \"test\": \n",
        "\n",
        "            print(f'test loss:{test_loss:.4f} test accuracy: {accuracy}%')\n",
        "            return test_loss,accuracy,scores,test_labels,store_predictions\n",
        "\n",
        "    \n",
        "    return test_loss,accuracy\n"
      ],
      "execution_count": 444,
      "outputs": []
    },
    {
      "cell_type": "markdown",
      "metadata": {
        "id": "MTwAEYSTV3l3"
      },
      "source": [
        "# Network 1:\n",
        "\n",
        "No. of Layer = 3\n",
        "\n",
        "Activation Function = relu,softmax(using categorical cross entropy for 2 class)\n",
        "\n",
        "No. of Neurons in each layer:\n",
        "\n",
        "\n",
        "*   layer1(input layer) = 31\n",
        "*   layer2(hidden layer) = 31\n",
        "*   layer3(Output layer) = 2\n",
        "\n"
      ]
    },
    {
      "cell_type": "code",
      "metadata": {
        "colab": {
          "base_uri": "https://localhost:8080/",
          "height": 966
        },
        "id": "1mCYpIhSUJgA",
        "outputId": "46da8c43-e50e-4f7e-b419-89aee4c69d3a"
      },
      "source": [
        "class ClassifierNeuralNetwork(nn.Module):\n",
        "        def __init__(self):\n",
        "            super(ClassifierNeuralNetwork, self).__init__()\n",
        "            self.layer1 = nn.Linear(X1.shape[1], 31)\n",
        "            self.layer3 = nn.Linear(31, 2)\n",
        "\n",
        "        def forward(self, d):\n",
        "            d = F.relu(self.layer1(d))\n",
        "            d = F.softmax(self.layer3(d))\n",
        "\n",
        "            return d\n",
        "\n",
        "classification_model = ClassifierNeuralNetwork()\n",
        "print(classification_model)\n",
        "\n",
        "optimizer = optim.Adam(classification_model.parameters(), lr=0.001)\n",
        "\n",
        "train_datasets = torch.utils.data.TensorDataset(x_train, y_train)\n",
        "train_dataloader = torch.utils.data.DataLoader(train_datasets, batch_size=16)\n",
        "\n",
        "valid_datasets = torch.utils.data.TensorDataset(x_valid, y_valid)\n",
        "valid_dataloader = torch.utils.data.DataLoader(valid_datasets)\n",
        "\n",
        "test_datasets = torch.utils.data.TensorDataset(x_test, y_test)\n",
        "test_dataloader = torch.utils.data.DataLoader(test_datasets)\n",
        "\n",
        "model,store_train_losses,store_train_accuracies = classification_train(5,train_dataloader,valid_dataloader,classification_model,optimizer)\n",
        "print(\"Training Done!!\")\n",
        "\n",
        "loss,accuracy,scores,test_labels,store_predictions = classification_test(test_dataloader,model)\n",
        "print(\"Testing Done!!\")\n",
        "\n",
        "print(\"\\nConfusion Matrix\\n\")\n",
        "from sklearn.metrics import confusion_matrix,accuracy_score\n",
        "print(\"confusion_matrix:\\n\",confusion_matrix(y_true = np.array(test_labels), y_pred = (store_predictions)))\n",
        "\n"
      ],
      "execution_count": 481,
      "outputs": [
        {
          "output_type": "stream",
          "name": "stdout",
          "text": [
            "ClassifierNeuralNetwork(\n",
            "  (layer1): Linear(in_features=31, out_features=31, bias=True)\n",
            "  (layer3): Linear(in_features=31, out_features=2, bias=True)\n",
            ")\n",
            "epoch: 1 / 5 train loss: 0.6046 train accuracy: 77.7473% validation loss: 0.5346 validation accuracy: 94.7368%\n",
            "epoch: 2 / 5 train loss: 0.4932 train accuracy: 90.9341% validation loss: 0.4468 validation accuracy: 97.3684%\n",
            "epoch: 3 / 5 train loss: 0.4321 train accuracy: 92.8571% validation loss: 0.4021 validation accuracy: 97.3684%\n"
          ]
        },
        {
          "output_type": "stream",
          "name": "stderr",
          "text": [
            "/usr/local/lib/python3.7/dist-packages/ipykernel_launcher.py:11: UserWarning: Implicit dimension choice for softmax has been deprecated. Change the call to include dim=X as an argument.\n",
            "  # This is added back by InteractiveShellApp.init_path()\n"
          ]
        },
        {
          "output_type": "stream",
          "name": "stdout",
          "text": [
            "epoch: 4 / 5 train loss: 0.4010 train accuracy: 94.2308% validation loss: 0.3796 validation accuracy: 97.3684%\n",
            "epoch: 5 / 5 train loss: 0.3833 train accuracy: 94.7802% validation loss: 0.3668 validation accuracy: 97.3684%\n"
          ]
        },
        {
          "output_type": "display_data",
          "data": {
            "image/png": "[encoded data removed]",
            "text/plain": [
              "<Figure size 432x288 with 1 Axes>"
            ]
          },
          "metadata": {
            "needs_background": "light"
          }
        },
        {
          "output_type": "display_data",
          "data": {
            "image/png": "[encoded data removed]",
            "text/plain": [
              "<Figure size 432x288 with 1 Axes>"
            ]
          },
          "metadata": {
            "needs_background": "light"
          }
        },
        {
          "output_type": "stream",
          "name": "stdout",
          "text": [
            "Training Done!!\n",
            "test loss:0.3852 test accuracy: 95.6043956043956%\n",
            "Testing Done!!\n",
            "\n",
            "Confusion Matrix\n",
            "\n",
            "confusion_matrix:\n",
            " [[33  3]\n",
            " [ 1 54]]\n"
          ]
        },
        {
          "output_type": "stream",
          "name": "stderr",
          "text": [
            "/usr/local/lib/python3.7/dist-packages/ipykernel_launcher.py:11: UserWarning: Implicit dimension choice for softmax has been deprecated. Change the call to include dim=X as an argument.\n",
            "  # This is added back by InteractiveShellApp.init_path()\n"
          ]
        }
      ]
    },
    {
      "cell_type": "markdown",
      "metadata": {
        "id": "xRu8SqdentJE"
      },
      "source": [
        "# Network 2:\n",
        "\n",
        "No. of Layer = 3\n",
        "\n",
        "Activation Function = tanh,softmax(using categorical cross entropy for 2 class)\n",
        "\n",
        "No. of Neurons in each layer:\n",
        "\n",
        "\n",
        "*   layer1(input layer) = 31\n",
        "*   layer2(hidden layer) = 31\n",
        "*   layer3(Output layer) = 2\n",
        "\n",
        "\n",
        "\n"
      ]
    },
    {
      "cell_type": "code",
      "metadata": {
        "colab": {
          "base_uri": "https://localhost:8080/",
          "height": 1000
        },
        "id": "iOrwkNSxkvyr",
        "outputId": "6bd71ec5-469e-4e42-b80c-4fa21182d20c"
      },
      "source": [
        "class ClassifierNeuralNetwork(nn.Module):\n",
        "        def __init__(self):\n",
        "            super(ClassifierNeuralNetwork, self).__init__()\n",
        "            self.layer1 = nn.Linear(X1.shape[1], 31)\n",
        "            self.layer3 = nn.Linear(31, 2)\n",
        "\n",
        "        def forward(self, d):\n",
        "            d = F.tanh(self.layer1(d))\n",
        "            d = F.softmax(self.layer3(d))\n",
        "\n",
        "            return d\n",
        "\n",
        "classification_model = ClassifierNeuralNetwork()\n",
        "print(classification_model)\n",
        "\n",
        "optimizer = optim.Adam(classification_model.parameters(), lr=0.001)\n",
        "\n",
        "train_datasets = torch.utils.data.TensorDataset(x_train, y_train)\n",
        "train_dataloader = torch.utils.data.DataLoader(train_datasets, batch_size=16)\n",
        "\n",
        "valid_datasets = torch.utils.data.TensorDataset(x_valid, y_valid)\n",
        "valid_dataloader = torch.utils.data.DataLoader(valid_datasets)\n",
        "\n",
        "test_datasets = torch.utils.data.TensorDataset(x_test, y_test)\n",
        "test_dataloader = torch.utils.data.DataLoader(test_datasets)\n",
        "\n",
        "\n",
        "model,store_train_losses,store_train_accuracies = classification_train(5,train_dataloader,valid_dataloader,classification_model,optimizer)\n",
        "print(\"Training Done!!\")\n",
        "\n",
        "loss,accuracy,scores,test_labels,store_predictions = classification_test(test_dataloader,model)\n",
        "print(\"Testing Done!!\")\n",
        "\n",
        "print(\"\\nConfusion Matrix\\n\")\n",
        "from sklearn.metrics import confusion_matrix,accuracy_score\n",
        "print(\"confusion_matrix:\\n\",confusion_matrix(y_true = np.array(test_labels), y_pred = (store_predictions)))\n",
        "\n"
      ],
      "execution_count": 486,
      "outputs": [
        {
          "output_type": "stream",
          "name": "stdout",
          "text": [
            "ClassifierNeuralNetwork(\n",
            "  (layer1): Linear(in_features=31, out_features=31, bias=True)\n",
            "  (layer3): Linear(in_features=31, out_features=2, bias=True)\n",
            ")\n",
            "epoch: 1 / 5 train loss: 0.6181 train accuracy: 74.4505% validation loss: 0.5101 validation accuracy: 94.7368%\n",
            "epoch: 2 / 5 train loss: 0.4709 train accuracy: 91.7582% validation loss: 0.4242 validation accuracy: 96.4912%\n",
            "epoch: 3 / 5 train loss: 0.4173 train accuracy: 93.1319% validation loss: 0.3898 validation accuracy: 96.4912%\n"
          ]
        },
        {
          "output_type": "stream",
          "name": "stderr",
          "text": [
            "/usr/local/lib/python3.7/dist-packages/torch/nn/functional.py:1795: UserWarning: nn.functional.tanh is deprecated. Use torch.tanh instead.\n",
            "  warnings.warn(\"nn.functional.tanh is deprecated. Use torch.tanh instead.\")\n",
            "/usr/local/lib/python3.7/dist-packages/ipykernel_launcher.py:11: UserWarning: Implicit dimension choice for softmax has been deprecated. Change the call to include dim=X as an argument.\n",
            "  # This is added back by InteractiveShellApp.init_path()\n"
          ]
        },
        {
          "output_type": "stream",
          "name": "stdout",
          "text": [
            "epoch: 4 / 5 train loss: 0.3907 train accuracy: 95.6044% validation loss: 0.3726 validation accuracy: 97.3684%\n",
            "epoch: 5 / 5 train loss: 0.3744 train accuracy: 96.9780% validation loss: 0.3626 validation accuracy: 97.3684%\n"
          ]
        },
        {
          "output_type": "display_data",
          "data": {
            "image/png": "[encoded data removed]",
            "text/plain": [
              "<Figure size 432x288 with 1 Axes>"
            ]
          },
          "metadata": {
            "needs_background": "light"
          }
        },
        {
          "output_type": "display_data",
          "data": {
            "image/png": "[encoded data removed]",
            "text/plain": [
              "<Figure size 432x288 with 1 Axes>"
            ]
          },
          "metadata": {
            "needs_background": "light"
          }
        },
        {
          "output_type": "stream",
          "name": "stdout",
          "text": [
            "Training Done!!\n",
            "test loss:0.3835 test accuracy: 95.6043956043956%\n",
            "Testing Done!!\n",
            "\n",
            "Confusion Matrix\n",
            "\n",
            "confusion_matrix:\n",
            " [[33  3]\n",
            " [ 1 54]]\n"
          ]
        },
        {
          "output_type": "stream",
          "name": "stderr",
          "text": [
            "/usr/local/lib/python3.7/dist-packages/torch/nn/functional.py:1795: UserWarning: nn.functional.tanh is deprecated. Use torch.tanh instead.\n",
            "  warnings.warn(\"nn.functional.tanh is deprecated. Use torch.tanh instead.\")\n",
            "/usr/local/lib/python3.7/dist-packages/ipykernel_launcher.py:11: UserWarning: Implicit dimension choice for softmax has been deprecated. Change the call to include dim=X as an argument.\n",
            "  # This is added back by InteractiveShellApp.init_path()\n"
          ]
        }
      ]
    },
    {
      "cell_type": "markdown",
      "metadata": {
        "id": "5GVU8SYYo4GS"
      },
      "source": [
        "# Network 3:\n",
        "\n",
        "No. of Layer = 4\n",
        "\n",
        "Activation Function = relu,softmax(using categorical cross entropy for 2 class)\n",
        "\n",
        "No. of Neurons in each layer:\n",
        "\n",
        "\n",
        "*   layer1(input layer) = 31\n",
        "*   layer2(hidden layer) = 31\n",
        "*   layer3(hidden layer) = 31   \n",
        "*   layer4(Output layer) = 2\n",
        "\n"
      ]
    },
    {
      "cell_type": "code",
      "metadata": {
        "colab": {
          "base_uri": "https://localhost:8080/",
          "height": 985
        },
        "id": "svTKiV0rny7g",
        "outputId": "e6048017-a355-4efd-9ffd-2cab0407bbb5"
      },
      "source": [
        "class ClassifierNeuralNetwork(nn.Module):\n",
        "        def __init__(self):\n",
        "            super(ClassifierNeuralNetwork, self).__init__()\n",
        "            self.layer1 = nn.Linear(X1.shape[1], 31)\n",
        "            self.layer2 = nn.Linear(31, 31)\n",
        "            self.layer3 = nn.Linear(31, 2)\n",
        "\n",
        "        def forward(self, d):\n",
        "            d = F.relu(self.layer1(d))\n",
        "            d = F.relu(self.layer2(d))\n",
        "            d = F.softmax(self.layer3(d))\n",
        "\n",
        "            return d\n",
        "\n",
        "classification_model = ClassifierNeuralNetwork()\n",
        "print(classification_model)\n",
        "\n",
        "optimizer = optim.Adam(classification_model.parameters(), lr=0.001)\n",
        "\n",
        "train_datasets = torch.utils.data.TensorDataset(x_train, y_train)\n",
        "train_dataloader = torch.utils.data.DataLoader(train_datasets, batch_size=16)\n",
        "\n",
        "valid_datasets = torch.utils.data.TensorDataset(x_valid, y_valid)\n",
        "valid_dataloader = torch.utils.data.DataLoader(valid_datasets)\n",
        "\n",
        "test_datasets = torch.utils.data.TensorDataset(x_test, y_test)\n",
        "test_dataloader = torch.utils.data.DataLoader(test_datasets)\n",
        "\n",
        "\n",
        "model,store_train_losses,store_train_accuracies = classification_train(5,train_dataloader,valid_dataloader,classification_model,optimizer)\n",
        "print(\"Training Done!!\")\n",
        "\n",
        "loss,accuracy,scores,test_labels,store_predictions = classification_test(test_dataloader,model)\n",
        "print(\"Testing Done!!\")\n",
        "\n",
        "print(\"\\nConfusion Matrix\\n\")\n",
        "from sklearn.metrics import confusion_matrix,accuracy_score\n",
        "print(\"confusion_matrix:\\n\",confusion_matrix(y_true = np.array(test_labels), y_pred = (store_predictions)))\n",
        "\n"
      ],
      "execution_count": 489,
      "outputs": [
        {
          "output_type": "stream",
          "name": "stdout",
          "text": [
            "ClassifierNeuralNetwork(\n",
            "  (layer1): Linear(in_features=31, out_features=31, bias=True)\n",
            "  (layer2): Linear(in_features=31, out_features=31, bias=True)\n",
            "  (layer3): Linear(in_features=31, out_features=2, bias=True)\n",
            ")\n",
            "epoch: 1 / 5 train loss: 0.6613 train accuracy: 79.3956% validation loss: 0.6151 validation accuracy: 95.6140%\n",
            "epoch: 2 / 5 train loss: 0.5578 train accuracy: 94.7802% validation loss: 0.4794 validation accuracy: 95.6140%\n",
            "epoch: 3 / 5 train loss: 0.4347 train accuracy: 95.3297% validation loss: 0.3836 validation accuracy: 96.4912%\n"
          ]
        },
        {
          "output_type": "stream",
          "name": "stderr",
          "text": [
            "/usr/local/lib/python3.7/dist-packages/ipykernel_launcher.py:11: UserWarning: Implicit dimension choice for softmax has been deprecated. Change the call to include dim=X as an argument.\n",
            "  # This is added back by InteractiveShellApp.init_path()\n"
          ]
        },
        {
          "output_type": "stream",
          "name": "stdout",
          "text": [
            "epoch: 4 / 5 train loss: 0.3773 train accuracy: 96.4286% validation loss: 0.3556 validation accuracy: 97.3684%\n",
            "epoch: 5 / 5 train loss: 0.3549 train accuracy: 97.8022% validation loss: 0.3468 validation accuracy: 97.3684%\n"
          ]
        },
        {
          "output_type": "display_data",
          "data": {
            "image/png": "[encoded data removed]",
            "text/plain": [
              "<Figure size 432x288 with 1 Axes>"
            ]
          },
          "metadata": {
            "needs_background": "light"
          }
        },
        {
          "output_type": "display_data",
          "data": {
            "image/png": "[encoded data removed]",
            "text/plain": [
              "<Figure size 432x288 with 1 Axes>"
            ]
          },
          "metadata": {
            "needs_background": "light"
          }
        },
        {
          "output_type": "stream",
          "name": "stdout",
          "text": [
            "Training Done!!\n",
            "test loss:0.3639 test accuracy: 95.6043956043956%\n",
            "Testing Done!!\n",
            "\n",
            "Confusion Matrix\n",
            "\n",
            "confusion_matrix:\n",
            " [[33  3]\n",
            " [ 1 54]]\n"
          ]
        },
        {
          "output_type": "stream",
          "name": "stderr",
          "text": [
            "/usr/local/lib/python3.7/dist-packages/ipykernel_launcher.py:11: UserWarning: Implicit dimension choice for softmax has been deprecated. Change the call to include dim=X as an argument.\n",
            "  # This is added back by InteractiveShellApp.init_path()\n"
          ]
        }
      ]
    },
    {
      "cell_type": "markdown",
      "metadata": {
        "id": "ADMd32rLpfgf"
      },
      "source": [
        "# Network 4:\n",
        "\n",
        "No. of Layer = 4\n",
        "\n",
        "Activation Function = tanh, softmax(using categorical cross entropy for 2 class)\n",
        "\n",
        "No. of Neurons in each layer:\n",
        "\n",
        "\n",
        "\n",
        "*   layer1(input layer) = 31\n",
        "*   layer2(hidden layer) = 31\n",
        "*   layer3(hidden layer) = 31   \n",
        "*   layer4(Output layer) = 2\n",
        "\n"
      ]
    },
    {
      "cell_type": "code",
      "metadata": {
        "colab": {
          "base_uri": "https://localhost:8080/",
          "height": 1000
        },
        "id": "bU4Op8hspCdW",
        "outputId": "2c087ce9-09dd-40c5-db6d-92c636d52167"
      },
      "source": [
        "class ClassifierNeuralNetwork(nn.Module):\n",
        "        def __init__(self):\n",
        "            super(ClassifierNeuralNetwork, self).__init__()\n",
        "            self.layer1 = nn.Linear(X1.shape[1], 31)\n",
        "            self.layer2 = nn.Linear(31,31)\n",
        "            self.layer3 = nn.Linear(31, 2)\n",
        "\n",
        "        def forward(self, d):\n",
        "            d = F.tanh(self.layer1(d))\n",
        "            d = F.tanh(self.layer2(d))\n",
        "            d = F.softmax(self.layer3(d))\n",
        "\n",
        "            return d\n",
        "\n",
        "classification_model = ClassifierNeuralNetwork()\n",
        "print(classification_model)\n",
        "\n",
        "optimizer = optim.Adam(classification_model.parameters(), lr=0.001)\n",
        "\n",
        "train_datasets = torch.utils.data.TensorDataset(x_train, y_train)\n",
        "train_dataloader = torch.utils.data.DataLoader(train_datasets, batch_size=16)\n",
        "\n",
        "valid_datasets = torch.utils.data.TensorDataset(x_valid, y_valid)\n",
        "valid_dataloader = torch.utils.data.DataLoader(valid_datasets)\n",
        "\n",
        "test_datasets = torch.utils.data.TensorDataset(x_test, y_test)\n",
        "test_dataloader = torch.utils.data.DataLoader(test_datasets)\n",
        "\n",
        "\n",
        "model,store_train_losses,store_train_accuracies = classification_train(5,train_dataloader,valid_dataloader,classification_model,optimizer)\n",
        "print(\"Training Done!!\")\n",
        "\n",
        "loss,accuracy,scores,test_labels,store_predictions = classification_test(test_dataloader,model)\n",
        "print(\"Testing Done!!\")\n",
        "\n",
        "print(\"\\nConfusion Matrix\\n\")\n",
        "from sklearn.metrics import confusion_matrix,accuracy_score\n",
        "print(\"confusion_matrix:\\n\",confusion_matrix(y_true = np.array(test_labels), y_pred = (store_predictions)))\n",
        "\n"
      ],
      "execution_count": 491,
      "outputs": [
        {
          "output_type": "stream",
          "name": "stdout",
          "text": [
            "ClassifierNeuralNetwork(\n",
            "  (layer1): Linear(in_features=31, out_features=31, bias=True)\n",
            "  (layer2): Linear(in_features=31, out_features=31, bias=True)\n",
            "  (layer3): Linear(in_features=31, out_features=2, bias=True)\n",
            ")\n",
            "epoch: 1 / 5 train loss: 0.6304 train accuracy: 73.9011% validation loss: 0.5299 validation accuracy: 92.9825%\n",
            "epoch: 2 / 5 train loss: 0.4764 train accuracy: 91.2088% validation loss: 0.4100 validation accuracy: 95.6140%\n",
            "epoch: 3 / 5 train loss: 0.4017 train accuracy: 93.9560% validation loss: 0.3660 validation accuracy: 97.3684%\n"
          ]
        },
        {
          "output_type": "stream",
          "name": "stderr",
          "text": [
            "/usr/local/lib/python3.7/dist-packages/torch/nn/functional.py:1795: UserWarning: nn.functional.tanh is deprecated. Use torch.tanh instead.\n",
            "  warnings.warn(\"nn.functional.tanh is deprecated. Use torch.tanh instead.\")\n",
            "/usr/local/lib/python3.7/dist-packages/ipykernel_launcher.py:11: UserWarning: Implicit dimension choice for softmax has been deprecated. Change the call to include dim=X as an argument.\n",
            "  # This is added back by InteractiveShellApp.init_path()\n"
          ]
        },
        {
          "output_type": "stream",
          "name": "stdout",
          "text": [
            "epoch: 4 / 5 train loss: 0.3688 train accuracy: 96.1538% validation loss: 0.3507 validation accuracy: 98.2456%\n",
            "epoch: 5 / 5 train loss: 0.3521 train accuracy: 97.5275% validation loss: 0.3444 validation accuracy: 98.2456%\n"
          ]
        },
        {
          "output_type": "display_data",
          "data": {
            "image/png": "[encoded data removed]",
            "text/plain": [
              "<Figure size 432x288 with 1 Axes>"
            ]
          },
          "metadata": {
            "needs_background": "light"
          }
        },
        {
          "output_type": "display_data",
          "data": {
            "image/png": "[encoded data removed]",
            "text/plain": [
              "<Figure size 432x288 with 1 Axes>"
            ]
          },
          "metadata": {
            "needs_background": "light"
          }
        },
        {
          "output_type": "stream",
          "name": "stdout",
          "text": [
            "Training Done!!\n",
            "test loss:0.3618 test accuracy: 96.7032967032967%\n",
            "Testing Done!!\n",
            "\n",
            "Confusion Matrix\n",
            "\n",
            "confusion_matrix:\n",
            " [[34  2]\n",
            " [ 1 54]]\n"
          ]
        },
        {
          "output_type": "stream",
          "name": "stderr",
          "text": [
            "/usr/local/lib/python3.7/dist-packages/torch/nn/functional.py:1795: UserWarning: nn.functional.tanh is deprecated. Use torch.tanh instead.\n",
            "  warnings.warn(\"nn.functional.tanh is deprecated. Use torch.tanh instead.\")\n",
            "/usr/local/lib/python3.7/dist-packages/ipykernel_launcher.py:11: UserWarning: Implicit dimension choice for softmax has been deprecated. Change the call to include dim=X as an argument.\n",
            "  # This is added back by InteractiveShellApp.init_path()\n"
          ]
        }
      ]
    },
    {
      "cell_type": "markdown",
      "metadata": {
        "id": "JdkBWz0dpvK5"
      },
      "source": [
        "# Network 5:\n",
        "\n",
        "No. of Layer = 3\n",
        "\n",
        "Activation Function = relu, softmax(using categorical cross entropy for 2 class)\n",
        "\n",
        "No. of Neurons in each layer:\n",
        "\n",
        "\n",
        "*   layer1(input layer) = 31\n",
        "<!-- *   layer2(hidden layer) = 15 -->\n",
        "*   layer3(hidden layer) = 10   \n",
        "*   layer4(Output layer) = 2\n",
        "\n"
      ]
    },
    {
      "cell_type": "code",
      "metadata": {
        "colab": {
          "base_uri": "https://localhost:8080/",
          "height": 966
        },
        "id": "S5FSscVrpoao",
        "outputId": "e1baa28a-1df8-499b-aafc-e793c2941869"
      },
      "source": [
        "class ClassifierNeuralNetwork(nn.Module):\n",
        "        def __init__(self):\n",
        "            super(ClassifierNeuralNetwork, self).__init__()\n",
        "            self.layer1 = nn.Linear(X1.shape[1], 10)\n",
        "            self.layer3 = nn.Linear(10, 2)\n",
        "\n",
        "        def forward(self, d):\n",
        "            d = F.relu(self.layer1(d))\n",
        "            d = F.softmax(self.layer3(d))\n",
        "\n",
        "            return d\n",
        "\n",
        "classification_model = ClassifierNeuralNetwork()\n",
        "print(classification_model)\n",
        "\n",
        "optimizer = optim.Adam(classification_model.parameters(), lr=0.001)\n",
        "\n",
        "train_datasets = torch.utils.data.TensorDataset(x_train, y_train)\n",
        "train_dataloader = torch.utils.data.DataLoader(train_datasets, batch_size=16)\n",
        "\n",
        "valid_datasets = torch.utils.data.TensorDataset(x_valid, y_valid)\n",
        "valid_dataloader = torch.utils.data.DataLoader(valid_datasets)\n",
        "\n",
        "test_datasets = torch.utils.data.TensorDataset(x_test, y_test)\n",
        "test_dataloader = torch.utils.data.DataLoader(test_datasets)\n",
        "\n",
        "\n",
        "model,store_train_losses,store_train_accuracies = classification_train(5,train_dataloader,valid_dataloader,classification_model,optimizer)\n",
        "print(\"Training Done!!\")\n",
        "\n",
        "loss,accuracy,scores,test_labels,store_predictions = classification_test(test_dataloader,model)\n",
        "print(\"Testing Done!!\")\n",
        "\n",
        "print(\"\\nConfusion Matrix\\n\")\n",
        "from sklearn.metrics import confusion_matrix,accuracy_score\n",
        "print(\"confusion_matrix:\\n\",confusion_matrix(y_true = np.array(test_labels), y_pred = (store_predictions)))\n",
        "\n"
      ],
      "execution_count": 494,
      "outputs": [
        {
          "output_type": "stream",
          "name": "stdout",
          "text": [
            "ClassifierNeuralNetwork(\n",
            "  (layer1): Linear(in_features=31, out_features=10, bias=True)\n",
            "  (layer3): Linear(in_features=10, out_features=2, bias=True)\n",
            ")\n",
            "epoch: 1 / 5 train loss: 0.6098 train accuracy: 81.0440% validation loss: 0.5812 validation accuracy: 83.3333%\n",
            "epoch: 2 / 5 train loss: 0.5449 train accuracy: 89.5604% validation loss: 0.5136 validation accuracy: 92.9825%\n",
            "epoch: 3 / 5 train loss: 0.4861 train accuracy: 92.0330% validation loss: 0.4588 validation accuracy: 94.7368%\n",
            "epoch: 4 / 5 train loss: 0.4439 train accuracy: 93.4066% validation loss: 0.4224 validation accuracy: 95.6140%\n"
          ]
        },
        {
          "output_type": "stream",
          "name": "stderr",
          "text": [
            "/usr/local/lib/python3.7/dist-packages/ipykernel_launcher.py:9: UserWarning: Implicit dimension choice for softmax has been deprecated. Change the call to include dim=X as an argument.\n",
            "  if __name__ == '__main__':\n"
          ]
        },
        {
          "output_type": "stream",
          "name": "stdout",
          "text": [
            "epoch: 5 / 5 train loss: 0.4166 train accuracy: 93.9560% validation loss: 0.3990 validation accuracy: 96.4912%\n"
          ]
        },
        {
          "output_type": "display_data",
          "data": {
            "image/png": "[encoded data removed]",
            "text/plain": [
              "<Figure size 432x288 with 1 Axes>"
            ]
          },
          "metadata": {
            "needs_background": "light"
          }
        },
        {
          "output_type": "display_data",
          "data": {
            "image/png": "[encoded data removed]",
            "text/plain": [
              "<Figure size 432x288 with 1 Axes>"
            ]
          },
          "metadata": {
            "needs_background": "light"
          }
        },
        {
          "output_type": "stream",
          "name": "stdout",
          "text": [
            "Training Done!!\n",
            "test loss:0.4147 test accuracy: 94.5054945054945%\n",
            "Testing Done!!\n",
            "\n",
            "Confusion Matrix\n",
            "\n",
            "confusion_matrix:\n",
            " [[32  4]\n",
            " [ 1 54]]\n"
          ]
        },
        {
          "output_type": "stream",
          "name": "stderr",
          "text": [
            "/usr/local/lib/python3.7/dist-packages/ipykernel_launcher.py:9: UserWarning: Implicit dimension choice for softmax has been deprecated. Change the call to include dim=X as an argument.\n",
            "  if __name__ == '__main__':\n"
          ]
        }
      ]
    },
    {
      "cell_type": "markdown",
      "metadata": {
        "id": "Y9OLa-8FqhIo"
      },
      "source": [
        "# Network 6:\n",
        "\n",
        "No. of Layer = 3\n",
        "\n",
        "Activation Function = tanh, softmax(using categorical cross entropy for 2 class)\n",
        "\n",
        "No. of Neurons in each layer:\n",
        "\n",
        "\n",
        "*   layer1(input layer) = 31\n",
        "<!-- *   layer2(hidden layer) = 15 -->\n",
        "*   layer3(hidden layer) = 10   \n",
        "*   layer4(Output layer) = 2\n",
        "\n"
      ]
    },
    {
      "cell_type": "code",
      "metadata": {
        "colab": {
          "base_uri": "https://localhost:8080/",
          "height": 1000
        },
        "id": "Ubga8U6Ep7Gn",
        "outputId": "58e2fa7f-d8d2-47ee-d8a8-f3c1455093cb"
      },
      "source": [
        "class ClassifierNeuralNetwork(nn.Module):\n",
        "        def __init__(self):\n",
        "            super(ClassifierNeuralNetwork, self).__init__()\n",
        "            self.layer1 = nn.Linear(X1.shape[1], 10)\n",
        "            # self.layer2 = nn.Linear(15, 15)\n",
        "            self.layer3 = nn.Linear(10, 2)\n",
        "\n",
        "        def forward(self, d):\n",
        "            d = F.tanh(self.layer1(d))\n",
        "            # d = F.tanh(self.layer2(d))\n",
        "            d = F.softmax(self.layer3(d))\n",
        "\n",
        "            return d\n",
        "\n",
        "classification_model = ClassifierNeuralNetwork()\n",
        "print(classification_model)\n",
        "\n",
        "optimizer = optim.Adam(classification_model.parameters(), lr=0.001)\n",
        "\n",
        "train_datasets = torch.utils.data.TensorDataset(x_train, y_train)\n",
        "train_dataloader = torch.utils.data.DataLoader(train_datasets, batch_size=16)\n",
        "\n",
        "valid_datasets = torch.utils.data.TensorDataset(x_valid, y_valid)\n",
        "valid_dataloader = torch.utils.data.DataLoader(valid_datasets)\n",
        "\n",
        "test_datasets = torch.utils.data.TensorDataset(x_test, y_test)\n",
        "test_dataloader = torch.utils.data.DataLoader(test_datasets)\n",
        "\n",
        "\n",
        "model,store_train_losses,store_train_accuracies = classification_train(5,train_dataloader,valid_dataloader,classification_model,optimizer)\n",
        "print(\"Training Done!!\")\n",
        "\n",
        "loss,accuracy,scores,test_labels,store_predictions = classification_test(test_dataloader,model)\n",
        "print(\"Testing Done!!\")\n",
        "\n",
        "print(\"\\nConfusion Matrix\\n\")\n",
        "from sklearn.metrics import confusion_matrix,accuracy_score\n",
        "print(\"confusion_matrix:\\n\",confusion_matrix(y_true = np.array(test_labels), y_pred = (store_predictions)))\n",
        "\n"
      ],
      "execution_count": 496,
      "outputs": [
        {
          "output_type": "stream",
          "name": "stdout",
          "text": [
            "ClassifierNeuralNetwork(\n",
            "  (layer1): Linear(in_features=31, out_features=10, bias=True)\n",
            "  (layer3): Linear(in_features=10, out_features=2, bias=True)\n",
            ")\n",
            "epoch: 1 / 5 train loss: 0.6501 train accuracy: 68.9560% validation loss: 0.5924 validation accuracy: 81.5789%\n",
            "epoch: 2 / 5 train loss: 0.5545 train accuracy: 87.6374% validation loss: 0.5101 validation accuracy: 91.2281%\n",
            "epoch: 3 / 5 train loss: 0.4906 train accuracy: 89.8352% validation loss: 0.4559 validation accuracy: 93.8596%\n",
            "epoch: 4 / 5 train loss: 0.4500 train accuracy: 91.4835% validation loss: 0.4216 validation accuracy: 96.4912%\n"
          ]
        },
        {
          "output_type": "stream",
          "name": "stderr",
          "text": [
            "/usr/local/lib/python3.7/dist-packages/torch/nn/functional.py:1795: UserWarning: nn.functional.tanh is deprecated. Use torch.tanh instead.\n",
            "  warnings.warn(\"nn.functional.tanh is deprecated. Use torch.tanh instead.\")\n",
            "/usr/local/lib/python3.7/dist-packages/ipykernel_launcher.py:11: UserWarning: Implicit dimension choice for softmax has been deprecated. Change the call to include dim=X as an argument.\n",
            "  # This is added back by InteractiveShellApp.init_path()\n"
          ]
        },
        {
          "output_type": "stream",
          "name": "stdout",
          "text": [
            "epoch: 5 / 5 train loss: 0.4232 train accuracy: 92.5824% validation loss: 0.3996 validation accuracy: 96.4912%\n"
          ]
        },
        {
          "output_type": "display_data",
          "data": {
            "image/png": "[encoded data removed]",
            "text/plain": [
              "<Figure size 432x288 with 1 Axes>"
            ]
          },
          "metadata": {
            "needs_background": "light"
          }
        },
        {
          "output_type": "display_data",
          "data": {
            "image/png": "[encoded data removed]",
            "text/plain": [
              "<Figure size 432x288 with 1 Axes>"
            ]
          },
          "metadata": {
            "needs_background": "light"
          }
        },
        {
          "output_type": "stream",
          "name": "stdout",
          "text": [
            "Training Done!!\n",
            "test loss:0.4242 test accuracy: 93.4065934065934%\n",
            "Testing Done!!\n",
            "\n",
            "Confusion Matrix\n",
            "\n",
            "confusion_matrix:\n",
            " [[32  4]\n",
            " [ 2 53]]\n"
          ]
        },
        {
          "output_type": "stream",
          "name": "stderr",
          "text": [
            "/usr/local/lib/python3.7/dist-packages/torch/nn/functional.py:1795: UserWarning: nn.functional.tanh is deprecated. Use torch.tanh instead.\n",
            "  warnings.warn(\"nn.functional.tanh is deprecated. Use torch.tanh instead.\")\n",
            "/usr/local/lib/python3.7/dist-packages/ipykernel_launcher.py:11: UserWarning: Implicit dimension choice for softmax has been deprecated. Change the call to include dim=X as an argument.\n",
            "  # This is added back by InteractiveShellApp.init_path()\n"
          ]
        }
      ]
    },
    {
      "cell_type": "code",
      "metadata": {
        "id": "ezT5wOLSqot2"
      },
      "source": [
        ""
      ],
      "execution_count": null,
      "outputs": []
    }
  ]
}