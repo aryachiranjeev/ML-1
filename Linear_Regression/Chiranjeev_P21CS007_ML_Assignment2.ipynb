{
  "nbformat": 4,
  "nbformat_minor": 0,
  "metadata": {
    "colab": {
      "name": "Chiranjeev_P21CS007_ML_Assignment2.ipynb",
      "provenance": [],
      "collapsed_sections": []
    },
    "kernelspec": {
      "name": "python3",
      "display_name": "Python 3"
    },
    "language_info": {
      "name": "python"
    }
  },
  "cells": [
    {
      "cell_type": "code",
      "metadata": {
        "id": "75p-l80GqHBt"
      },
      "source": [
        "import matplotlib.pyplot as plt\n",
        "import numpy as np\n",
        "import pandas as pd\n",
        "import seaborn as sns"
      ],
      "execution_count": 229,
      "outputs": []
    },
    {
      "cell_type": "code",
      "metadata": {
        "id": "a6tkq36nr3xo"
      },
      "source": [
        "from sklearn.datasets import load_boston\n",
        "boston =  load_boston()\n",
        "feature_name = boston.feature_names\n",
        "X = boston.data\n",
        "Y = boston.target"
      ],
      "execution_count": 230,
      "outputs": []
    },
    {
      "cell_type": "code",
      "metadata": {
        "colab": {
          "base_uri": "https://localhost:8080/"
        },
        "id": "kGrejZX_uezG",
        "outputId": "5e5405d5-37b0-409b-b76b-69669bf44bfd"
      },
      "source": [
        "print(X.shape)\n",
        "print(Y.shape)"
      ],
      "execution_count": 231,
      "outputs": [
        {
          "output_type": "stream",
          "name": "stdout",
          "text": [
            "(506, 13)\n",
            "(506,)\n"
          ]
        }
      ]
    },
    {
      "cell_type": "code",
      "metadata": {
        "colab": {
          "base_uri": "https://localhost:8080/",
          "height": 137
        },
        "id": "4oDhSMsJkDOe",
        "outputId": "2b5c7f89-4717-436f-e903-039f682fd2b9"
      },
      "source": [
        "boston['DESCR']"
      ],
      "execution_count": 232,
      "outputs": [
        {
          "output_type": "execute_result",
          "data": {
            "application/vnd.google.colaboratory.intrinsic+json": {
              "type": "string"
            },
            "text/plain": [
              "\".. _boston_dataset:\\n\\nBoston house prices dataset\\n---------------------------\\n\\n**Data Set Characteristics:**  \\n\\n    :Number of Instances: 506 \\n\\n    :Number of Attributes: 13 numeric/categorical predictive. Median Value (attribute 14) is usually the target.\\n\\n    :Attribute Information (in order):\\n        - CRIM     per capita crime rate by town\\n        - ZN       proportion of residential land zoned for lots over 25,000 sq.ft.\\n        - INDUS    proportion of non-retail business acres per town\\n        - CHAS     Charles River dummy variable (= 1 if tract bounds river; 0 otherwise)\\n        - NOX      nitric oxides concentration (parts per 10 million)\\n        - RM       average number of rooms per dwelling\\n        - AGE      proportion of owner-occupied units built prior to 1940\\n        - DIS      weighted distances to five Boston employment centres\\n        - RAD      index of accessibility to radial highways\\n        - TAX      full-value property-tax rate per $10,000\\n        - PTRATIO  pupil-teacher ratio by town\\n        - B        1000(Bk - 0.63)^2 where Bk is the proportion of blacks by town\\n        - LSTAT    % lower status of the population\\n        - MEDV     Median value of owner-occupied homes in $1000's\\n\\n    :Missing Attribute Values: None\\n\\n    :Creator: Harrison, D. and Rubinfeld, D.L.\\n\\nThis is a copy of UCI ML housing dataset.\\nhttps://archive.ics.uci.edu/ml/machine-learning-databases/housing/\\n\\n\\nThis dataset was taken from the StatLib library which is maintained at Carnegie Mellon University.\\n\\nThe Boston house-price data of Harrison, D. and Rubinfeld, D.L. 'Hedonic\\nprices and the demand for clean air', J. Environ. Economics & Management,\\nvol.5, 81-102, 1978.   Used in Belsley, Kuh & Welsch, 'Regression diagnostics\\n...', Wiley, 1980.   N.B. Various transformations are used in the table on\\npages 244-261 of the latter.\\n\\nThe Boston house-price data has been used in many machine learning papers that address regression\\nproblems.   \\n     \\n.. topic:: References\\n\\n   - Belsley, Kuh & Welsch, 'Regression diagnostics: Identifying Influential Data and Sources of Collinearity', Wiley, 1980. 244-261.\\n   - Quinlan,R. (1993). Combining Instance-Based and Model-Based Learning. In Proceedings on the Tenth International Conference of Machine Learning, 236-243, University of Massachusetts, Amherst. Morgan Kaufmann.\\n\""
            ]
          },
          "metadata": {},
          "execution_count": 232
        }
      ]
    },
    {
      "cell_type": "code",
      "metadata": {
        "id": "dYttpErnl4G5"
      },
      "source": [
        "feature_names = []\n",
        "\n",
        "for f in feature_name:\n",
        "  feature_names.append(f)\n",
        "feature_names.append('MEDV')"
      ],
      "execution_count": 234,
      "outputs": []
    },
    {
      "cell_type": "code",
      "metadata": {
        "id": "lVN872g8jH3A"
      },
      "source": [
        "boston_dataset = np.hstack((X,np.reshape(Y,(len(Y),1))))\n",
        "boston_df = pd.DataFrame(boston_dataset,columns = feature_names)"
      ],
      "execution_count": 235,
      "outputs": []
    },
    {
      "cell_type": "code",
      "metadata": {
        "colab": {
          "base_uri": "https://localhost:8080/",
          "height": 204
        },
        "id": "7EdNCxvP2me_",
        "outputId": "4caa5bdd-b62d-4875-c57b-ebe27a97522e"
      },
      "source": [
        "boston_df.head()"
      ],
      "execution_count": 236,
      "outputs": [
        {
          "output_type": "execute_result",
          "data": {
            "text/html": [
              "<div>\n",
              "<style scoped>\n",
              "    .dataframe tbody tr th:only-of-type {\n",
              "        vertical-align: middle;\n",
              "    }\n",
              "\n",
              "    .dataframe tbody tr th {\n",
              "        vertical-align: top;\n",
              "    }\n",
              "\n",
              "    .dataframe thead th {\n",
              "        text-align: right;\n",
              "    }\n",
              "</style>\n",
              "<table border=\"1\" class=\"dataframe\">\n",
              "  <thead>\n",
              "    <tr style=\"text-align: right;\">\n",
              "      <th></th>\n",
              "      <th>CRIM</th>\n",
              "      <th>ZN</th>\n",
              "      <th>INDUS</th>\n",
              "      <th>CHAS</th>\n",
              "      <th>NOX</th>\n",
              "      <th>RM</th>\n",
              "      <th>AGE</th>\n",
              "      <th>DIS</th>\n",
              "      <th>RAD</th>\n",
              "      <th>TAX</th>\n",
              "      <th>PTRATIO</th>\n",
              "      <th>B</th>\n",
              "      <th>LSTAT</th>\n",
              "      <th>MEDV</th>\n",
              "    </tr>\n",
              "  </thead>\n",
              "  <tbody>\n",
              "    <tr>\n",
              "      <th>0</th>\n",
              "      <td>0.00632</td>\n",
              "      <td>18.0</td>\n",
              "      <td>2.31</td>\n",
              "      <td>0.0</td>\n",
              "      <td>0.538</td>\n",
              "      <td>6.575</td>\n",
              "      <td>65.2</td>\n",
              "      <td>4.0900</td>\n",
              "      <td>1.0</td>\n",
              "      <td>296.0</td>\n",
              "      <td>15.3</td>\n",
              "      <td>396.90</td>\n",
              "      <td>4.98</td>\n",
              "      <td>24.0</td>\n",
              "    </tr>\n",
              "    <tr>\n",
              "      <th>1</th>\n",
              "      <td>0.02731</td>\n",
              "      <td>0.0</td>\n",
              "      <td>7.07</td>\n",
              "      <td>0.0</td>\n",
              "      <td>0.469</td>\n",
              "      <td>6.421</td>\n",
              "      <td>78.9</td>\n",
              "      <td>4.9671</td>\n",
              "      <td>2.0</td>\n",
              "      <td>242.0</td>\n",
              "      <td>17.8</td>\n",
              "      <td>396.90</td>\n",
              "      <td>9.14</td>\n",
              "      <td>21.6</td>\n",
              "    </tr>\n",
              "    <tr>\n",
              "      <th>2</th>\n",
              "      <td>0.02729</td>\n",
              "      <td>0.0</td>\n",
              "      <td>7.07</td>\n",
              "      <td>0.0</td>\n",
              "      <td>0.469</td>\n",
              "      <td>7.185</td>\n",
              "      <td>61.1</td>\n",
              "      <td>4.9671</td>\n",
              "      <td>2.0</td>\n",
              "      <td>242.0</td>\n",
              "      <td>17.8</td>\n",
              "      <td>392.83</td>\n",
              "      <td>4.03</td>\n",
              "      <td>34.7</td>\n",
              "    </tr>\n",
              "    <tr>\n",
              "      <th>3</th>\n",
              "      <td>0.03237</td>\n",
              "      <td>0.0</td>\n",
              "      <td>2.18</td>\n",
              "      <td>0.0</td>\n",
              "      <td>0.458</td>\n",
              "      <td>6.998</td>\n",
              "      <td>45.8</td>\n",
              "      <td>6.0622</td>\n",
              "      <td>3.0</td>\n",
              "      <td>222.0</td>\n",
              "      <td>18.7</td>\n",
              "      <td>394.63</td>\n",
              "      <td>2.94</td>\n",
              "      <td>33.4</td>\n",
              "    </tr>\n",
              "    <tr>\n",
              "      <th>4</th>\n",
              "      <td>0.06905</td>\n",
              "      <td>0.0</td>\n",
              "      <td>2.18</td>\n",
              "      <td>0.0</td>\n",
              "      <td>0.458</td>\n",
              "      <td>7.147</td>\n",
              "      <td>54.2</td>\n",
              "      <td>6.0622</td>\n",
              "      <td>3.0</td>\n",
              "      <td>222.0</td>\n",
              "      <td>18.7</td>\n",
              "      <td>396.90</td>\n",
              "      <td>5.33</td>\n",
              "      <td>36.2</td>\n",
              "    </tr>\n",
              "  </tbody>\n",
              "</table>\n",
              "</div>"
            ],
            "text/plain": [
              "      CRIM    ZN  INDUS  CHAS    NOX  ...    TAX  PTRATIO       B  LSTAT  MEDV\n",
              "0  0.00632  18.0   2.31   0.0  0.538  ...  296.0     15.3  396.90   4.98  24.0\n",
              "1  0.02731   0.0   7.07   0.0  0.469  ...  242.0     17.8  396.90   9.14  21.6\n",
              "2  0.02729   0.0   7.07   0.0  0.469  ...  242.0     17.8  392.83   4.03  34.7\n",
              "3  0.03237   0.0   2.18   0.0  0.458  ...  222.0     18.7  394.63   2.94  33.4\n",
              "4  0.06905   0.0   2.18   0.0  0.458  ...  222.0     18.7  396.90   5.33  36.2\n",
              "\n",
              "[5 rows x 14 columns]"
            ]
          },
          "metadata": {},
          "execution_count": 236
        }
      ]
    },
    {
      "cell_type": "code",
      "metadata": {
        "colab": {
          "base_uri": "https://localhost:8080/"
        },
        "id": "Sd5FvyPZ21yP",
        "outputId": "89ae193a-c8f9-49b7-e66c-50cbf8318b1c"
      },
      "source": [
        "boston_df.isnull().sum()"
      ],
      "execution_count": 237,
      "outputs": [
        {
          "output_type": "execute_result",
          "data": {
            "text/plain": [
              "CRIM       0\n",
              "ZN         0\n",
              "INDUS      0\n",
              "CHAS       0\n",
              "NOX        0\n",
              "RM         0\n",
              "AGE        0\n",
              "DIS        0\n",
              "RAD        0\n",
              "TAX        0\n",
              "PTRATIO    0\n",
              "B          0\n",
              "LSTAT      0\n",
              "MEDV       0\n",
              "dtype: int64"
            ]
          },
          "metadata": {},
          "execution_count": 237
        }
      ]
    },
    {
      "cell_type": "code",
      "metadata": {
        "id": "zGcqTN4XumI1"
      },
      "source": [
        "def find_correlation(X):\n",
        "  correlation_matrix=np.zeros((X.shape[1],X.shape[1]))\n",
        "  mean_features=[X[:,j].sum(axis=0)/len(X) for j in range(X.shape[1])]\n",
        "  # print(mean_features)\n",
        "  \n",
        "  def correlation_calculation_formula(vecX,vecY,X_mean,Y_mean):\n",
        "    numerator=np.sum((np.array(vecX)-X_mean)*(np.array(vecY)-Y_mean))\n",
        "    denominator=np.sqrt(np.sum((np.array(vecX)-X_mean)**2) * np.sum((np.array(vecY)-Y_mean)**2))\n",
        "    correlation_coff=numerator/denominator\n",
        "    return correlation_coff\n",
        "\n",
        "  for i in range(len(correlation_matrix)):\n",
        "    for j in range(len(correlation_matrix)):\n",
        "      correlation_matrix[i][j]=correlation_calculation_formula(X[:,i],X[:,j],mean_features[i],mean_features[j])\n",
        "  # print(correlation_matrix)\n",
        "  return correlation_matrix \n",
        "\n",
        "corr_matrix=find_correlation(boston_dataset)\n",
        "  \n"
      ],
      "execution_count": 238,
      "outputs": []
    },
    {
      "cell_type": "code",
      "metadata": {
        "colab": {
          "base_uri": "https://localhost:8080/",
          "height": 269
        },
        "id": "1ViTICb393N2",
        "outputId": "043da03a-2ebe-4ba2-866f-29bc8b72352f"
      },
      "source": [
        "ax = sns.heatmap(corr_matrix , linewidth = 0.5)# ,annot=True)#, cmap = 'autumn')"
      ],
      "execution_count": 239,
      "outputs": [
        {
          "output_type": "display_data",
          "data": {
            "image/png": "[encoded data removed]",
            "text/plain": [
              "<Figure size 432x288 with 2 Axes>"
            ]
          },
          "metadata": {
            "needs_background": "light"
          }
        }
      ]
    },
    {
      "cell_type": "code",
      "metadata": {
        "colab": {
          "base_uri": "https://localhost:8080/",
          "height": 301
        },
        "id": "LQV-vm_u-ZUS",
        "outputId": "cf87fc44-cffa-4c19-b56e-e9bb3fa45eba"
      },
      "source": [
        "ax = sns.heatmap(pd.DataFrame(boston_df).corr(), linewidth = 0.5)#, annot=True) #, cmap = 'autumn' )"
      ],
      "execution_count": 240,
      "outputs": [
        {
          "output_type": "display_data",
          "data": {
            "image/png": "[encoded data removed]",
            "text/plain": [
              "<Figure size 432x288 with 2 Axes>"
            ]
          },
          "metadata": {
            "needs_background": "light"
          }
        }
      ]
    },
    {
      "cell_type": "code",
      "metadata": {
        "colab": {
          "base_uri": "https://localhost:8080/"
        },
        "id": "ZJaG-j1GRoup",
        "outputId": "60681ea2-1d09-4789-ef11-71015c12d6a6"
      },
      "source": [
        "from sklearn.model_selection import train_test_split\n",
        "X_train, X_test, Y_train, Y_test = train_test_split(X, Y, test_size = 0.2, random_state=5)\n",
        "print(X_train.shape)\n",
        "print(Y_train.shape)"
      ],
      "execution_count": 241,
      "outputs": [
        {
          "output_type": "stream",
          "name": "stdout",
          "text": [
            "(404, 13)\n",
            "(404,)\n"
          ]
        }
      ]
    },
    {
      "cell_type": "markdown",
      "metadata": {
        "id": "JmMxTiqF114e"
      },
      "source": [
        "# Psuedo-inverse"
      ]
    },
    {
      "cell_type": "code",
      "metadata": {
        "id": "rqHDoPHX17de"
      },
      "source": [
        "A = np.dot(X_train.T,X_train)"
      ],
      "execution_count": 242,
      "outputs": []
    },
    {
      "cell_type": "code",
      "metadata": {
        "colab": {
          "base_uri": "https://localhost:8080/"
        },
        "id": "V0p6dZQ62Fd0",
        "outputId": "4472be15-ddfc-460a-c454-921f436d1876"
      },
      "source": [
        "print(A.shape)"
      ],
      "execution_count": 243,
      "outputs": [
        {
          "output_type": "stream",
          "name": "stdout",
          "text": [
            "(13, 13)\n"
          ]
        }
      ]
    },
    {
      "cell_type": "code",
      "metadata": {
        "colab": {
          "base_uri": "https://localhost:8080/"
        },
        "id": "2fLLB7eH2Fgq",
        "outputId": "52bdfa6b-3aa2-40c4-e299-b69af39b5939"
      },
      "source": [
        "A_pseudo_inverse = np.linalg.pinv(A)\n",
        "print(A_pseudo_inverse.shape)"
      ],
      "execution_count": 244,
      "outputs": [
        {
          "output_type": "stream",
          "name": "stdout",
          "text": [
            "(13, 13)\n"
          ]
        }
      ]
    },
    {
      "cell_type": "code",
      "metadata": {
        "colab": {
          "base_uri": "https://localhost:8080/"
        },
        "id": "xX7PSBaz2FiM",
        "outputId": "a5d573af-12de-406b-f8fe-a6de9c2270d7"
      },
      "source": [
        "A_pseudo_inverse = np.linalg.pinv(A)\n",
        "print(A_pseudo_inverse.shape)"
      ],
      "execution_count": 245,
      "outputs": [
        {
          "output_type": "stream",
          "name": "stdout",
          "text": [
            "(13, 13)\n"
          ]
        }
      ]
    },
    {
      "cell_type": "code",
      "metadata": {
        "colab": {
          "base_uri": "https://localhost:8080/"
        },
        "id": "6cRQWXCM2FkW",
        "outputId": "9a1119dc-769c-4595-b797-48c6a53bd6d4"
      },
      "source": [
        "b = np.dot(X_train.T,np.reshape(Y_train,(len(Y_train),1)))#np.matmul(X_train,np.reshape(Y_train,(len(Y_train),1)))\n",
        "b.shape"
      ],
      "execution_count": 246,
      "outputs": [
        {
          "output_type": "execute_result",
          "data": {
            "text/plain": [
              "(13, 1)"
            ]
          },
          "metadata": {},
          "execution_count": 246
        }
      ]
    },
    {
      "cell_type": "code",
      "metadata": {
        "colab": {
          "base_uri": "https://localhost:8080/"
        },
        "id": "L0le2Blj3HEC",
        "outputId": "24f743d5-b17b-48a4-f175-6211a0822b57"
      },
      "source": [
        " W = np.dot(A_pseudo_inverse,b)\n",
        " W.shape"
      ],
      "execution_count": 247,
      "outputs": [
        {
          "output_type": "execute_result",
          "data": {
            "text/plain": [
              "(13, 1)"
            ]
          },
          "metadata": {},
          "execution_count": 247
        }
      ]
    },
    {
      "cell_type": "code",
      "metadata": {
        "id": "p9wEc9nq3HLe"
      },
      "source": [
        "def mean_squarred_error_calculation(y_pred,y_true):\n",
        "\n",
        "  error = (1/len(y_true)) * (np.sum((y_pred-y_true)**2))\n",
        "\n",
        "  return error\n",
        "\n"
      ],
      "execution_count": 248,
      "outputs": []
    },
    {
      "cell_type": "code",
      "metadata": {
        "id": "ds5BuwSV3Scb"
      },
      "source": [
        "y_pred_train = np.dot(X_train,W)\n",
        "y_pred_test = np.dot(X_test,W)\n",
        "\n",
        "\n",
        "Y_Pred_Train = []\n",
        "Y_Pred_Test = []\n",
        "\n",
        "for i in y_pred_train:\n",
        "  Y_Pred_Train.append(i[0])\n",
        "\n",
        "for j in y_pred_test:\n",
        "  Y_Pred_Test.append(j[0])\n"
      ],
      "execution_count": 249,
      "outputs": []
    },
    {
      "cell_type": "code",
      "metadata": {
        "colab": {
          "base_uri": "https://localhost:8080/"
        },
        "id": "ThVzQwZ13SkV",
        "outputId": "647cc034-a0c2-470f-a242-f105cd8c4c9c"
      },
      "source": [
        "print('Training MSE:', mean_squarred_error_calculation(Y_Pred_Train,Y_train))\n",
        "print('Training RMSE:', np.sqrt(mean_squarred_error_calculation(Y_Pred_Train,Y_train)))"
      ],
      "execution_count": 250,
      "outputs": [
        {
          "output_type": "stream",
          "name": "stdout",
          "text": [
            "Training MSE: 24.96112055223666\n",
            "Training RMSE: 4.996110542435652\n"
          ]
        }
      ]
    },
    {
      "cell_type": "code",
      "metadata": {
        "colab": {
          "base_uri": "https://localhost:8080/"
        },
        "id": "driLu_13fcby",
        "outputId": "16c4e159-93a7-4c41-f8cf-3d764c400de3"
      },
      "source": [
        "RSS_sum_of_squares_of_residual_errors = np.sum((Y_train-Y_Pred_Train)**2)\n",
        "TSS_total_sum_of_errors = np.sum((Y_train - Y_train.mean(axis = 0))**2)\n",
        "R2_score = 1 - (RSS_sum_of_squares_of_residual_errors / TSS_total_sum_of_errors)\n",
        "print('R2_score:',R2_score)"
      ],
      "execution_count": 251,
      "outputs": [
        {
          "output_type": "stream",
          "name": "stdout",
          "text": [
            "R2_score: 0.709422266854064\n"
          ]
        }
      ]
    },
    {
      "cell_type": "markdown",
      "metadata": {
        "id": "IZf1ykurVgfV"
      },
      "source": [
        "**Testing Phase**"
      ]
    },
    {
      "cell_type": "code",
      "metadata": {
        "colab": {
          "base_uri": "https://localhost:8080/"
        },
        "id": "wBmdPKS03SqT",
        "outputId": "531de21a-27c9-49ac-c79c-52b69d714571"
      },
      "source": [
        "print('Testing MSE:', mean_squarred_error_calculation(Y_Pred_Test,Y_test))\n",
        "print('Testing RMSE:', np.sqrt(mean_squarred_error_calculation(Y_Pred_Test,Y_test)))"
      ],
      "execution_count": 252,
      "outputs": [
        {
          "output_type": "stream",
          "name": "stdout",
          "text": [
            "Testing MSE: 22.75666652645474\n",
            "Testing RMSE: 4.77039479775571\n"
          ]
        }
      ]
    },
    {
      "cell_type": "code",
      "metadata": {
        "colab": {
          "base_uri": "https://localhost:8080/"
        },
        "id": "houWOG6cfZET",
        "outputId": "cd7ab6ec-bc79-4d44-d11b-6997f39fd6eb"
      },
      "source": [
        "RSS_sum_of_squares_of_residual_errors = np.sum((Y_test-Y_Pred_Test)**2)\n",
        "TSS_total_sum_of_errors = np.sum((Y_test - Y_test.mean(axis = 0))**2)\n",
        "R2_score = 1 - (RSS_sum_of_squares_of_residual_errors / TSS_total_sum_of_errors)\n",
        "print('R2_score:',R2_score)"
      ],
      "execution_count": 253,
      "outputs": [
        {
          "output_type": "stream",
          "name": "stdout",
          "text": [
            "R2_score: 0.7093429293628457\n"
          ]
        }
      ]
    },
    {
      "cell_type": "markdown",
      "metadata": {
        "id": "TVs8QKfJ18B_"
      },
      "source": [
        "#Gradient Descenet"
      ]
    },
    {
      "cell_type": "code",
      "metadata": {
        "colab": {
          "base_uri": "https://localhost:8080/",
          "height": 1000
        },
        "id": "P44yK1eJKgPN",
        "outputId": "154cd494-7a73-4f04-e415-78c90243cc75"
      },
      "source": [
        "theta=[0 for t in range(0,X_train.shape[1]+1)]\n",
        "alpha = 0.01\n",
        "\n",
        "def hypothesis_function(x,theta):\n",
        " \n",
        "  hypothesis = theta[0] + np.sum((theta[1:] * x),axis=1)\n",
        "  \n",
        "  return hypothesis\n",
        "\n",
        "\n",
        "def cost_function(y,hypothesis):\n",
        "\n",
        "  cost = (1/len(y)) * (np.sum((hypothesis-y)**2))\n",
        "\n",
        "  return cost \n",
        "\n",
        "\n",
        "\n",
        "def predict(x,theta):\n",
        "\n",
        "  y_pred = theta[0] + np.sum((theta[1:] * x),axis=1)\n",
        "\n",
        "  return y_pred\n",
        "\n",
        "\n",
        "\n",
        "def linear_regression_gradient_descent(x,y,theta,alpha):\n",
        "  \n",
        "  hypothesis=hypothesis_function(x,theta)\n",
        "  theta[0] = theta[0] - alpha * (2/len(x)) * (np.sum((hypothesis-y)*1))\n",
        "  \n",
        "  for j in range(0,x.shape[1]):\n",
        "    theta[j+1] = theta[j+1] - alpha * (2/len(x)) * (np.sum((hypothesis-y)*x[:,j]))\n",
        "\n",
        "  return theta\n",
        "\n",
        "\n",
        "\n",
        "#epoch 0\n",
        "\n",
        "hypothesis=hypothesis_function(X_train,theta)\n",
        "cost=cost_function(Y_train,hypothesis)\n",
        "\n",
        "print(\"epoch:\",0,\" \",\"loss:\",cost)\n",
        "\n",
        "##\n",
        "\n",
        "dic_theta=[]\n",
        "dic_loss=[]\n",
        "dic_hyp=[]\n",
        "\n",
        "dic_theta.append(theta)\n",
        "dic_loss.append(cost)\n",
        "dic_hyp.append(hypothesis)\n",
        "\n",
        "# img_array=[]\n",
        "\n",
        "num_epochs = 500\n",
        "\n",
        "for epoch in range(1,num_epochs):\n",
        "\n",
        "  theta = linear_regression_gradient_descent(X_train,Y_train,theta,alpha)\n",
        "  hypothesis = hypothesis_function(X_train,theta)\n",
        "  cost=cost_function(Y_train,hypothesis)\n",
        "\n",
        "  print(\"epoch:\",epoch,\" \",\"loss:\",cost)\n",
        "\n",
        "  dic_theta.append(theta)\n",
        "  dic_loss.append(cost)\n",
        "  dic_hyp.append(hypothesis)\n",
        "\n",
        "# print(predict(X_train,theta))\n",
        "\n",
        "\n",
        "epochs=np.arange(0,num_epochs)\n",
        "plt.plot(epochs,dic_loss)\n",
        "\n",
        "\n",
        "\n"
      ],
      "execution_count": 210,
      "outputs": [
        {
          "output_type": "stream",
          "name": "stdout",
          "text": [
            "epoch: 0   loss: 598.7784405940595\n",
            "epoch: 1   loss: 568.2619949041555\n",
            "epoch: 2   loss: 540.7004023400413\n",
            "epoch: 3   loss: 515.5810018231042\n",
            "epoch: 4   loss: 492.5013122541778\n",
            "epoch: 5   loss: 471.1442364468577\n",
            "epoch: 6   loss: 451.2588930395076\n",
            "epoch: 7   loss: 432.6457970507752\n",
            "epoch: 8   loss: 415.1454006377128\n",
            "epoch: 9   loss: 398.6292303632679\n",
            "epoch: 10   loss: 382.99303092223425\n",
            "epoch: 11   loss: 368.1514594326998\n",
            "epoch: 12   loss: 354.0339780520309\n",
            "epoch: 13   loss: 340.58167275931964\n",
            "epoch: 14   loss: 327.7447880194016\n",
            "epoch: 15   loss: 315.48081484777265\n",
            "epoch: 16   loss: 303.7530067301513\n",
            "epoch: 17   loss: 292.5292263867429\n",
            "epoch: 18   loss: 281.7810484191063\n",
            "epoch: 19   loss: 271.4830599123295\n",
            "epoch: 20   loss: 261.6123142268776\n",
            "epoch: 21   loss: 252.14790338370963\n",
            "epoch: 22   loss: 243.07062230350044\n",
            "epoch: 23   loss: 234.36270423175813\n",
            "epoch: 24   loss: 226.00761137248642\n",
            "epoch: 25   loss: 217.98986837758855\n",
            "epoch: 26   loss: 210.29492913992365\n",
            "epoch: 27   loss: 202.90906950211235\n",
            "epoch: 28   loss: 195.8193001655794\n",
            "epoch: 29   loss: 189.01329537673615\n",
            "epoch: 30   loss: 182.4793339660299\n",
            "epoch: 31   loss: 176.20625008757435\n",
            "epoch: 32   loss: 170.1833916037925\n",
            "epoch: 33   loss: 164.40058452079262\n",
            "epoch: 34   loss: 158.8481022368478\n",
            "epoch: 35   loss: 153.51663864213748\n",
            "epoch: 36   loss: 148.39728432122254\n",
            "epoch: 37   loss: 143.48150527474849\n",
            "epoch: 38   loss: 138.7611237045868\n",
            "epoch: 39   loss: 134.22830050549936\n",
            "epoch: 40   loss: 129.87551918300036\n",
            "epoch: 41   loss: 125.69557097644865\n",
            "epoch: 42   loss: 121.68154101244586\n",
            "epoch: 43   loss: 117.82679534936032\n",
            "epoch: 44   loss: 114.12496880157703\n",
            "epoch: 45   loss: 110.56995345369836\n",
            "epoch: 46   loss: 107.15588779177594\n",
            "epoch: 47   loss: 103.87714639182505\n",
            "epoch: 48   loss: 100.72833011618738\n",
            "epoch: 49   loss: 97.7042567764103\n",
            "epoch: 50   loss: 94.7999522277004\n",
            "epoch: 51   loss: 92.01064186506696\n",
            "epoch: 52   loss: 89.33174249529839\n",
            "epoch: 53   loss: 86.75885456213817\n",
            "epoch: 54   loss: 84.28775470462574\n",
            "epoch: 55   loss: 81.91438863068086\n",
            "epoch: 56   loss: 79.63486428974069\n",
            "epoch: 57   loss: 77.44544532969233\n",
            "epoch: 58   loss: 75.34254482454331\n",
            "epoch: 59   loss: 73.32271926028602\n",
            "epoch: 60   loss: 71.38266276728014\n",
            "epoch: 61   loss: 69.51920158822958\n",
            "epoch: 62   loss: 67.72928877148665\n",
            "epoch: 63   loss: 66.00999908000057\n",
            "epoch: 64   loss: 64.35852410674825\n",
            "epoch: 65   loss: 62.772167587956176\n",
            "epoch: 66   loss: 61.24834090585298\n",
            "epoch: 67   loss: 59.78455877308578\n",
            "epoch: 68   loss: 58.37843509129992\n",
            "epoch: 69   loss: 57.02767897672118\n",
            "epoch: 70   loss: 55.730090945897715\n",
            "epoch: 71   loss: 54.483559255058665\n",
            "epoch: 72   loss: 53.286056386827674\n",
            "epoch: 73   loss: 52.13563567829701\n",
            "epoch: 74   loss: 51.030428084721045\n",
            "epoch: 75   loss: 49.96863907332798\n",
            "epoch: 76   loss: 48.94854564197848\n",
            "epoch: 77   loss: 47.96849345761761\n",
            "epoch: 78   loss: 47.026894109675425\n",
            "epoch: 79   loss: 46.12222247377062\n",
            "epoch: 80   loss: 45.25301418126185\n",
            "epoch: 81   loss: 44.417863190373744\n",
            "epoch: 82   loss: 43.615419454799174\n",
            "epoch: 83   loss: 42.84438668584612\n",
            "epoch: 84   loss: 42.103520204357416\n",
            "epoch: 85   loss: 41.39162487878537\n",
            "epoch: 86   loss: 40.707553145949724\n",
            "epoch: 87   loss: 40.050203111148505\n",
            "epoch: 88   loss: 39.418516724426425\n",
            "epoch: 89   loss: 38.811478029934705\n",
            "epoch: 90   loss: 38.228111485440586\n",
            "epoch: 91   loss: 37.66748034916388\n",
            "epoch: 92   loss: 37.12868513123181\n",
            "epoch: 93   loss: 36.610862107153444\n",
            "epoch: 94   loss: 36.11318189081961\n",
            "epoch: 95   loss: 35.634848064635285\n",
            "epoch: 96   loss: 35.17509586448798\n",
            "epoch: 97   loss: 34.733190917348345\n",
            "epoch: 98   loss: 34.30842802938864\n",
            "epoch: 99   loss: 33.90013002258925\n",
            "epoch: 100   loss: 33.50764661788624\n",
            "epoch: 101   loss: 33.130353362990796\n",
            "epoch: 102   loss: 32.76765060308728\n",
            "epoch: 103   loss: 32.418962492688514\n",
            "epoch: 104   loss: 32.08373604699682\n",
            "epoch: 105   loss: 31.761440231185283\n",
            "epoch: 106   loss: 31.451565086078258\n",
            "epoch: 107   loss: 31.153620888770902\n",
            "epoch: 108   loss: 30.86713734678657\n",
            "epoch: 109   loss: 30.591662824427317\n",
            "epoch: 110   loss: 30.326763600026947\n",
            "epoch: 111   loss: 30.0720231528678\n",
            "epoch: 112   loss: 29.827041478572518\n",
            "epoch: 113   loss: 29.591434431829875\n",
            "epoch: 114   loss: 29.364833095359444\n",
            "epoch: 115   loss: 29.14688317406414\n",
            "epoch: 116   loss: 28.937244413361977\n",
            "epoch: 117   loss: 28.73559004072858\n",
            "epoch: 118   loss: 28.5416062295214\n",
            "epoch: 119   loss: 28.354991584193517\n",
            "epoch: 120   loss: 28.175456646041074\n",
            "epoch: 121   loss: 28.002723418662512\n",
            "epoch: 122   loss: 27.836524912340945\n",
            "epoch: 123   loss: 27.676604706592737\n",
            "epoch: 124   loss: 27.52271653015549\n",
            "epoch: 125   loss: 27.374623857718053\n",
            "epoch: 126   loss: 27.232099522723235\n",
            "epoch: 127   loss: 27.094925345600302\n",
            "epoch: 128   loss: 26.9628917768108\n",
            "epoch: 129   loss: 26.83579755411532\n",
            "epoch: 130   loss: 26.7134493734932\n",
            "epoch: 131   loss: 26.59566157316926\n",
            "epoch: 132   loss: 26.482255830224236\n",
            "epoch: 133   loss: 26.373060869286167\n",
            "epoch: 134   loss: 26.26791218282006\n",
            "epoch: 135   loss: 26.16665176255283\n",
            "epoch: 136   loss: 26.069127841588863\n",
            "epoch: 137   loss: 25.9751946467893\n",
            "epoch: 138   loss: 25.884712161005513\n",
            "epoch: 139   loss: 25.797545894773247\n",
            "epoch: 140   loss: 25.71356666708998\n",
            "epoch: 141   loss: 25.632650394913224\n",
            "epoch: 142   loss: 25.554677891031467\n",
            "epoch: 143   loss: 25.479534669974143\n",
            "epoch: 144   loss: 25.40711076163971\n",
            "epoch: 145   loss: 25.337300532334226\n",
            "epoch: 146   loss: 25.270002512924744\n",
            "epoch: 147   loss: 25.205119233824\n",
            "epoch: 148   loss: 25.14255706653402\n",
            "epoch: 149   loss: 25.082226071487188\n",
            "epoch: 150   loss: 25.02403985193379\n",
            "epoch: 151   loss: 24.96791541363507\n",
            "epoch: 152   loss: 24.913773030130564\n",
            "epoch: 153   loss: 24.86153611335751\n",
            "epoch: 154   loss: 24.81113108940916\n",
            "epoch: 155   loss: 24.762487279227457\n",
            "epoch: 156   loss: 24.7155367840333\n",
            "epoch: 157   loss: 24.67021437530598\n",
            "epoch: 158   loss: 24.626457389130536\n",
            "epoch: 159   loss: 24.584205624739177\n",
            "epoch: 160   loss: 24.54340124707977\n",
            "epoch: 161   loss: 24.503988693251245\n",
            "epoch: 162   loss: 24.465914582651816\n",
            "epoch: 163   loss: 24.429127630692467\n",
            "epoch: 164   loss: 24.39357856593376\n",
            "epoch: 165   loss: 24.359220050509776\n",
            "epoch: 166   loss: 24.326006603708464\n",
            "epoch: 167   loss: 24.293894528582804\n",
            "epoch: 168   loss: 24.26284184147233\n",
            "epoch: 169   loss: 24.232808204319188\n",
            "epoch: 170   loss: 24.20375485966769\n",
            "epoch: 171   loss: 24.175644568240685\n",
            "epoch: 172   loss: 24.14844154899019\n",
            "epoch: 173   loss: 24.122111421524146\n",
            "epoch: 174   loss: 24.096621150814673\n",
            "epoch: 175   loss: 24.071938994097287\n",
            "epoch: 176   loss: 24.048034449873892\n",
            "epoch: 177   loss: 24.024878208936194\n",
            "epoch: 178   loss: 24.002442107328957\n",
            "epoch: 179   loss: 23.980699081176372\n",
            "epoch: 180   loss: 23.959623123297323\n",
            "epoch: 181   loss: 23.93918924153855\n",
            "epoch: 182   loss: 23.919373418757598\n",
            "epoch: 183   loss: 23.90015257438994\n",
            "epoch: 184   loss: 23.881504527537366\n",
            "epoch: 185   loss: 23.86340796151742\n",
            "epoch: 186   loss: 23.84584238981567\n",
            "epoch: 187   loss: 23.828788123385305\n",
            "epoch: 188   loss: 23.812226239240495\n",
            "epoch: 189   loss: 23.796138550292252\n",
            "epoch: 190   loss: 23.780507576377474\n",
            "epoch: 191   loss: 23.76531651643376\n",
            "epoch: 192   loss: 23.750549221774694\n",
            "epoch: 193   loss: 23.736190170421814\n",
            "epoch: 194   loss: 23.72222444245146\n",
            "epoch: 195   loss: 23.7086376963162\n",
            "epoch: 196   loss: 23.695416146102215\n",
            "epoch: 197   loss: 23.68254653968552\n",
            "epoch: 198   loss: 23.670016137751396\n",
            "epoch: 199   loss: 23.657812693642878\n",
            "epoch: 200   loss: 23.645924434005302\n",
            "epoch: 201   loss: 23.63434004019552\n",
            "epoch: 202   loss: 23.6230486304254\n",
            "epoch: 203   loss: 23.612039742610456\n",
            "epoch: 204   loss: 23.6013033178959\n",
            "epoch: 205   loss: 23.590829684832958\n",
            "epoch: 206   loss: 23.580609544179982\n",
            "epoch: 207   loss: 23.570633954303485\n",
            "epoch: 208   loss: 23.560894317155302\n",
            "epoch: 209   loss: 23.551382364803143\n",
            "epoch: 210   loss: 23.542090146492637\n",
            "epoch: 211   loss: 23.533010016219773\n",
            "epoch: 212   loss: 23.52413462079348\n",
            "epoch: 213   loss: 23.515456888369194\n",
            "epoch: 214   loss: 23.50697001743437\n",
            "epoch: 215   loss: 23.49866746622853\n",
            "epoch: 216   loss: 23.490542942580188\n",
            "epoch: 217   loss: 23.482590394144545\n",
            "epoch: 218   loss: 23.474803999025823\n",
            "epoch: 219   loss: 23.46717815676922\n",
            "epoch: 220   loss: 23.45970747970771\n",
            "epoch: 221   loss: 23.4523867846498\n",
            "epoch: 222   loss: 23.445211084894613\n",
            "epoch: 223   loss: 23.438175582561513\n",
            "epoch: 224   loss: 23.43127566122169\n",
            "epoch: 225   loss: 23.424506878819894\n",
            "epoch: 226   loss: 23.417864960874738\n",
            "epoch: 227   loss: 23.411345793946637\n",
            "epoch: 228   loss: 23.40494541936284\n",
            "epoch: 229   loss: 23.39866002718921\n",
            "epoch: 230   loss: 23.39248595043928\n",
            "epoch: 231   loss: 23.38641965951099\n",
            "epoch: 232   loss: 23.3804577568422\n",
            "epoch: 233   loss: 23.37459697177632\n",
            "epoch: 234   loss: 23.3688341556298\n",
            "epoch: 235   loss: 23.363166276953454\n",
            "epoch: 236   loss: 23.357590416979995\n",
            "epoch: 237   loss: 23.35210376525041\n",
            "epoch: 238   loss: 23.34670361541216\n",
            "epoch: 239   loss: 23.34138736118238\n",
            "epoch: 240   loss: 23.33615249246954\n",
            "epoch: 241   loss: 23.33099659164746\n",
            "epoch: 242   loss: 23.325917329975418\n",
            "epoch: 243   loss: 23.320912464158898\n",
            "epoch: 244   loss: 23.315979833045134\n",
            "epoch: 245   loss: 23.311117354448307\n",
            "epoch: 246   loss: 23.306323022099306\n",
            "epoch: 247   loss: 23.301594902714978\n",
            "epoch: 248   loss: 23.29693113318231\n",
            "epoch: 249   loss: 23.29232991785296\n",
            "epoch: 250   loss: 23.287789525943786\n",
            "epoch: 251   loss: 23.28330828903917\n",
            "epoch: 252   loss: 23.278884598691178\n",
            "epoch: 253   loss: 23.27451690411368\n",
            "epoch: 254   loss: 23.270203709966687\n",
            "epoch: 255   loss: 23.26594357422743\n",
            "epoch: 256   loss: 23.261735106144723\n",
            "epoch: 257   loss: 23.25757696427329\n",
            "epoch: 258   loss: 23.25346785458499\n",
            "epoch: 259   loss: 23.24940652865386\n",
            "epoch: 260   loss: 23.24539178191207\n",
            "epoch: 261   loss: 23.24142245197403\n",
            "epoch: 262   loss: 23.237497417025953\n",
            "epoch: 263   loss: 23.233615594278252\n",
            "epoch: 264   loss: 23.229775938478404\n",
            "epoch: 265   loss: 23.2259774404818\n",
            "epoch: 266   loss: 23.222219125878333\n",
            "epoch: 267   loss: 23.2185000536726\n",
            "epoch: 268   loss: 23.21481931501548\n",
            "epoch: 269   loss: 23.21117603198516\n",
            "epoch: 270   loss: 23.20756935641572\n",
            "epoch: 271   loss: 23.203998468771175\n",
            "epoch: 272   loss: 23.20046257706351\n",
            "epoch: 273   loss: 23.196960915812756\n",
            "epoch: 274   loss: 23.193492745047443\n",
            "epoch: 275   loss: 23.19005734934404\n",
            "epoch: 276   loss: 23.186654036903683\n",
            "epoch: 277   loss: 23.183282138664694\n",
            "epoch: 278   loss: 23.17994100744971\n",
            "epoch: 279   loss: 23.176630017145815\n",
            "epoch: 280   loss: 23.173348561916498\n",
            "epoch: 281   loss: 23.170096055444244\n",
            "epoch: 282   loss: 23.16687193020237\n",
            "epoch: 283   loss: 23.16367563675521\n",
            "epoch: 284   loss: 23.160506643085313\n",
            "epoch: 285   loss: 23.157364433946704\n",
            "epoch: 286   loss: 23.154248510243193\n",
            "epoch: 287   loss: 23.151158388430737\n",
            "epoch: 288   loss: 23.148093599942843\n",
            "epoch: 289   loss: 23.14505369063824\n",
            "epoch: 290   loss: 23.142038220269832\n",
            "epoch: 291   loss: 23.13904676197419\n",
            "epoch: 292   loss: 23.13607890178068\n",
            "epoch: 293   loss: 23.13313423813955\n",
            "epoch: 294   loss: 23.130212381468176\n",
            "epoch: 295   loss: 23.127312953714828\n",
            "epoch: 296   loss: 23.124435587939132\n",
            "epoch: 297   loss: 23.121579927908762\n",
            "epoch: 298   loss: 23.118745627711565\n",
            "epoch: 299   loss: 23.11593235138261\n",
            "epoch: 300   loss: 23.11313977254553\n",
            "epoch: 301   loss: 23.11036757406764\n",
            "epoch: 302   loss: 23.10761544772827\n",
            "epoch: 303   loss: 23.104883093899776\n",
            "epoch: 304   loss: 23.10217022124078\n",
            "epoch: 305   loss: 23.09947654640114\n",
            "epoch: 306   loss: 23.096801793738166\n",
            "epoch: 307   loss: 23.09414569504371\n",
            "epoch: 308   loss: 23.09150798928162\n",
            "epoch: 309   loss: 23.088888422335266\n",
            "epoch: 310   loss: 23.08628674676455\n",
            "epoch: 311   loss: 23.08370272157236\n",
            "epoch: 312   loss: 23.081136111979703\n",
            "epoch: 313   loss: 23.078586689209505\n",
            "epoch: 314   loss: 23.07605423027855\n",
            "epoch: 315   loss: 23.07353851779734\n",
            "epoch: 316   loss: 23.071039339777503\n",
            "epoch: 317   loss: 23.068556489446518\n",
            "epoch: 318   loss: 23.066089765069403\n",
            "epoch: 319   loss: 23.06363896977716\n",
            "epoch: 320   loss: 23.0612039114017\n",
            "epoch: 321   loss: 23.05878440231692\n",
            "epoch: 322   loss: 23.056380259285852\n",
            "epoch: 323   loss: 23.05399130331346\n",
            "epoch: 324   loss: 23.051617359505027\n",
            "epoch: 325   loss: 23.049258256929836\n",
            "epoch: 326   loss: 23.046913828489906\n",
            "epoch: 327   loss: 23.04458391079372\n",
            "epoch: 328   loss: 23.042268344034568\n",
            "epoch: 329   loss: 23.039966971873515\n",
            "epoch: 330   loss: 23.037679641326662\n",
            "epoch: 331   loss: 23.035406202656628\n",
            "epoch: 332   loss: 23.03314650926805\n",
            "epoch: 333   loss: 23.03090041760694\n",
            "epoch: 334   loss: 23.028667787063814\n",
            "epoch: 335   loss: 23.026448479880333\n",
            "epoch: 336   loss: 23.024242361059446\n",
            "epoch: 337   loss: 23.02204929827879\n",
            "epoch: 338   loss: 23.01986916180734\n",
            "epoch: 339   loss: 23.017701824425004\n",
            "epoch: 340   loss: 23.015547161345307\n",
            "epoch: 341   loss: 23.013405050140786\n",
            "epoch: 342   loss: 23.01127537067116\n",
            "epoch: 343   loss: 23.009158005014072\n",
            "epoch: 344   loss: 23.007052837398437\n",
            "epoch: 345   loss: 23.004959754140096\n",
            "epoch: 346   loss: 23.00287864357986\n",
            "epoch: 347   loss: 23.0008093960238\n",
            "epoch: 348   loss: 22.998751903685662\n",
            "epoch: 349   loss: 22.996706060631332\n",
            "epoch: 350   loss: 22.994671762725346\n",
            "epoch: 351   loss: 22.9926489075793\n",
            "epoch: 352   loss: 22.99063739450205\n",
            "epoch: 353   loss: 22.98863712445174\n",
            "epoch: 354   loss: 22.986647999989533\n",
            "epoch: 355   loss: 22.98466992523494\n",
            "epoch: 356   loss: 22.982702805822758\n",
            "epoch: 357   loss: 22.980746548861532\n",
            "epoch: 358   loss: 22.978801062893417\n",
            "epoch: 359   loss: 22.97686625785557\n",
            "epoch: 360   loss: 22.97494204504272\n",
            "epoch: 361   loss: 22.9730283370712\n",
            "epoch: 362   loss: 22.971125047844126\n",
            "epoch: 363   loss: 22.96923209251781\n",
            "epoch: 364   loss: 22.96734938746938\n",
            "epoch: 365   loss: 22.96547685026541\n",
            "epoch: 366   loss: 22.96361439963172\n",
            "epoch: 367   loss: 22.961761955424155\n",
            "epoch: 368   loss: 22.959919438600384\n",
            "epoch: 369   loss: 22.958086771192637\n",
            "epoch: 370   loss: 22.956263876281376\n",
            "epoch: 371   loss: 22.954450677969835\n",
            "epoch: 372   loss: 22.952647101359442\n",
            "epoch: 373   loss: 22.950853072526026\n",
            "epoch: 374   loss: 22.949068518496848\n",
            "epoch: 375   loss: 22.94729336722836\n",
            "epoch: 376   loss: 22.945527547584742\n",
            "epoch: 377   loss: 22.943770989317088\n",
            "epoch: 378   loss: 22.942023623043326\n",
            "epoch: 379   loss: 22.940285380228744\n",
            "epoch: 380   loss: 22.938556193167184\n",
            "epoch: 381   loss: 22.936835994962816\n",
            "epoch: 382   loss: 22.935124719512533\n",
            "epoch: 383   loss: 22.933422301488868\n",
            "epoch: 384   loss: 22.931728676323456\n",
            "epoch: 385   loss: 22.930043780191053\n",
            "epoch: 386   loss: 22.928367549994032\n",
            "epoch: 387   loss: 22.926699923347382\n",
            "epoch: 388   loss: 22.925040838564126\n",
            "epoch: 389   loss: 22.923390234641257\n",
            "epoch: 390   loss: 22.921748051246084\n",
            "epoch: 391   loss: 22.92011422870295\n",
            "epoch: 392   loss: 22.918488707980423\n",
            "epoch: 393   loss: 22.91687143067883\n",
            "epoch: 394   loss: 22.915262339018195\n",
            "epoch: 395   loss: 22.913661375826486\n",
            "epoch: 396   loss: 22.9120684845283\n",
            "epoch: 397   loss: 22.910483609133767\n",
            "epoch: 398   loss: 22.90890669422791\n",
            "epoch: 399   loss: 22.90733768496018\n",
            "epoch: 400   loss: 22.90577652703441\n",
            "epoch: 401   loss: 22.904223166698984\n",
            "epoch: 402   loss: 22.902677550737312\n",
            "epoch: 403   loss: 22.90113962645859\n",
            "epoch: 404   loss: 22.899609341688777\n",
            "epoch: 405   loss: 22.898086644761875\n",
            "epoch: 406   loss: 22.896571484511426\n",
            "epoch: 407   loss: 22.89506381026222\n",
            "epoch: 408   loss: 22.8935635718223\n",
            "epoch: 409   loss: 22.89207071947509\n",
            "epoch: 410   loss: 22.890585203971803\n",
            "epoch: 411   loss: 22.889106976524044\n",
            "epoch: 412   loss: 22.88763598879659\n",
            "epoch: 413   loss: 22.886172192900343\n",
            "epoch: 414   loss: 22.884715541385543\n",
            "epoch: 415   loss: 22.883265987235056\n",
            "epoch: 416   loss: 22.881823483857893\n",
            "epoch: 417   loss: 22.880387985082898\n",
            "epoch: 418   loss: 22.878959445152592\n",
            "epoch: 419   loss: 22.87753781871711\n",
            "epoch: 420   loss: 22.87612306082839\n",
            "epoch: 421   loss: 22.874715126934426\n",
            "epoch: 422   loss: 22.873313972873685\n",
            "epoch: 423   loss: 22.87191955486969\n",
            "epoch: 424   loss: 22.870531829525675\n",
            "epoch: 425   loss: 22.869150753819397\n",
            "epoch: 426   loss: 22.867776285098085\n",
            "epoch: 427   loss: 22.866408381073477\n",
            "epoch: 428   loss: 22.86504699981699\n",
            "epoch: 429   loss: 22.86369209975501\n",
            "epoch: 430   loss: 22.86234363966423\n",
            "epoch: 431   loss: 22.861001578667164\n",
            "epoch: 432   loss: 22.859665876227766\n",
            "epoch: 433   loss: 22.858336492147036\n",
            "epoch: 434   loss: 22.857013386558855\n",
            "epoch: 435   loss: 22.855696519925832\n",
            "epoch: 436   loss: 22.854385853035254\n",
            "epoch: 437   loss: 22.85308134699514\n",
            "epoch: 438   loss: 22.85178296323036\n",
            "epoch: 439   loss: 22.85049066347882\n",
            "epoch: 440   loss: 22.849204409787777\n",
            "epoch: 441   loss: 22.847924164510168\n",
            "epoch: 442   loss: 22.846649890301048\n",
            "epoch: 443   loss: 22.8453815501141\n",
            "epoch: 444   loss: 22.844119107198193\n",
            "epoch: 445   loss: 22.84286252509401\n",
            "epoch: 446   loss: 22.841611767630784\n",
            "epoch: 447   loss: 22.840366798923007\n",
            "epoch: 448   loss: 22.839127583367333\n",
            "epoch: 449   loss: 22.837894085639363\n",
            "epoch: 450   loss: 22.836666270690678\n",
            "epoch: 451   loss: 22.835444103745782\n",
            "epoch: 452   loss: 22.83422755029918\n",
            "epoch: 453   loss: 22.83301657611246\n",
            "epoch: 454   loss: 22.831811147211482\n",
            "epoch: 455   loss: 22.83061122988356\n",
            "epoch: 456   loss: 22.8294167906747\n",
            "epoch: 457   loss: 22.828227796386948\n",
            "epoch: 458   loss: 22.827044214075727\n",
            "epoch: 459   loss: 22.825866011047175\n",
            "epoch: 460   loss: 22.82469315485566\n",
            "epoch: 461   loss: 22.8235256133012\n",
            "epoch: 462   loss: 22.82236335442702\n",
            "epoch: 463   loss: 22.82120634651707\n",
            "epoch: 464   loss: 22.820054558093684\n",
            "epoch: 465   loss: 22.81890795791514\n",
            "epoch: 466   loss: 22.817766514973414\n",
            "epoch: 467   loss: 22.816630198491822\n",
            "epoch: 468   loss: 22.815498977922815\n",
            "epoch: 469   loss: 22.814372822945728\n",
            "epoch: 470   loss: 22.8132517034646\n",
            "epoch: 471   loss: 22.812135589606036\n",
            "epoch: 472   loss: 22.81102445171705\n",
            "epoch: 473   loss: 22.809918260363006\n",
            "epoch: 474   loss: 22.80881698632555\n",
            "epoch: 475   loss: 22.807720600600565\n",
            "epoch: 476   loss: 22.80662907439618\n",
            "epoch: 477   loss: 22.805542379130795\n",
            "epoch: 478   loss: 22.804460486431132\n",
            "epoch: 479   loss: 22.803383368130316\n",
            "epoch: 480   loss: 22.802310996265973\n",
            "epoch: 481   loss: 22.80124334307838\n",
            "epoch: 482   loss: 22.8001803810086\n",
            "epoch: 483   loss: 22.799122082696698\n",
            "epoch: 484   loss: 22.798068420979913\n",
            "epoch: 485   loss: 22.79701936889089\n",
            "epoch: 486   loss: 22.795974899655967\n",
            "epoch: 487   loss: 22.794934986693402\n",
            "epoch: 488   loss: 22.793899603611727\n",
            "epoch: 489   loss: 22.792868724207988\n",
            "epoch: 490   loss: 22.79184232246618\n",
            "epoch: 491   loss: 22.790820372555537\n",
            "epoch: 492   loss: 22.789802848828934\n",
            "epoch: 493   loss: 22.788789725821296\n",
            "epoch: 494   loss: 22.787780978248012\n",
            "epoch: 495   loss: 22.78677658100337\n",
            "epoch: 496   loss: 22.785776509159035\n",
            "epoch: 497   loss: 22.78478073796249\n",
            "epoch: 498   loss: 22.783789242835578\n",
            "epoch: 499   loss: 22.78280199937296\n"
          ]
        },
        {
          "output_type": "execute_result",
          "data": {
            "text/plain": [
              "[<matplotlib.lines.Line2D at 0x7f86f267a190>]"
            ]
          },
          "metadata": {},
          "execution_count": 210
        },
        {
          "output_type": "display_data",
          "data": {
            "image/png": "[encoded data removed]",
            "text/plain": [
              "<Figure size 432x288 with 1 Axes>"
            ]
          },
          "metadata": {
            "needs_background": "light"
          }
        }
      ]
    },
    {
      "cell_type": "code",
      "metadata": {
        "colab": {
          "base_uri": "https://localhost:8080/"
        },
        "id": "LJkBysxyxeDE",
        "outputId": "9c894777-7499-420d-db96-1f4d1fc5ed62"
      },
      "source": [
        "y_train_pred = predict(X_train,theta)\n",
        "print(y_train_pred)"
      ],
      "execution_count": 211,
      "outputs": [
        {
          "output_type": "stream",
          "name": "stdout",
          "text": [
            "[14.01487531 44.11066547  4.47563695 22.45105301 18.14299706 24.42238856\n",
            " 29.54631542 18.41481083 28.27715061 24.11164518 20.42120044 32.57202386\n",
            " 19.61819401 11.59382731 22.01197028 17.09390593 18.68958913 16.27114281\n",
            " 21.39842584 34.65872994 21.91746864 20.18033306 23.90261518 26.19554676\n",
            " 20.78575163 23.92795729 24.31129678 40.39339258 40.76358619 29.12637631\n",
            " 12.81146369 16.18096806 18.15459728 21.33127278 15.95123336  5.69617166\n",
            " 23.8988567  31.12311601 23.06702461 20.53577757 16.35790701 22.60700247\n",
            " 34.79049125 26.62175642 30.95067804 17.50980846 22.86790221 29.50122434\n",
            " 13.41053843 35.32442092 11.11668604 13.43936334 27.11875495 30.7222542\n",
            " 13.12426443 24.64699052 29.08186748 32.06250681 15.81988142 30.99733125\n",
            "  7.56789855 33.84088186 25.25363137 20.56918505 15.57499814 12.71294577\n",
            " 30.96950399 15.3877313  23.76360537 20.75656664 13.90465661 20.79907137\n",
            " 13.69738281 21.48469961 22.56035293 33.34226127 22.60411365 16.26589392\n",
            " 31.19473534 40.05547874 26.58014558 25.22248799 16.02704054 15.68457044\n",
            " 36.72208323 23.90117966 33.47401878 25.59813238 21.32405922 17.64074471\n",
            " 22.98244913 18.48951383 32.00416596 16.46085844 25.7514248  26.79883206\n",
            " 23.26044635 24.16022077 34.74521168 18.86933711 29.90116573 28.35878089\n",
            " 12.90118376 32.67813199 27.55529663 19.33872235 34.6914167  14.5181214\n",
            " 24.97679929 27.70147362 21.79816076 18.19865736 19.89728732 24.15879727\n",
            " 19.87723358 32.28259743 25.05947469 19.91201701  7.65032759  7.47394384\n",
            " 21.93178349 19.71691624 21.86782444 20.95689319 17.8099479  31.09905484\n",
            " 37.20986129 20.0029653  13.22169595 26.77182861 16.71722584 24.69480618\n",
            " 17.84395407 23.58705399 15.18627468 19.67136234 13.26936587 21.55435302\n",
            " 26.81262053 23.0583518  17.00907167 15.30527343 21.67924106 38.06155272\n",
            " 18.03384792 16.0607078  17.4829998  24.70051153 17.68389938 20.91021877\n",
            " 24.87969294 17.11469757 28.24243598 18.22229917 19.35232338 22.62037193\n",
            " 30.55042186 25.58148115 28.07495774 26.7643284  31.82847044 24.77949329\n",
            " 23.26676922 22.51033455 36.96432522 17.22544647 30.57840762 28.76408723\n",
            " 13.55939527 35.07678712 23.0754224  16.07082367 15.81947327 13.92348927\n",
            " 29.73034971 15.13218611 17.58887392 28.53280942 31.38122532 29.43182528\n",
            " 20.30817941 13.14567781 27.75291644 24.49431217 23.36632575 27.31840693\n",
            " 25.80281419 26.22762884 23.56749238 18.82817675 17.39437794 12.15750989\n",
            " 20.27209399 25.02749481 13.3138647  33.63507439 35.9253996  18.55502145\n",
            " 10.78948407 32.71133402 25.65015647 21.26746856 25.71342458 25.66862394\n",
            " 23.97401649 20.71805386 25.2631777  36.38098738 22.3645131  21.70456807\n",
            " 19.78684778 21.80731047 23.27741706 33.82436691 16.33638718 18.71450088\n",
            " 15.10770189 31.53609067 43.29783318 22.05750947 24.16729926  7.94292272\n",
            " 32.09535063 20.11362878 19.1488832  25.04376907 23.80476075  3.5560939\n",
            " 17.20345859 12.39791835 12.41939478 15.31037143 20.21982916 37.50210591\n",
            " 31.5091546  20.57870763  9.86929892 39.42770576 20.18150935 15.73289121\n",
            " 19.62456526 18.63337963 32.68294892 31.5210895  21.54936465 17.51218948\n",
            " 22.47698461 25.06616363 21.29799657 26.88514646 11.88635983 30.91471327\n",
            " 24.9928719  16.92720689 26.09150329 22.14840653 27.5564451  26.0555442\n",
            " 34.79936541 27.68770181 19.13413396 15.63334019 19.29543399 28.85539243\n",
            " 25.71062983 28.20971611 32.95779666 20.17822535 13.6312266  32.75014415\n",
            " 24.54126856 29.4048156  35.25708401 10.33203897 23.72775426 24.10574266\n",
            " 17.0084544  39.36738269 19.73075062 26.03614246 21.00340374 25.75590076\n",
            " 32.99227073 18.31605485 25.1871312  34.13614426 36.97391444  6.60003667\n",
            " 17.7010908  24.70769638 11.4956264  28.6040868  35.82637059 23.56367836\n",
            " 13.35987625  9.712759   18.35712067  2.53170932 22.25014718 11.6355574\n",
            " 31.13667936  5.73531131 11.9541609  22.7040938  23.69071648  7.74904997\n",
            " 18.12320378 37.96115961 24.96342286 -0.3100791  16.37785415 12.62621571\n",
            " 33.73534653 29.03922079 14.29668077 23.253032   32.67640944 23.00708548\n",
            " 28.42116476 18.95986766 19.61470795 25.5919976  21.31517139 17.53501749\n",
            " 30.92500994 27.55765415 26.36271309 10.66870175 21.26175436 21.15573902\n",
            " 27.61876995  5.00801938 30.61099233 13.54634521 19.34382933 40.48618669\n",
            " 31.55382674 14.93862245 19.86485617 38.48060098 20.51193081 17.11255427\n",
            " 13.07882614 33.34527122 35.93168829  8.70024215 18.54909745 23.65334801\n",
            " 25.39101694 36.42817733 26.69351337 21.33534497 32.67374216 19.73083334\n",
            " 24.47561155 21.07139732  5.91418619 36.7081252  25.45913046 25.61677946\n",
            " 20.43279051  8.91448342 20.57888628 21.72485995  7.49137791 21.17977136\n",
            " 28.07725546 19.37936164 19.29204056 19.90903406 24.39972954 16.05674976\n",
            " 20.13686788 21.90063653 16.60055026 11.02122278 17.24894061 30.48575911\n",
            " 40.86860107 22.3898681  22.68059431 14.4455941  28.45233254  7.69982852\n",
            " 20.88067741 10.26561664 42.05695377 19.06979904 23.1090655  28.75738114\n",
            " 20.98515026 15.2662342  17.93969722 33.07104329 35.48056203 10.49787769\n",
            " 23.86496471 11.35513224 20.54778228 19.65248816 34.97824976 17.36388694\n",
            " 23.26181399 17.6784563 ]\n"
          ]
        }
      ]
    },
    {
      "cell_type": "code",
      "metadata": {
        "colab": {
          "base_uri": "https://localhost:8080/"
        },
        "id": "5cetUqE2nl5s",
        "outputId": "25496c91-2dbb-4b99-8415-f5d697b523fc"
      },
      "source": [
        "# metrics on train set\n",
        "\n",
        "print('MSE:', cost_function(Y_train,y_train_pred))\n",
        "print('RMSE:', np.sqrt(cost_function(Y_train,y_train_pred)))\n",
        "RSS_sum_of_squares_of_residual_errors = np.sum((Y_train-y_train_pred)**2)\n",
        "TSS_total_sum_of_errors = np.sum((Y_train - Y_train.mean(axis = 0))**2)\n",
        "R2_score = 1 - (RSS_sum_of_squares_of_residual_errors / TSS_total_sum_of_errors)\n",
        "print('R2_score:',R2_score)\n",
        "\n",
        "\n"
      ],
      "execution_count": 212,
      "outputs": [
        {
          "output_type": "stream",
          "name": "stdout",
          "text": [
            "MSE: 22.78280199937296\n",
            "RMSE: 4.7731333523559725\n",
            "R2_score: 0.7347805381638891\n"
          ]
        }
      ]
    },
    {
      "cell_type": "markdown",
      "metadata": {
        "id": "4yesnuA7v2BF"
      },
      "source": [
        "**Testing Phase**"
      ]
    },
    {
      "cell_type": "code",
      "metadata": {
        "id": "szjIqeupkq8A",
        "colab": {
          "base_uri": "https://localhost:8080/"
        },
        "outputId": "b3cd10ef-b7c3-4f67-c887-af43a9d53558"
      },
      "source": [
        "y_test_pred = predict(X_test,theta)\n",
        "y_test_pred"
      ],
      "execution_count": 213,
      "outputs": [
        {
          "output_type": "execute_result",
          "data": {
            "text/plain": [
              "array([37.34435904, 31.07663036, 27.31707351,  5.20434001, 35.12096616,\n",
              "        5.71542419, 27.72489504, 31.71909305, 27.07493407, 22.38242648,\n",
              "       32.41118143, 21.24334936, 23.56817968, 32.54293515, 27.85469428,\n",
              "       15.70431861, -0.53456435, 19.21093179, 14.16261688, 13.79586594,\n",
              "        4.11089457, 20.23851418, 38.0299953 , 24.29686283, 31.36489305,\n",
              "       11.20640678, 25.02584523, 23.9190132 , 22.56366646, 22.09270149,\n",
              "       13.372076  ,  9.00658465, 18.1592105 , 22.7041932 , 28.58258096,\n",
              "       19.54492175, 30.13670218,  8.59857372, 41.01907316, 34.0617112 ,\n",
              "       20.52343482,  2.91465829, 29.48488577, 12.08334197, 26.71276317,\n",
              "       30.99246861, -6.19172242, 18.02123809, 21.71727271, 12.9745217 ,\n",
              "       20.8913459 , 19.36701156, 23.99605689, 12.98350909, 17.82144879,\n",
              "       25.53578191, 35.46616071, 15.29383697, 27.94309239, 20.76261285,\n",
              "       20.85543292, 25.83555943, 15.04635105, 33.04443527, 23.64508883,\n",
              "       12.94453761, 19.67352269, 24.59380609, 21.42231682, 21.5853697 ,\n",
              "       20.25406871, 27.08742409, 16.61350094, 18.57754336, 20.02155627,\n",
              "       25.0790567 , 21.81857569, 15.26743018, 34.27263755, 18.38013504,\n",
              "       22.69817698, 41.94625564, 23.01019607, 15.61236777, 25.3506586 ,\n",
              "       17.1956976 , 18.85787924,  9.73396743, 18.53951357, 18.50128326,\n",
              "       35.6346038 , 17.76825244, 21.76840015, 19.25995286, 25.79406123,\n",
              "       27.62777673, 12.83772934, 23.53284379, 22.26884705, 13.76768558,\n",
              "       23.44104809, 21.39790288])"
            ]
          },
          "metadata": {},
          "execution_count": 213
        }
      ]
    },
    {
      "cell_type": "code",
      "metadata": {
        "colab": {
          "base_uri": "https://localhost:8080/"
        },
        "id": "N7a41LU1q8xq",
        "outputId": "ef26c3b1-d95f-4e42-dc11-ea0545c773a0"
      },
      "source": [
        "Y_test\n"
      ],
      "execution_count": 214,
      "outputs": [
        {
          "output_type": "execute_result",
          "data": {
            "text/plain": [
              "array([37.6, 27.9, 22.6, 13.8, 35.2, 10.4, 23.9, 29. , 22.8, 23.2, 33.2,\n",
              "       19. , 20.3, 36.1, 24.4, 17.2, 17.9, 19.6, 19.7, 15. ,  8.1, 23. ,\n",
              "       44.8, 23.1, 32.2, 10.8, 23.1, 21.2, 22.2, 24.1, 17.3,  7. , 12.7,\n",
              "       17.8, 26.4, 19.6, 25.1,  8.3, 48.8, 34.9, 13.8, 14.4, 30.1, 12.7,\n",
              "       27.1, 24.8,  7. , 20.5, 21.5, 14. , 20.4, 22.2, 21.4, 13.5, 19.4,\n",
              "       24.7, 43.8, 14.1, 28.6, 19.7, 16.8, 23.2, 16.2, 41.3, 22.7,  8.3,\n",
              "       18.4, 24.7, 21.7, 20.6, 16.7, 22.1, 19.4, 27.5, 27.9, 30.1, 17.4,\n",
              "       15.4, 31. , 14.2, 19.6, 50. , 21.7, 11.7, 19.4, 13. , 17.5,  9.7,\n",
              "       20.3, 18.6, 50. , 19.6, 21.4, 18.4, 22.6, 25. , 15.6, 26.6, 22.4,\n",
              "       13.1, 23. , 24.5])"
            ]
          },
          "metadata": {},
          "execution_count": 214
        }
      ]
    },
    {
      "cell_type": "code",
      "metadata": {
        "colab": {
          "base_uri": "https://localhost:8080/"
        },
        "id": "_DVZQWYnqtc-",
        "outputId": "2e8ee1a5-5839-475b-b321-aac39748e341"
      },
      "source": [
        "# metrics on test set\n",
        "\n",
        "print('MSE:', cost_function(Y_test,y_test_pred))\n",
        "print('RMSE:', np.sqrt(cost_function(Y_test,y_test_pred)))\n",
        "RSS_sum_of_squares_of_residual_errors = np.sum((Y_test-y_test_pred)**2)\n",
        "TSS_total_sum_of_errors = np.sum((Y_test - Y_test.mean(axis = 0))**2)\n",
        "R2_score = 1 - (RSS_sum_of_squares_of_residual_errors / TSS_total_sum_of_errors)\n",
        "print('R2_score:',R2_score)\n",
        "\n"
      ],
      "execution_count": 215,
      "outputs": [
        {
          "output_type": "stream",
          "name": "stdout",
          "text": [
            "MSE: 20.657849028347588\n",
            "RMSE: 4.545090651279421\n",
            "R2_score: 0.7361498496599224\n"
          ]
        }
      ]
    }
  ]
}